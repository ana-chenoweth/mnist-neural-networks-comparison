{
  "cells": [
    {
      "cell_type": "markdown",
      "metadata": {
        "id": "QFCx-c3MB4N0"
      },
      "source": [
        "[Volver al Índice](https://drive.google.com/file/d/1PTrZfdMxkR8IQYFSRHXJEWdQ3qpe4qm4/view?usp=sharing)  🏠\n",
        "\n",
        "\n",
        "---\n",
        "\n"
      ]
    },
    {
      "cell_type": "code",
      "execution_count": 1,
      "metadata": {
        "id": "zmVw_o0p0zZb"
      },
      "outputs": [],
      "source": [
        "import tensorflow as tf"
      ]
    },
    {
      "cell_type": "code",
      "execution_count": 2,
      "metadata": {
        "colab": {
          "base_uri": "https://localhost:8080/",
          "height": 35
        },
        "id": "DdDXiF9u-RG7",
        "outputId": "8f764c13-b17a-436a-de35-ba533c72e19b"
      },
      "outputs": [
        {
          "data": {
            "text/plain": [
              "'2.15.0'"
            ]
          },
          "execution_count": 2,
          "metadata": {},
          "output_type": "execute_result"
        }
      ],
      "source": [
        "tf.__version__"
      ]
    },
    {
      "cell_type": "code",
      "execution_count": 3,
      "metadata": {
        "id": "p8UvJHLErCk2"
      },
      "outputs": [],
      "source": [
        "import math\n",
        "import tensorflow_datasets as tfds\n",
        "import tensorflow_decision_forests as tfdf"
      ]
    },
    {
      "cell_type": "code",
      "execution_count": 6,
      "metadata": {
        "id": "HsyrwJuFYeGv"
      },
      "outputs": [],
      "source": [
        "import time\n",
        "import numpy as np\n",
        "import datetime\n",
        "import zoneinfo\n",
        "import matplotlib.pyplot as plt\n"
      ]
    },
    {
      "cell_type": "code",
      "execution_count": 7,
      "metadata": {
        "id": "eOmJGwO5rKic"
      },
      "outputs": [],
      "source": [
        "#Funcion de normalizacion para los datos (Pasar valor de los pixeles de 0-255 a 0-1)\n",
        "#Hace que la red aprenda mejor y mas rapido\n",
        "def normalizar(imagenes, etiquetas):\n",
        "  imagenes = tf.cast(imagenes, tf.float32)\n",
        "  imagenes /= 255 #Aqui lo pasa de 0-255 a 0-1\n",
        "  return imagenes, etiquetas"
      ]
    },
    {
      "cell_type": "code",
      "execution_count": 8,
      "metadata": {
        "colab": {
          "base_uri": "https://localhost:8080/",
          "height": 84,
          "referenced_widgets": [
            "00e5300cc0d3405f8aaa871fd5883e33",
            "3be09999f4c34cafb8d1bf0d8ef59018",
            "d13bbaa079b941918e61a0163bcd7078",
            "29632626de084b8c967fbefb5bb8ecfb",
            "99d3530cb49044f68c5d7d1a43c4078b",
            "ba9a620c92b24f15b94d9a62f1cb7c67",
            "e938c23c492d463092c7616741da88d6",
            "9801cd9910b84253b24c35e67d84cb64",
            "a6f5a5e24d93439bac8153c76de5edca",
            "17bc5065960b407b8a7b4918c36afa1f",
            "bb4eed21d329451bba832d96758876b6"
          ]
        },
        "id": "NwQ8DW5frCZm",
        "outputId": "e3daebb3-5117-4da6-92ea-aded84f7306d"
      },
      "outputs": [],
      "source": [
        "#Descargar set de datos de MNIST (Numeros escritos a mano, etiquetados)\n",
        "datos, metadatos = tfds.load('mnist', as_supervised=True, with_info=True)\n",
        "\n",
        "#Obtenemos en variables separadas los datos de entrenamiento (60k) y pruebas (10k)\n",
        "datos_entrenamiento, datos_pruebas = datos['train'], datos['test']\n",
        "\n",
        "#Etiquetas de las 10 categorias posibles (simplemente son los numeros del 0 al 9)\n",
        "nombres_clases = metadatos.features['label'].names\n",
        "\n",
        "#Normalizar los datos de entrenamiento y pruebas con la funcion que hicimos\n",
        "datos_entrenamiento = datos_entrenamiento.map(normalizar)\n",
        "datos_pruebas = datos_pruebas.map(normalizar)\n",
        "\n",
        "#Agregar a cache (usar memoria en lugar de disco, entrenamiento mas rapido)\n",
        "datos_entrenamiento = datos_entrenamiento.cache()\n",
        "datos_pruebas = datos_pruebas.cache()"
      ]
    },
    {
      "cell_type": "code",
      "execution_count": 9,
      "metadata": {
        "id": "r8Afbqvc-Kjz"
      },
      "outputs": [],
      "source": [
        "#Crear el modelo\n",
        "modeloCNN = tf.keras.Sequential([\n",
        "\n",
        "  tf.keras.layers.Input(shape=(28, 28, 1)),\n",
        "    tf.keras.layers.Conv2D(32, (3,3), activation='relu' ),\n",
        "    tf.keras.layers.MaxPooling2D(2, 2),\n",
        "\n",
        "    tf.keras.layers.Conv2D(64, (3,3), activation='relu'),\n",
        "    tf.keras.layers.MaxPooling2D(2,2),\n",
        "\n",
        "    tf.keras.layers.Conv2D(128, (3,3), activation='relu'),\n",
        "    tf.keras.layers.MaxPooling2D(2,2),\n",
        "\n",
        "    tf.keras.layers.Dropout(0.5),\n",
        "    tf.keras.layers.Flatten(),\n",
        "    tf.keras.layers.Dense(512, activation='relu'),\n",
        "    tf.keras.layers.Dense(10, activation=tf.nn.softmax) #Para redes de clasificacion\n",
        "])"
      ]
    },
    {
      "cell_type": "code",
      "execution_count": 10,
      "metadata": {
        "id": "x5g65s5e7zn6"
      },
      "outputs": [],
      "source": [
        "#Compilar el modelo\n",
        "modeloCNN.compile(\n",
        "    optimizer='adam',\n",
        "    loss=tf.keras.losses.SparseCategoricalCrossentropy(),\n",
        "    metrics=['accuracy']\n",
        ")\n"
      ]
    },
    {
      "cell_type": "code",
      "execution_count": 11,
      "metadata": {
        "id": "POI1pzUp73aC"
      },
      "outputs": [],
      "source": [
        "#Los numeros de datos en entrenamiento y pruebas (60k y 10k)\n",
        "num_ej_entrenamiento = metadatos.splits[\"train\"].num_examples\n",
        "num_ej_pruebas = metadatos.splits[\"test\"].num_examples\n",
        "\n",
        "#El trabajo por lotes permite que entrenamientos con gran cantidad de datos se haga de manera mas eficiente\n",
        "TAMANO_LOTE = 32\n",
        "\n",
        "#Shuffle y repeat hacen que los datos esten mezclados de manera aleatoria para que la red\n",
        "#no se vaya a aprender el orden de las cosas\n",
        "datos_entrenamiento = datos_entrenamiento.repeat().shuffle(num_ej_entrenamiento).batch(TAMANO_LOTE)\n",
        "datos_pruebas = datos_pruebas.batch(TAMANO_LOTE)"
      ]
    },
    {
      "cell_type": "code",
      "execution_count": 13,
      "metadata": {
        "colab": {
          "base_uri": "https://localhost:8080/"
        },
        "id": "FVrHX7rhXUyj",
        "outputId": "e3b7d368-e3ba-4f85-9aeb-611428e0e6fa"
      },
      "outputs": [
        {
          "name": "stdout",
          "output_type": "stream",
          "text": [
            "Epoch 1/20\n",
            "1875/1875 [==============================] - 24s 10ms/step - loss: 0.2748 - accuracy: 0.9134\n",
            "Epoch 2/20\n",
            "1875/1875 [==============================] - 19s 10ms/step - loss: 0.1116 - accuracy: 0.9677\n",
            "Epoch 3/20\n",
            "1875/1875 [==============================] - 20s 10ms/step - loss: 0.0879 - accuracy: 0.9742\n",
            "Epoch 4/20\n",
            "1875/1875 [==============================] - 21s 11ms/step - loss: 0.0770 - accuracy: 0.9778\n",
            "Epoch 5/20\n",
            "1875/1875 [==============================] - 18s 10ms/step - loss: 0.0740 - accuracy: 0.9785\n",
            "Epoch 6/20\n",
            "1875/1875 [==============================] - 19s 10ms/step - loss: 0.0653 - accuracy: 0.9815\n",
            "Epoch 7/20\n",
            "1875/1875 [==============================] - 20s 11ms/step - loss: 0.0680 - accuracy: 0.9807\n",
            "Epoch 8/20\n",
            "1875/1875 [==============================] - 18s 10ms/step - loss: 0.0749 - accuracy: 0.9804\n",
            "Epoch 9/20\n",
            "1875/1875 [==============================] - 19s 10ms/step - loss: 0.0970 - accuracy: 0.9782\n",
            "Epoch 10/20\n",
            "1875/1875 [==============================] - 18s 10ms/step - loss: 0.1361 - accuracy: 0.9765\n",
            "Epoch 11/20\n",
            "1875/1875 [==============================] - 18s 10ms/step - loss: 0.1851 - accuracy: 0.9762\n",
            "Epoch 12/20\n",
            "1875/1875 [==============================] - 19s 10ms/step - loss: 0.3000 - accuracy: 0.9732\n",
            "Epoch 13/20\n",
            "1875/1875 [==============================] - 20s 10ms/step - loss: 0.5164 - accuracy: 0.9727\n",
            "Epoch 14/20\n",
            "1875/1875 [==============================] - 19s 10ms/step - loss: 0.9317 - accuracy: 0.9703\n",
            "Epoch 15/20\n",
            "1875/1875 [==============================] - 19s 10ms/step - loss: 2.4196 - accuracy: 0.9667\n",
            "Epoch 16/20\n",
            "1875/1875 [==============================] - 18s 10ms/step - loss: 4.5014 - accuracy: 0.9643\n",
            "Epoch 17/20\n",
            "1875/1875 [==============================] - 19s 10ms/step - loss: 7.2926 - accuracy: 0.9642\n",
            "Epoch 18/20\n",
            "1875/1875 [==============================] - 18s 10ms/step - loss: 10.9905 - accuracy: 0.9633\n",
            "Epoch 19/20\n",
            "1875/1875 [==============================] - 20s 11ms/step - loss: 15.6844 - accuracy: 0.9653\n",
            "Epoch 20/20\n",
            "1875/1875 [==============================] - 20s 10ms/step - loss: 19.2938 - accuracy: 0.9654\n",
            "CPU times: user 5min 10s, sys: 2min 18s, total: 7min 28s\n",
            "Wall time: 6min 27s\n"
          ]
        }
      ],
      "source": [
        "# Tiempo estimado 20 mins (CPU), 3 mins (GPU)\n",
        "%time historial2 = modeloCNN.fit(datos_entrenamiento, epochs=20, steps_per_epoch= math.ceil(num_ej_entrenamiento/TAMANO_LOTE))"
      ]
    },
    {
      "cell_type": "code",
      "execution_count": 14,
      "metadata": {
        "colab": {
          "base_uri": "https://localhost:8080/",
          "height": 905
        },
        "id": "1W34ABwvwdul",
        "outputId": "94e162fb-675a-4b5c-a70e-d3871578b67c"
      },
      "outputs": [
        {
          "data": {
            "image/png": "[encoded data removed]",
            "text/plain": [
              "<Figure size 640x480 with 1 Axes>"
            ]
          },
          "metadata": {},
          "output_type": "display_data"
        },
        {
          "data": {
            "image/png": "[encoded data removed]",
            "text/plain": [
              "<Figure size 640x480 with 1 Axes>"
            ]
          },
          "metadata": {},
          "output_type": "display_data"
        }
      ],
      "source": [
        "plt.subplot(1,2,1)\n",
        "plt.plot(historial2.epoch,historial2.history['loss'], 'b',label='error')\n",
        "plt.title(u'categorical_crossentropy')\n",
        "plt.xlabel(u'época')\n",
        "plt.ylabel(r'$loss(\\omega, b)$')\n",
        "plt.grid(True)\n",
        "#plt.legend(loc='upper right')\n",
        "plt.show()\n",
        "\n",
        "plt.subplot(1,2,2)\n",
        "plt.plot(historial2.epoch,historial2.history['accuracy'], 'r',label='precisión')\n",
        "#plt.title(u'categorical_crossentropy')\n",
        "plt.xlabel(u'época')\n",
        "plt.ylabel(r'$accuracy(\\omega, b)$')\n",
        "plt.ylim([0,1.1])\n",
        "plt.grid(True)\n",
        "#plt.legend(loc='lower right')\n",
        "plt.show()"
      ]
    },
    {
      "cell_type": "markdown",
      "metadata": {
        "id": "AGOpAB4s5b4N"
      },
      "source": [
        "\n",
        "\n",
        "---\n",
        "\n",
        "\n",
        "\n",
        "---\n",
        "\n"
      ]
    },
    {
      "cell_type": "markdown",
      "metadata": {
        "id": "CMgBI20rn3Kd"
      },
      "source": [
        "#Exportar el modelo a TensorFlow.js"
      ]
    },
    {
      "cell_type": "markdown",
      "metadata": {
        "id": "C1CagSXl5KRI"
      },
      "source": [
        "![image.png](data:image/png;base64,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)"
      ]
    },
    {
      "cell_type": "markdown",
      "metadata": {
        "id": "f8RuiZG9zGKY"
      },
      "source": [
        "https://stackoverflow.com/questions/72672196/error-pips-dependency-resolver-does-not-currently-take-into-account-all-the-pa"
      ]
    },
    {
      "cell_type": "code",
      "execution_count": 15,
      "metadata": {
        "colab": {
          "base_uri": "https://localhost:8080/"
        },
        "id": "9GlPhh49Kgrb",
        "outputId": "1debed74-79eb-45e5-ddcf-1c95b0990612"
      },
      "outputs": [
        {
          "name": "stderr",
          "output_type": "stream",
          "text": [
            "/Users/ivana/IA-projects/mnist_intento2/nums/lib/python3.11/site-packages/keras/src/engine/training.py:3103: UserWarning: You are saving your model as an HDF5 file via `model.save()`. This file format is considered legacy. We recommend using instead the native Keras format, e.g. `model.save('my_model.keras')`.\n",
            "  saving_api.save_model(\n"
          ]
        }
      ],
      "source": [
        "#Exportar el modelo en formato h5\n",
        "modeloCNN.save('numeros_CNN.h5')"
      ]
    },
    {
      "cell_type": "code",
      "execution_count": 19,
      "metadata": {
        "colab": {
          "base_uri": "https://localhost:8080/"
        },
        "id": "P59I8q1IKgih",
        "outputId": "2bafb185-afa9-4a80-93ef-662904f1a50f"
      },
      "outputs": [
        {
          "name": "stdout",
          "output_type": "stream",
          "text": [
            "/Users/ivana/IA-projects/mnist_intento2/nums/lib/python3.11/site-packages/tensorflow_hub/__init__.py:61: UserWarning: pkg_resources is deprecated as an API. See https://setuptools.pypa.io/en/latest/pkg_resources.html. The pkg_resources package is slated for removal as early as 2025-11-30. Refrain from using this package or pin to Setuptools<81.\n",
            "  from pkg_resources import parse_version\n"
          ]
        }
      ],
      "source": [
        "#Realizar la exportacion a la carpeta de salida\n",
        "!tensorflowjs_converter --input_format=keras ./numeros_CNN.h5 ./carpeta_salida/cnn"
      ]
    },
    {
      "cell_type": "code",
      "execution_count": null,
      "metadata": {
        "colab": {
          "base_uri": "https://localhost:8080/"
        },
        "id": "Jw_TilXKKgfM",
        "outputId": "b69dfed0-ae12-4660-cae8-5b3e4cbca309"
      },
      "outputs": [
        {
          "name": "stdout",
          "output_type": "stream",
          "text": [
            "total 660\n",
            "drwxr-xr-x 2 root root   4096 Oct 15 18:16 .\n",
            "drwxr-xr-x 1 root root   4096 Oct 15 18:16 ..\n",
            "-rw-r--r-- 1 root root 655400 Oct 15 18:16 group1-shard1of1.bin\n",
            "-rw-r--r-- 1 root root   5959 Oct 15 18:16 model.json\n"
          ]
        }
      ],
      "source": [
        "#Confirmar que en la carpeta de salida se hayan generado los archivos. Deben aparecer archivos \"bin\" y \"json\"\n",
        "!ls -la carpeta_salida"
      ]
    },
    {
      "cell_type": "markdown",
      "metadata": {
        "id": "EdrOdtZw5XRW"
      },
      "source": [
        "\n",
        "\n",
        "---\n",
        "\n",
        "\n",
        "\n",
        "---\n",
        "\n"
      ]
    },
    {
      "cell_type": "markdown",
      "metadata": {
        "id": "RnUgNN58qDho"
      },
      "source": [
        "En la línea de comandos, en el directorio donde está el archivo **index.html** del proyecto\n",
        "\n",
        "\n",
        "\n",
        "```\n",
        "python -m http.server 8000\n",
        "```\n",
        "\n",
        "\n",
        "\n",
        "En el navegador\n",
        "\n",
        "\n",
        "\n",
        "```\n",
        "localhost:8000/index.html\n",
        "```\n",
        "\n",
        "\n"
      ]
    },
    {
      "cell_type": "markdown",
      "metadata": {
        "id": "CLQOaI7jC1Nx"
      },
      "source": [
        "\n",
        "\n",
        "---\n",
        "\n",
        "\n",
        "\n",
        "---\n",
        "\n"
      ]
    },
    {
      "cell_type": "markdown",
      "metadata": {
        "id": "6A1fdV-rC2SZ"
      },
      "source": [
        "#Ngrok\n",
        "\n",
        "En una ventana de comandos, hay quw ejecutar\n",
        "\n",
        "\n",
        "\n",
        "```\n",
        "ngrok config add-authtoken $YOUR_AUTHTOKEN\n",
        "```\n",
        "\n",
        "y luego\n",
        "\n",
        "```\n",
        "ngrok http http://localhost:8000\n",
        "```\n",
        "Te va a dar una liga, que debes abrir con tu celular, para que se cargue el index.html\n",
        "\n",
        "\n"
      ]
    },
    {
      "cell_type": "markdown",
      "metadata": {
        "id": "E5VExja1-NNg"
      },
      "source": [
        "\n",
        "\n",
        "---\n",
        "\n",
        "\n",
        "[Volver al Índice](https://drive.google.com/file/d/1PTrZfdMxkR8IQYFSRHXJEWdQ3qpe4qm4/view?usp=sharing)  🏠"
      ]
    }
  ],
  "metadata": {
    "accelerator": "GPU",
    "colab": {
      "gpuType": "T4",
      "machine_shape": "hm",
      "provenance": []
    },
    "kernelspec": {
      "display_name": "nums (3.11.13)",
      "language": "python",
      "name": "python3"
    },
    "language_info": {
      "codemirror_mode": {
        "name": "ipython",
        "version": 3
      },
      "file_extension": ".py",
      "mimetype": "text/x-python",
      "name": "python",
      "nbconvert_exporter": "python",
      "pygments_lexer": "ipython3",
      "version": "3.11.13"
    },
    "widgets": {
      "application/vnd.jupyter.widget-state+json": {
        "00e5300cc0d3405f8aaa871fd5883e33": {
          "model_module": "@jupyter-widgets/controls",
          "model_module_version": "1.5.0",
          "model_name": "HBoxModel",
          "state": {
            "_dom_classes": [],
            "_model_module": "@jupyter-widgets/controls",
            "_model_module_version": "1.5.0",
            "_model_name": "HBoxModel",
            "_view_count": null,
            "_view_module": "@jupyter-widgets/controls",
            "_view_module_version": "1.5.0",
            "_view_name": "HBoxView",
            "box_style": "",
            "children": [
              "IPY_MODEL_3be09999f4c34cafb8d1bf0d8ef59018",
              "IPY_MODEL_d13bbaa079b941918e61a0163bcd7078",
              "IPY_MODEL_29632626de084b8c967fbefb5bb8ecfb"
            ],
            "layout": "IPY_MODEL_99d3530cb49044f68c5d7d1a43c4078b"
          }
        },
        "17bc5065960b407b8a7b4918c36afa1f": {
          "model_module": "@jupyter-widgets/base",
          "model_module_version": "1.2.0",
          "model_name": "LayoutModel",
          "state": {
            "_model_module": "@jupyter-widgets/base",
            "_model_module_version": "1.2.0",
            "_model_name": "LayoutModel",
            "_view_count": null,
            "_view_module": "@jupyter-widgets/base",
            "_view_module_version": "1.2.0",
            "_view_name": "LayoutView",
            "align_content": null,
            "align_items": null,
            "align_self": null,
            "border": null,
            "bottom": null,
            "display": null,
            "flex": null,
            "flex_flow": null,
            "grid_area": null,
            "grid_auto_columns": null,
            "grid_auto_flow": null,
            "grid_auto_rows": null,
            "grid_column": null,
            "grid_gap": null,
            "grid_row": null,
            "grid_template_areas": null,
            "grid_template_columns": null,
            "grid_template_rows": null,
            "height": null,
            "justify_content": null,
            "justify_items": null,
            "left": null,
            "margin": null,
            "max_height": null,
            "max_width": null,
            "min_height": null,
            "min_width": null,
            "object_fit": null,
            "object_position": null,
            "order": null,
            "overflow": null,
            "overflow_x": null,
            "overflow_y": null,
            "padding": null,
            "right": null,
            "top": null,
            "visibility": null,
            "width": null
          }
        },
        "29632626de084b8c967fbefb5bb8ecfb": {
          "model_module": "@jupyter-widgets/controls",
          "model_module_version": "1.5.0",
          "model_name": "HTMLModel",
          "state": {
            "_dom_classes": [],
            "_model_module": "@jupyter-widgets/controls",
            "_model_module_version": "1.5.0",
            "_model_name": "HTMLModel",
            "_view_count": null,
            "_view_module": "@jupyter-widgets/controls",
            "_view_module_version": "1.5.0",
            "_view_name": "HTMLView",
            "description": "",
            "description_tooltip": null,
            "layout": "IPY_MODEL_17bc5065960b407b8a7b4918c36afa1f",
            "placeholder": "​",
            "style": "IPY_MODEL_bb4eed21d329451bba832d96758876b6",
            "value": " 5/5 [00:00&lt;00:00, 20.84 file/s]"
          }
        },
        "3be09999f4c34cafb8d1bf0d8ef59018": {
          "model_module": "@jupyter-widgets/controls",
          "model_module_version": "1.5.0",
          "model_name": "HTMLModel",
          "state": {
            "_dom_classes": [],
            "_model_module": "@jupyter-widgets/controls",
            "_model_module_version": "1.5.0",
            "_model_name": "HTMLModel",
            "_view_count": null,
            "_view_module": "@jupyter-widgets/controls",
            "_view_module_version": "1.5.0",
            "_view_name": "HTMLView",
            "description": "",
            "description_tooltip": null,
            "layout": "IPY_MODEL_ba9a620c92b24f15b94d9a62f1cb7c67",
            "placeholder": "​",
            "style": "IPY_MODEL_e938c23c492d463092c7616741da88d6",
            "value": "Dl Completed...: 100%"
          }
        },
        "9801cd9910b84253b24c35e67d84cb64": {
          "model_module": "@jupyter-widgets/base",
          "model_module_version": "1.2.0",
          "model_name": "LayoutModel",
          "state": {
            "_model_module": "@jupyter-widgets/base",
            "_model_module_version": "1.2.0",
            "_model_name": "LayoutModel",
            "_view_count": null,
            "_view_module": "@jupyter-widgets/base",
            "_view_module_version": "1.2.0",
            "_view_name": "LayoutView",
            "align_content": null,
            "align_items": null,
            "align_self": null,
            "border": null,
            "bottom": null,
            "display": null,
            "flex": null,
            "flex_flow": null,
            "grid_area": null,
            "grid_auto_columns": null,
            "grid_auto_flow": null,
            "grid_auto_rows": null,
            "grid_column": null,
            "grid_gap": null,
            "grid_row": null,
            "grid_template_areas": null,
            "grid_template_columns": null,
            "grid_template_rows": null,
            "height": null,
            "justify_content": null,
            "justify_items": null,
            "left": null,
            "margin": null,
            "max_height": null,
            "max_width": null,
            "min_height": null,
            "min_width": null,
            "object_fit": null,
            "object_position": null,
            "order": null,
            "overflow": null,
            "overflow_x": null,
            "overflow_y": null,
            "padding": null,
            "right": null,
            "top": null,
            "visibility": null,
            "width": null
          }
        },
        "99d3530cb49044f68c5d7d1a43c4078b": {
          "model_module": "@jupyter-widgets/base",
          "model_module_version": "1.2.0",
          "model_name": "LayoutModel",
          "state": {
            "_model_module": "@jupyter-widgets/base",
            "_model_module_version": "1.2.0",
            "_model_name": "LayoutModel",
            "_view_count": null,
            "_view_module": "@jupyter-widgets/base",
            "_view_module_version": "1.2.0",
            "_view_name": "LayoutView",
            "align_content": null,
            "align_items": null,
            "align_self": null,
            "border": null,
            "bottom": null,
            "display": null,
            "flex": null,
            "flex_flow": null,
            "grid_area": null,
            "grid_auto_columns": null,
            "grid_auto_flow": null,
            "grid_auto_rows": null,
            "grid_column": null,
            "grid_gap": null,
            "grid_row": null,
            "grid_template_areas": null,
            "grid_template_columns": null,
            "grid_template_rows": null,
            "height": null,
            "justify_content": null,
            "justify_items": null,
            "left": null,
            "margin": null,
            "max_height": null,
            "max_width": null,
            "min_height": null,
            "min_width": null,
            "object_fit": null,
            "object_position": null,
            "order": null,
            "overflow": null,
            "overflow_x": null,
            "overflow_y": null,
            "padding": null,
            "right": null,
            "top": null,
            "visibility": null,
            "width": null
          }
        },
        "a6f5a5e24d93439bac8153c76de5edca": {
          "model_module": "@jupyter-widgets/controls",
          "model_module_version": "1.5.0",
          "model_name": "ProgressStyleModel",
          "state": {
            "_model_module": "@jupyter-widgets/controls",
            "_model_module_version": "1.5.0",
            "_model_name": "ProgressStyleModel",
            "_view_count": null,
            "_view_module": "@jupyter-widgets/base",
            "_view_module_version": "1.2.0",
            "_view_name": "StyleView",
            "bar_color": null,
            "description_width": ""
          }
        },
        "ba9a620c92b24f15b94d9a62f1cb7c67": {
          "model_module": "@jupyter-widgets/base",
          "model_module_version": "1.2.0",
          "model_name": "LayoutModel",
          "state": {
            "_model_module": "@jupyter-widgets/base",
            "_model_module_version": "1.2.0",
            "_model_name": "LayoutModel",
            "_view_count": null,
            "_view_module": "@jupyter-widgets/base",
            "_view_module_version": "1.2.0",
            "_view_name": "LayoutView",
            "align_content": null,
            "align_items": null,
            "align_self": null,
            "border": null,
            "bottom": null,
            "display": null,
            "flex": null,
            "flex_flow": null,
            "grid_area": null,
            "grid_auto_columns": null,
            "grid_auto_flow": null,
            "grid_auto_rows": null,
            "grid_column": null,
            "grid_gap": null,
            "grid_row": null,
            "grid_template_areas": null,
            "grid_template_columns": null,
            "grid_template_rows": null,
            "height": null,
            "justify_content": null,
            "justify_items": null,
            "left": null,
            "margin": null,
            "max_height": null,
            "max_width": null,
            "min_height": null,
            "min_width": null,
            "object_fit": null,
            "object_position": null,
            "order": null,
            "overflow": null,
            "overflow_x": null,
            "overflow_y": null,
            "padding": null,
            "right": null,
            "top": null,
            "visibility": null,
            "width": null
          }
        },
        "bb4eed21d329451bba832d96758876b6": {
          "model_module": "@jupyter-widgets/controls",
          "model_module_version": "1.5.0",
          "model_name": "DescriptionStyleModel",
          "state": {
            "_model_module": "@jupyter-widgets/controls",
            "_model_module_version": "1.5.0",
            "_model_name": "DescriptionStyleModel",
            "_view_count": null,
            "_view_module": "@jupyter-widgets/base",
            "_view_module_version": "1.2.0",
            "_view_name": "StyleView",
            "description_width": ""
          }
        },
        "d13bbaa079b941918e61a0163bcd7078": {
          "model_module": "@jupyter-widgets/controls",
          "model_module_version": "1.5.0",
          "model_name": "FloatProgressModel",
          "state": {
            "_dom_classes": [],
            "_model_module": "@jupyter-widgets/controls",
            "_model_module_version": "1.5.0",
            "_model_name": "FloatProgressModel",
            "_view_count": null,
            "_view_module": "@jupyter-widgets/controls",
            "_view_module_version": "1.5.0",
            "_view_name": "ProgressView",
            "bar_style": "success",
            "description": "",
            "description_tooltip": null,
            "layout": "IPY_MODEL_9801cd9910b84253b24c35e67d84cb64",
            "max": 5,
            "min": 0,
            "orientation": "horizontal",
            "style": "IPY_MODEL_a6f5a5e24d93439bac8153c76de5edca",
            "value": 5
          }
        },
        "e938c23c492d463092c7616741da88d6": {
          "model_module": "@jupyter-widgets/controls",
          "model_module_version": "1.5.0",
          "model_name": "DescriptionStyleModel",
          "state": {
            "_model_module": "@jupyter-widgets/controls",
            "_model_module_version": "1.5.0",
            "_model_name": "DescriptionStyleModel",
            "_view_count": null,
            "_view_module": "@jupyter-widgets/base",
            "_view_module_version": "1.2.0",
            "_view_name": "StyleView",
            "description_width": ""
          }
        }
      }
    }
  },
  "nbformat": 4,
  "nbformat_minor": 0
}
