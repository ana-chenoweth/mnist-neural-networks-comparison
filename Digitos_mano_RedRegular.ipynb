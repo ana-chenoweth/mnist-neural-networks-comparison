{
 "cells": [
  {
   "cell_type": "code",
   "execution_count": 2,
   "id": "e9ec48eb",
   "metadata": {},
   "outputs": [],
   "source": [
    "import tensorflow as tf"
   ]
  },
  {
   "cell_type": "code",
   "execution_count": 3,
   "id": "603d86eb",
   "metadata": {},
   "outputs": [
    {
     "data": {
      "text/plain": [
       "'2.15.0'"
      ]
     },
     "execution_count": 3,
     "metadata": {},
     "output_type": "execute_result"
    }
   ],
   "source": [
    "tf.__version__"
   ]
  },
  {
   "cell_type": "code",
   "execution_count": 4,
   "id": "70bcfc98",
   "metadata": {},
   "outputs": [
    {
     "name": "stdout",
     "output_type": "stream",
     "text": [
      "Collecting tensorflow-decision-forests==1.8.0\n",
      "  Downloading tensorflow_decision_forests-1.8.0-cp311-cp311-macosx_12_0_arm64.whl.metadata (6.0 kB)\n",
      "Requirement already satisfied: numpy in ./tfenv/lib/python3.11/site-packages (from tensorflow-decision-forests==1.8.0) (1.26.4)\n",
      "Collecting pandas (from tensorflow-decision-forests==1.8.0)\n",
      "  Downloading pandas-2.3.3-cp311-cp311-macosx_11_0_arm64.whl.metadata (91 kB)\n",
      "Collecting tensorflow~=2.15.0 (from tensorflow-decision-forests==1.8.0)\n",
      "  Downloading tensorflow-2.15.1-cp311-cp311-macosx_12_0_arm64.whl.metadata (4.0 kB)\n",
      "Requirement already satisfied: six in ./tfenv/lib/python3.11/site-packages (from tensorflow-decision-forests==1.8.0) (1.17.0)\n",
      "Requirement already satisfied: absl-py in ./tfenv/lib/python3.11/site-packages (from tensorflow-decision-forests==1.8.0) (2.3.1)\n",
      "Requirement already satisfied: wheel in ./tfenv/lib/python3.11/site-packages (from tensorflow-decision-forests==1.8.0) (0.45.1)\n",
      "Collecting wurlitzer (from tensorflow-decision-forests==1.8.0)\n",
      "  Downloading wurlitzer-3.1.1-py3-none-any.whl.metadata (2.5 kB)\n",
      "Requirement already satisfied: astunparse>=1.6.0 in ./tfenv/lib/python3.11/site-packages (from tensorflow~=2.15.0->tensorflow-decision-forests==1.8.0) (1.6.3)\n",
      "Requirement already satisfied: flatbuffers>=23.5.26 in ./tfenv/lib/python3.11/site-packages (from tensorflow~=2.15.0->tensorflow-decision-forests==1.8.0) (25.9.23)\n",
      "Requirement already satisfied: gast!=0.5.0,!=0.5.1,!=0.5.2,>=0.2.1 in ./tfenv/lib/python3.11/site-packages (from tensorflow~=2.15.0->tensorflow-decision-forests==1.8.0) (0.6.0)\n",
      "Requirement already satisfied: google-pasta>=0.1.1 in ./tfenv/lib/python3.11/site-packages (from tensorflow~=2.15.0->tensorflow-decision-forests==1.8.0) (0.2.0)\n",
      "Requirement already satisfied: h5py>=2.9.0 in ./tfenv/lib/python3.11/site-packages (from tensorflow~=2.15.0->tensorflow-decision-forests==1.8.0) (3.14.0)\n",
      "Requirement already satisfied: libclang>=13.0.0 in ./tfenv/lib/python3.11/site-packages (from tensorflow~=2.15.0->tensorflow-decision-forests==1.8.0) (18.1.1)\n",
      "Collecting ml-dtypes~=0.3.1 (from tensorflow~=2.15.0->tensorflow-decision-forests==1.8.0)\n",
      "  Downloading ml_dtypes-0.3.2-cp311-cp311-macosx_10_9_universal2.whl.metadata (20 kB)\n",
      "Requirement already satisfied: opt-einsum>=2.3.2 in ./tfenv/lib/python3.11/site-packages (from tensorflow~=2.15.0->tensorflow-decision-forests==1.8.0) (3.4.0)\n",
      "Requirement already satisfied: packaging in ./tfenv/lib/python3.11/site-packages (from tensorflow~=2.15.0->tensorflow-decision-forests==1.8.0) (25.0)\n",
      "Requirement already satisfied: protobuf!=4.21.0,!=4.21.1,!=4.21.2,!=4.21.3,!=4.21.4,!=4.21.5,<5.0.0dev,>=3.20.3 in ./tfenv/lib/python3.11/site-packages (from tensorflow~=2.15.0->tensorflow-decision-forests==1.8.0) (4.25.8)\n",
      "Requirement already satisfied: setuptools in ./tfenv/lib/python3.11/site-packages (from tensorflow~=2.15.0->tensorflow-decision-forests==1.8.0) (80.9.0)\n",
      "Requirement already satisfied: termcolor>=1.1.0 in ./tfenv/lib/python3.11/site-packages (from tensorflow~=2.15.0->tensorflow-decision-forests==1.8.0) (3.1.0)\n",
      "Requirement already satisfied: typing-extensions>=3.6.6 in ./tfenv/lib/python3.11/site-packages (from tensorflow~=2.15.0->tensorflow-decision-forests==1.8.0) (4.15.0)\n",
      "Requirement already satisfied: wrapt<1.15,>=1.11.0 in ./tfenv/lib/python3.11/site-packages (from tensorflow~=2.15.0->tensorflow-decision-forests==1.8.0) (1.14.2)\n",
      "Requirement already satisfied: tensorflow-io-gcs-filesystem>=0.23.1 in ./tfenv/lib/python3.11/site-packages (from tensorflow~=2.15.0->tensorflow-decision-forests==1.8.0) (0.37.1)\n",
      "Requirement already satisfied: grpcio<2.0,>=1.24.3 in ./tfenv/lib/python3.11/site-packages (from tensorflow~=2.15.0->tensorflow-decision-forests==1.8.0) (1.75.1)\n",
      "Requirement already satisfied: tensorboard<2.16,>=2.15 in ./tfenv/lib/python3.11/site-packages (from tensorflow~=2.15.0->tensorflow-decision-forests==1.8.0) (2.15.2)\n",
      "Requirement already satisfied: tensorflow-estimator<2.16,>=2.15.0 in ./tfenv/lib/python3.11/site-packages (from tensorflow~=2.15.0->tensorflow-decision-forests==1.8.0) (2.15.0)\n",
      "Requirement already satisfied: keras<2.16,>=2.15.0 in ./tfenv/lib/python3.11/site-packages (from tensorflow~=2.15.0->tensorflow-decision-forests==1.8.0) (2.15.0)\n",
      "Requirement already satisfied: google-auth<3,>=1.6.3 in ./tfenv/lib/python3.11/site-packages (from tensorboard<2.16,>=2.15->tensorflow~=2.15.0->tensorflow-decision-forests==1.8.0) (2.41.1)\n",
      "Requirement already satisfied: google-auth-oauthlib<2,>=0.5 in ./tfenv/lib/python3.11/site-packages (from tensorboard<2.16,>=2.15->tensorflow~=2.15.0->tensorflow-decision-forests==1.8.0) (1.2.2)\n",
      "Requirement already satisfied: markdown>=2.6.8 in ./tfenv/lib/python3.11/site-packages (from tensorboard<2.16,>=2.15->tensorflow~=2.15.0->tensorflow-decision-forests==1.8.0) (3.9)\n",
      "Requirement already satisfied: requests<3,>=2.21.0 in ./tfenv/lib/python3.11/site-packages (from tensorboard<2.16,>=2.15->tensorflow~=2.15.0->tensorflow-decision-forests==1.8.0) (2.32.5)\n",
      "Requirement already satisfied: tensorboard-data-server<0.8.0,>=0.7.0 in ./tfenv/lib/python3.11/site-packages (from tensorboard<2.16,>=2.15->tensorflow~=2.15.0->tensorflow-decision-forests==1.8.0) (0.7.2)\n",
      "Requirement already satisfied: werkzeug>=1.0.1 in ./tfenv/lib/python3.11/site-packages (from tensorboard<2.16,>=2.15->tensorflow~=2.15.0->tensorflow-decision-forests==1.8.0) (3.1.3)\n",
      "Requirement already satisfied: cachetools<7.0,>=2.0.0 in ./tfenv/lib/python3.11/site-packages (from google-auth<3,>=1.6.3->tensorboard<2.16,>=2.15->tensorflow~=2.15.0->tensorflow-decision-forests==1.8.0) (6.2.0)\n",
      "Requirement already satisfied: pyasn1-modules>=0.2.1 in ./tfenv/lib/python3.11/site-packages (from google-auth<3,>=1.6.3->tensorboard<2.16,>=2.15->tensorflow~=2.15.0->tensorflow-decision-forests==1.8.0) (0.4.2)\n",
      "Requirement already satisfied: rsa<5,>=3.1.4 in ./tfenv/lib/python3.11/site-packages (from google-auth<3,>=1.6.3->tensorboard<2.16,>=2.15->tensorflow~=2.15.0->tensorflow-decision-forests==1.8.0) (4.9.1)\n",
      "Requirement already satisfied: requests-oauthlib>=0.7.0 in ./tfenv/lib/python3.11/site-packages (from google-auth-oauthlib<2,>=0.5->tensorboard<2.16,>=2.15->tensorflow~=2.15.0->tensorflow-decision-forests==1.8.0) (2.0.0)\n",
      "Requirement already satisfied: charset_normalizer<4,>=2 in ./tfenv/lib/python3.11/site-packages (from requests<3,>=2.21.0->tensorboard<2.16,>=2.15->tensorflow~=2.15.0->tensorflow-decision-forests==1.8.0) (3.4.3)\n",
      "Requirement already satisfied: idna<4,>=2.5 in ./tfenv/lib/python3.11/site-packages (from requests<3,>=2.21.0->tensorboard<2.16,>=2.15->tensorflow~=2.15.0->tensorflow-decision-forests==1.8.0) (3.10)\n",
      "Requirement already satisfied: urllib3<3,>=1.21.1 in ./tfenv/lib/python3.11/site-packages (from requests<3,>=2.21.0->tensorboard<2.16,>=2.15->tensorflow~=2.15.0->tensorflow-decision-forests==1.8.0) (2.5.0)\n",
      "Requirement already satisfied: certifi>=2017.4.17 in ./tfenv/lib/python3.11/site-packages (from requests<3,>=2.21.0->tensorboard<2.16,>=2.15->tensorflow~=2.15.0->tensorflow-decision-forests==1.8.0) (2025.10.5)\n",
      "Requirement already satisfied: pyasn1>=0.1.3 in ./tfenv/lib/python3.11/site-packages (from rsa<5,>=3.1.4->google-auth<3,>=1.6.3->tensorboard<2.16,>=2.15->tensorflow~=2.15.0->tensorflow-decision-forests==1.8.0) (0.6.1)\n",
      "Requirement already satisfied: oauthlib>=3.0.0 in ./tfenv/lib/python3.11/site-packages (from requests-oauthlib>=0.7.0->google-auth-oauthlib<2,>=0.5->tensorboard<2.16,>=2.15->tensorflow~=2.15.0->tensorflow-decision-forests==1.8.0) (3.3.1)\n",
      "Requirement already satisfied: MarkupSafe>=2.1.1 in ./tfenv/lib/python3.11/site-packages (from werkzeug>=1.0.1->tensorboard<2.16,>=2.15->tensorflow~=2.15.0->tensorflow-decision-forests==1.8.0) (3.0.3)\n",
      "Requirement already satisfied: python-dateutil>=2.8.2 in ./tfenv/lib/python3.11/site-packages (from pandas->tensorflow-decision-forests==1.8.0) (2.9.0.post0)\n",
      "Collecting pytz>=2020.1 (from pandas->tensorflow-decision-forests==1.8.0)\n",
      "  Using cached pytz-2025.2-py2.py3-none-any.whl.metadata (22 kB)\n",
      "Collecting tzdata>=2022.7 (from pandas->tensorflow-decision-forests==1.8.0)\n",
      "  Using cached tzdata-2025.2-py2.py3-none-any.whl.metadata (1.4 kB)\n",
      "Downloading tensorflow_decision_forests-1.8.0-cp311-cp311-macosx_12_0_arm64.whl (11.5 MB)\n",
      "\u001b[2K   \u001b[90m━━━━━━━━━━━━━━━━━━━━━━━━━━━━━━━━━━━━━━━━\u001b[0m \u001b[32m11.5/11.5 MB\u001b[0m \u001b[31m6.5 MB/s\u001b[0m  \u001b[33m0:00:01\u001b[0m eta \u001b[36m0:00:01\u001b[0m\n",
      "\u001b[?25hDownloading tensorflow-2.15.1-cp311-cp311-macosx_12_0_arm64.whl (205.7 MB)\n",
      "\u001b[2K   \u001b[90m━━━━━━━━━━━━━━━━━━━━━━━━━━━━━━━━━━━━━━━━\u001b[0m \u001b[32m205.7/205.7 MB\u001b[0m \u001b[31m9.6 MB/s\u001b[0m  \u001b[33m0:00:21\u001b[0mm0:00:01\u001b[0m00:01\u001b[0m\n",
      "\u001b[?25hDownloading ml_dtypes-0.3.2-cp311-cp311-macosx_10_9_universal2.whl (389 kB)\n",
      "Downloading pandas-2.3.3-cp311-cp311-macosx_11_0_arm64.whl (10.8 MB)\n",
      "\u001b[2K   \u001b[90m━━━━━━━━━━━━━━━━━━━━━━━━━━━━━━━━━━━━━━━━\u001b[0m \u001b[32m10.8/10.8 MB\u001b[0m \u001b[31m13.6 MB/s\u001b[0m  \u001b[33m0:00:00\u001b[0meta \u001b[36m0:00:01\u001b[0m\n",
      "\u001b[?25hUsing cached pytz-2025.2-py2.py3-none-any.whl (509 kB)\n",
      "Using cached tzdata-2025.2-py2.py3-none-any.whl (347 kB)\n",
      "Downloading wurlitzer-3.1.1-py3-none-any.whl (8.6 kB)\n",
      "Installing collected packages: pytz, wurlitzer, tzdata, ml-dtypes, pandas, tensorflow, tensorflow-decision-forests\n",
      "\u001b[2K  Attempting uninstall: ml-dtypes\u001b[90m━━━━━━━━━━━━━━━━━━━━━━━━━━━━\u001b[0m \u001b[32m2/7\u001b[0m [tzdata]\n",
      "\u001b[2K    Found existing installation: ml-dtypes 0.2.0━━━━━━━━━━━━━━\u001b[0m \u001b[32m2/7\u001b[0m [tzdata]\n",
      "\u001b[2K    Uninstalling ml-dtypes-0.2.0:m━━━━━━━━━━━━━━━━━━━━━━━━━━━━\u001b[0m \u001b[32m2/7\u001b[0m [tzdata]\n",
      "\u001b[2K      Successfully uninstalled ml-dtypes-0.2.0━━━━━━━━━━━━━━━━\u001b[0m \u001b[32m2/7\u001b[0m [tzdata]\n",
      "\u001b[2K   \u001b[90m━━━━━━━━━━━━━━━━━━━━━━━━━━━━━━━━━━━━━━━━\u001b[0m \u001b[32m7/7\u001b[0m [tensorflow-decision-forests]-decision-forests]\n",
      "\u001b[1A\u001b[2K\u001b[31mERROR: pip's dependency resolver does not currently take into account all the packages that are installed. This behaviour is the source of the following dependency conflicts.\n",
      "tensorflow-macos 2.15.0 requires ml-dtypes~=0.2.0, but you have ml-dtypes 0.3.2 which is incompatible.\u001b[0m\u001b[31m\n",
      "\u001b[0mSuccessfully installed ml-dtypes-0.3.2 pandas-2.3.3 pytz-2025.2 tensorflow-2.15.1 tensorflow-decision-forests-1.8.0 tzdata-2025.2 wurlitzer-3.1.1\n"
     ]
    }
   ],
   "source": [
    "!pip install tensorflow-decision-forests==1.8.0"
   ]
  },
  {
   "cell_type": "code",
   "execution_count": 6,
   "id": "8fcc3017",
   "metadata": {},
   "outputs": [],
   "source": [
    "#Funcion de normalizacion para los datos (Pasar valor de los pixeles de 0-255 a 0-1)\n",
    "#Hace que la red aprenda mejor y mas rapido\n",
    "def normalizar(imagenes, etiquetas):\n",
    "  imagenes = tf.cast(imagenes, tf.float32)\n",
    "  imagenes /= 255 #Aqui lo pasa de 0-255 a 0-1\n",
    "  return imagenes, etiquetas"
   ]
  },
  {
   "cell_type": "code",
   "execution_count": 9,
   "id": "ba7a025e",
   "metadata": {},
   "outputs": [
    {
     "name": "stdout",
     "output_type": "stream",
     "text": [
      "Collecting tensorflow-datasets\n",
      "  Downloading tensorflow_datasets-4.9.9-py3-none-any.whl.metadata (11 kB)\n",
      "Requirement already satisfied: absl-py in ./tfenv/lib/python3.11/site-packages (from tensorflow-datasets) (2.3.1)\n",
      "Collecting dm-tree (from tensorflow-datasets)\n",
      "  Downloading dm_tree-0.1.9-cp311-cp311-macosx_10_9_universal2.whl.metadata (2.4 kB)\n",
      "Collecting etils>=1.9.1 (from etils[edc,enp,epath,epy,etree]>=1.9.1; python_version >= \"3.11\"->tensorflow-datasets)\n",
      "  Downloading etils-1.13.0-py3-none-any.whl.metadata (6.5 kB)\n",
      "Collecting immutabledict (from tensorflow-datasets)\n",
      "  Downloading immutabledict-4.2.1-py3-none-any.whl.metadata (3.5 kB)\n",
      "Requirement already satisfied: numpy in ./tfenv/lib/python3.11/site-packages (from tensorflow-datasets) (1.26.4)\n",
      "Collecting promise (from tensorflow-datasets)\n",
      "  Downloading promise-2.3.tar.gz (19 kB)\n",
      "  Preparing metadata (setup.py) ... \u001b[?25ldone\n",
      "\u001b[?25hRequirement already satisfied: protobuf>=3.20 in ./tfenv/lib/python3.11/site-packages (from tensorflow-datasets) (4.25.8)\n",
      "Requirement already satisfied: psutil in ./tfenv/lib/python3.11/site-packages (from tensorflow-datasets) (7.1.0)\n",
      "Collecting pyarrow (from tensorflow-datasets)\n",
      "  Downloading pyarrow-21.0.0-cp311-cp311-macosx_12_0_arm64.whl.metadata (3.3 kB)\n",
      "Requirement already satisfied: requests>=2.19.0 in ./tfenv/lib/python3.11/site-packages (from tensorflow-datasets) (2.32.5)\n",
      "Collecting simple_parsing (from tensorflow-datasets)\n",
      "  Downloading simple_parsing-0.1.7-py3-none-any.whl.metadata (7.3 kB)\n",
      "Collecting tensorflow-metadata (from tensorflow-datasets)\n",
      "  Downloading tensorflow_metadata-1.17.2-py3-none-any.whl.metadata (2.5 kB)\n",
      "Requirement already satisfied: termcolor in ./tfenv/lib/python3.11/site-packages (from tensorflow-datasets) (3.1.0)\n",
      "Collecting toml (from tensorflow-datasets)\n",
      "  Downloading toml-0.10.2-py2.py3-none-any.whl.metadata (7.1 kB)\n",
      "Collecting tqdm (from tensorflow-datasets)\n",
      "  Using cached tqdm-4.67.1-py3-none-any.whl.metadata (57 kB)\n",
      "Requirement already satisfied: wrapt in ./tfenv/lib/python3.11/site-packages (from tensorflow-datasets) (1.14.2)\n",
      "Collecting einops (from etils[edc,enp,epath,epy,etree]>=1.9.1; python_version >= \"3.11\"->tensorflow-datasets)\n",
      "  Downloading einops-0.8.1-py3-none-any.whl.metadata (13 kB)\n",
      "Collecting fsspec (from etils[edc,enp,epath,epy,etree]>=1.9.1; python_version >= \"3.11\"->tensorflow-datasets)\n",
      "  Downloading fsspec-2025.9.0-py3-none-any.whl.metadata (10 kB)\n",
      "Collecting importlib_resources (from etils[edc,enp,epath,epy,etree]>=1.9.1; python_version >= \"3.11\"->tensorflow-datasets)\n",
      "  Using cached importlib_resources-6.5.2-py3-none-any.whl.metadata (3.9 kB)\n",
      "Requirement already satisfied: typing_extensions in ./tfenv/lib/python3.11/site-packages (from etils[edc,enp,epath,epy,etree]>=1.9.1; python_version >= \"3.11\"->tensorflow-datasets) (4.15.0)\n",
      "Collecting zipp (from etils[edc,enp,epath,epy,etree]>=1.9.1; python_version >= \"3.11\"->tensorflow-datasets)\n",
      "  Using cached zipp-3.23.0-py3-none-any.whl.metadata (3.6 kB)\n",
      "Requirement already satisfied: charset_normalizer<4,>=2 in ./tfenv/lib/python3.11/site-packages (from requests>=2.19.0->tensorflow-datasets) (3.4.3)\n",
      "Requirement already satisfied: idna<4,>=2.5 in ./tfenv/lib/python3.11/site-packages (from requests>=2.19.0->tensorflow-datasets) (3.10)\n",
      "Requirement already satisfied: urllib3<3,>=1.21.1 in ./tfenv/lib/python3.11/site-packages (from requests>=2.19.0->tensorflow-datasets) (2.5.0)\n",
      "Requirement already satisfied: certifi>=2017.4.17 in ./tfenv/lib/python3.11/site-packages (from requests>=2.19.0->tensorflow-datasets) (2025.10.5)\n",
      "Collecting attrs>=18.2.0 (from dm-tree->tensorflow-datasets)\n",
      "  Using cached attrs-25.3.0-py3-none-any.whl.metadata (10 kB)\n",
      "Requirement already satisfied: six in ./tfenv/lib/python3.11/site-packages (from promise->tensorflow-datasets) (1.17.0)\n",
      "Collecting docstring-parser<1.0,>=0.15 (from simple_parsing->tensorflow-datasets)\n",
      "  Downloading docstring_parser-0.17.0-py3-none-any.whl.metadata (3.5 kB)\n",
      "Collecting googleapis-common-protos<2,>=1.56.4 (from tensorflow-metadata->tensorflow-datasets)\n",
      "  Downloading googleapis_common_protos-1.70.0-py3-none-any.whl.metadata (9.3 kB)\n",
      "Downloading tensorflow_datasets-4.9.9-py3-none-any.whl (5.3 MB)\n",
      "\u001b[2K   \u001b[90m━━━━━━━━━━━━━━━━━━━━━━━━━━━━━━━━━━━━━━━━\u001b[0m \u001b[32m5.3/5.3 MB\u001b[0m \u001b[31m12.5 MB/s\u001b[0m  \u001b[33m0:00:00\u001b[0m eta \u001b[36m0:00:01\u001b[0m\n",
      "\u001b[?25hDownloading etils-1.13.0-py3-none-any.whl (170 kB)\n",
      "Downloading dm_tree-0.1.9-cp311-cp311-macosx_10_9_universal2.whl (173 kB)\n",
      "Using cached attrs-25.3.0-py3-none-any.whl (63 kB)\n",
      "Downloading einops-0.8.1-py3-none-any.whl (64 kB)\n",
      "Downloading fsspec-2025.9.0-py3-none-any.whl (199 kB)\n",
      "Downloading immutabledict-4.2.1-py3-none-any.whl (4.7 kB)\n",
      "Using cached importlib_resources-6.5.2-py3-none-any.whl (37 kB)\n",
      "Downloading pyarrow-21.0.0-cp311-cp311-macosx_12_0_arm64.whl (31.2 MB)\n",
      "\u001b[2K   \u001b[90m━━━━━━━━━━━━━━━━━━━━━━━━━━━━━━━━━━━━━━━━\u001b[0m \u001b[32m31.2/31.2 MB\u001b[0m \u001b[31m9.7 MB/s\u001b[0m  \u001b[33m0:00:03\u001b[0mm0:00:01\u001b[0m00:01\u001b[0mm\n",
      "\u001b[?25hDownloading simple_parsing-0.1.7-py3-none-any.whl (112 kB)\n",
      "Downloading docstring_parser-0.17.0-py3-none-any.whl (36 kB)\n",
      "Downloading tensorflow_metadata-1.17.2-py3-none-any.whl (31 kB)\n",
      "Downloading googleapis_common_protos-1.70.0-py3-none-any.whl (294 kB)\n",
      "Downloading toml-0.10.2-py2.py3-none-any.whl (16 kB)\n",
      "Using cached tqdm-4.67.1-py3-none-any.whl (78 kB)\n",
      "Using cached zipp-3.23.0-py3-none-any.whl (10 kB)\n",
      "Building wheels for collected packages: promise\n",
      "\u001b[33m  DEPRECATION: Building 'promise' using the legacy setup.py bdist_wheel mechanism, which will be removed in a future version. pip 25.3 will enforce this behaviour change. A possible replacement is to use the standardized build interface by setting the `--use-pep517` option, (possibly combined with `--no-build-isolation`), or adding a `pyproject.toml` file to the source tree of 'promise'. Discussion can be found at https://github.com/pypa/pip/issues/6334\u001b[0m\u001b[33m\n",
      "\u001b[0m  Building wheel for promise (setup.py) ... \u001b[?25ldone\n",
      "\u001b[?25h  Created wheel for promise: filename=promise-2.3-py3-none-any.whl size=21581 sha256=5be73f3700bb1dfe7fe372b239dcd97031258dc836671de7d78d51dbccebfba2\n",
      "  Stored in directory: /Users/ivana/Library/Caches/pip/wheels/90/74/b1/9b54c896b8d9409e9268329d4d45ede8a8040abe91c8879932\n",
      "Successfully built promise\n",
      "Installing collected packages: zipp, tqdm, toml, pyarrow, promise, importlib_resources, immutabledict, googleapis-common-protos, fsspec, etils, einops, docstring-parser, attrs, tensorflow-metadata, simple_parsing, dm-tree, tensorflow-datasets\n",
      "\u001b[2K   \u001b[90m━━━━━━━━━━━━━━━━━━━━━━━━━━━━━━━━━━━━━━━━\u001b[0m \u001b[32m17/17\u001b[0m [tensorflow-datasets]nsorflow-datasets]otos]\n",
      "\u001b[1A\u001b[2KSuccessfully installed attrs-25.3.0 dm-tree-0.1.9 docstring-parser-0.17.0 einops-0.8.1 etils-1.13.0 fsspec-2025.9.0 googleapis-common-protos-1.70.0 immutabledict-4.2.1 importlib_resources-6.5.2 promise-2.3 pyarrow-21.0.0 simple_parsing-0.1.7 tensorflow-datasets-4.9.9 tensorflow-metadata-1.17.2 toml-0.10.2 tqdm-4.67.1 zipp-3.23.0\n"
     ]
    }
   ],
   "source": [
    "!pip install tensorflow-datasets"
   ]
  },
  {
   "cell_type": "code",
   "execution_count": 10,
   "id": "01308326",
   "metadata": {},
   "outputs": [],
   "source": [
    "import tensorflow_datasets as tfds\n"
   ]
  },
  {
   "cell_type": "code",
   "execution_count": 11,
   "id": "5f028184",
   "metadata": {},
   "outputs": [
    {
     "name": "stderr",
     "output_type": "stream",
     "text": [
      "WARNING:absl:Variant folder /Users/ivana/tensorflow_datasets/mnist/3.0.1 has no dataset_info.json\n",
      "/Users/ivana/IA-projects/mnist-neural-networks-comparison/tfenv/lib/python3.11/site-packages/tqdm/auto.py:21: TqdmWarning: IProgress not found. Please update jupyter and ipywidgets. See https://ipywidgets.readthedocs.io/en/stable/user_install.html\n",
      "  from .autonotebook import tqdm as notebook_tqdm\n"
     ]
    },
    {
     "name": "stdout",
     "output_type": "stream",
     "text": [
      "\u001b[1mDownloading and preparing dataset Unknown size (download: Unknown size, generated: Unknown size, total: Unknown size) to /Users/ivana/tensorflow_datasets/mnist/3.0.1...\u001b[0m\n"
     ]
    },
    {
     "name": "stderr",
     "output_type": "stream",
     "text": [
      "Dl Completed...: 0 url [00:00, ? url/s]\n",
      "Dl Completed...:   0%|          | 0/1 [00:00<?, ? url/s]\n",
      "Dl Completed...:   0%|          | 0/2 [00:00<?, ? url/s]\n",
      "Dl Completed...:   0%|          | 0/3 [00:00<?, ? url/s]\n",
      "Dl Completed...:   0%|          | 0/4 [00:00<?, ? url/s]\n",
      "Dl Completed...:   0%|          | 0/4 [00:00<?, ? url/s]\n",
      "Dl Completed...:  25%|██▌       | 1/4 [00:00<00:01,  2.01 url/s]\n",
      "Dl Completed...:  25%|██▌       | 1/4 [00:00<00:01,  1.95 url/s]\n",
      "Dl Completed...:  25%|██▌       | 1/4 [00:00<00:01,  1.93 url/s]\n",
      "Dl Completed...:  25%|██▌       | 1/4 [00:00<00:01,  1.84 url/s]\n",
      "Dl Completed...:  50%|█████     | 2/4 [00:00<00:00,  3.66 url/s]\n",
      "Dl Completed...:  50%|█████     | 2/4 [00:00<00:00,  3.61 url/s]\n",
      "Dl Completed...:  50%|█████     | 2/4 [00:00<00:00,  3.59 url/s]\n",
      "Dl Completed...:  50%|█████     | 2/4 [00:00<00:00,  3.40 url/s]\n",
      "Dl Completed...:  50%|█████     | 2/4 [00:00<00:00,  2.47 url/s]\n",
      "Dl Completed...:  50%|█████     | 2/4 [00:01<00:01,  1.80 url/s]\n",
      "Dl Completed...:  75%|███████▌  | 3/4 [00:01<00:00,  2.66 url/s]\n",
      "Dl Completed...:  75%|███████▌  | 3/4 [00:01<00:00,  2.66 url/s]\n",
      "\u001b[A\n",
      "Dl Completed...:  75%|███████▌  | 3/4 [00:01<00:00,  2.66 url/s]\n",
      "Dl Completed...:  75%|███████▌  | 3/4 [00:01<00:00,  2.66 url/s]\n",
      "Dl Completed...:  75%|███████▌  | 3/4 [00:01<00:00,  2.66 url/s]\n",
      "Dl Completed...:  75%|███████▌  | 3/4 [00:01<00:00,  2.66 url/s]\n",
      "Dl Completed...:  75%|███████▌  | 3/4 [00:02<00:00,  2.66 url/s]\n",
      "Dl Completed...:  75%|███████▌  | 3/4 [00:02<00:00,  2.66 url/s]\n",
      "Dl Completed...:  75%|███████▌  | 3/4 [00:02<00:00,  2.66 url/s]\n",
      "Dl Completed...:  75%|███████▌  | 3/4 [00:02<00:00,  2.66 url/s]\n",
      "Dl Completed...:  75%|███████▌  | 3/4 [00:02<00:00,  2.66 url/s]\n",
      "Dl Completed...:  75%|███████▌  | 3/4 [00:03<00:00,  2.66 url/s]\n",
      "Dl Completed...: 100%|██████████| 4/4 [00:03<00:00,  2.66 url/s]\n",
      "Dl Completed...: 100%|██████████| 4/4 [00:03<00:00,  2.66 url/s]\n",
      "Dl Completed...: 100%|██████████| 4/4 [00:03<00:00,  2.66 url/s]\n",
      "Extraction completed...: 100%|██████████| 4/4 [00:03<00:00,  1.20 file/s]\n",
      "Dl Size...: 100%|██████████| 10/10 [00:03<00:00,  2.99 MiB/s]\n",
      "Dl Completed...: 100%|██████████| 4/4 [00:03<00:00,  1.19 url/s]\n",
      "Generating splits...:   0%|          | 0/2 [00:00<?, ? splits/s]2025-10-05 11:33:31.328196: I metal_plugin/src/device/metal_device.cc:1154] Metal device set to: Apple M1\n",
      "2025-10-05 11:33:31.328253: I metal_plugin/src/device/metal_device.cc:296] systemMemory: 16.00 GB\n",
      "2025-10-05 11:33:31.328269: I metal_plugin/src/device/metal_device.cc:313] maxCacheSize: 5.33 GB\n",
      "2025-10-05 11:33:31.328581: I tensorflow/core/common_runtime/pluggable_device/pluggable_device_factory.cc:306] Could not identify NUMA node of platform GPU ID 0, defaulting to 0. Your kernel may not have been built with NUMA support.\n",
      "2025-10-05 11:33:31.328883: I tensorflow/core/common_runtime/pluggable_device/pluggable_device_factory.cc:272] Created TensorFlow device (/job:localhost/replica:0/task:0/device:GPU:0 with 0 MB memory) -> physical PluggableDevice (device: 0, name: METAL, pci bus id: <undefined>)\n",
      "                                                                        "
     ]
    },
    {
     "name": "stdout",
     "output_type": "stream",
     "text": [
      "\u001b[1mDataset mnist downloaded and prepared to /Users/ivana/tensorflow_datasets/mnist/3.0.1. Subsequent calls will reuse this data.\u001b[0m\n"
     ]
    },
    {
     "name": "stderr",
     "output_type": "stream",
     "text": [
      "\r"
     ]
    }
   ],
   "source": [
    "#Descargar set de datos de MNIST (Numeros escritos a mano, etiquetados)\n",
    "datos, metadatos = tfds.load('mnist', as_supervised=True, with_info=True)\n",
    "\n",
    "#Obtenemos en variables separadas los datos de entrenamiento (60k) y pruebas (10k)\n",
    "datos_entrenamiento, datos_pruebas = datos['train'], datos['test']"
   ]
  },
  {
   "cell_type": "code",
   "execution_count": 12,
   "id": "ad234581",
   "metadata": {},
   "outputs": [
    {
     "data": {
      "text/plain": [
       "{Split('train'): <_PrefetchDataset element_spec=(TensorSpec(shape=(28, 28, 1), dtype=tf.uint8, name=None), TensorSpec(shape=(), dtype=tf.int64, name=None))>,\n",
       " Split('test'): <_PrefetchDataset element_spec=(TensorSpec(shape=(28, 28, 1), dtype=tf.uint8, name=None), TensorSpec(shape=(), dtype=tf.int64, name=None))>}"
      ]
     },
     "execution_count": 12,
     "metadata": {},
     "output_type": "execute_result"
    }
   ],
   "source": [
    "datos"
   ]
  },
  {
   "cell_type": "code",
   "execution_count": null,
   "id": "962d02df",
   "metadata": {},
   "outputs": [],
   "source": []
  }
 ],
 "metadata": {
  "kernelspec": {
   "display_name": "tfenv (3.11.13)",
   "language": "python",
   "name": "python3"
  },
  "language_info": {
   "codemirror_mode": {
    "name": "ipython",
    "version": 3
   },
   "file_extension": ".py",
   "mimetype": "text/x-python",
   "name": "python",
   "nbconvert_exporter": "python",
   "pygments_lexer": "ipython3",
   "version": "3.11.13"
  }
 },
 "nbformat": 4,
 "nbformat_minor": 5
}
