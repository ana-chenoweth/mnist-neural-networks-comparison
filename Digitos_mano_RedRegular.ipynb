{
 "cells": [
  {
   "cell_type": "code",
   "execution_count": 4,
   "id": "e9ec48eb",
   "metadata": {},
   "outputs": [],
   "source": [
    "import tensorflow as tf"
   ]
  },
  {
   "cell_type": "code",
   "execution_count": 5,
   "id": "603d86eb",
   "metadata": {},
   "outputs": [
    {
     "data": {
      "text/plain": [
       "'2.15.1'"
      ]
     },
     "execution_count": 5,
     "metadata": {},
     "output_type": "execute_result"
    }
   ],
   "source": [
    "tf.__version__"
   ]
  },
  {
   "cell_type": "code",
   "execution_count": 6,
   "id": "70bcfc98",
   "metadata": {},
   "outputs": [
    {
     "name": "stdout",
     "output_type": "stream",
     "text": [
      "Requirement already satisfied: tensorflow-decision-forests==1.8.0 in ./tfenv/lib/python3.11/site-packages (1.8.0)\n",
      "Requirement already satisfied: numpy in ./tfenv/lib/python3.11/site-packages (from tensorflow-decision-forests==1.8.0) (1.26.4)\n",
      "Requirement already satisfied: pandas in ./tfenv/lib/python3.11/site-packages (from tensorflow-decision-forests==1.8.0) (2.3.3)\n",
      "Requirement already satisfied: tensorflow~=2.15.0 in ./tfenv/lib/python3.11/site-packages (from tensorflow-decision-forests==1.8.0) (2.15.1)\n",
      "Requirement already satisfied: six in ./tfenv/lib/python3.11/site-packages (from tensorflow-decision-forests==1.8.0) (1.17.0)\n",
      "Requirement already satisfied: absl-py in ./tfenv/lib/python3.11/site-packages (from tensorflow-decision-forests==1.8.0) (2.3.1)\n",
      "Requirement already satisfied: wheel in ./tfenv/lib/python3.11/site-packages (from tensorflow-decision-forests==1.8.0) (0.45.1)\n",
      "Requirement already satisfied: wurlitzer in ./tfenv/lib/python3.11/site-packages (from tensorflow-decision-forests==1.8.0) (3.1.1)\n",
      "Requirement already satisfied: astunparse>=1.6.0 in ./tfenv/lib/python3.11/site-packages (from tensorflow~=2.15.0->tensorflow-decision-forests==1.8.0) (1.6.3)\n",
      "Requirement already satisfied: flatbuffers>=23.5.26 in ./tfenv/lib/python3.11/site-packages (from tensorflow~=2.15.0->tensorflow-decision-forests==1.8.0) (25.9.23)\n",
      "Requirement already satisfied: gast!=0.5.0,!=0.5.1,!=0.5.2,>=0.2.1 in ./tfenv/lib/python3.11/site-packages (from tensorflow~=2.15.0->tensorflow-decision-forests==1.8.0) (0.6.0)\n",
      "Requirement already satisfied: google-pasta>=0.1.1 in ./tfenv/lib/python3.11/site-packages (from tensorflow~=2.15.0->tensorflow-decision-forests==1.8.0) (0.2.0)\n",
      "Requirement already satisfied: h5py>=2.9.0 in ./tfenv/lib/python3.11/site-packages (from tensorflow~=2.15.0->tensorflow-decision-forests==1.8.0) (3.14.0)\n",
      "Requirement already satisfied: libclang>=13.0.0 in ./tfenv/lib/python3.11/site-packages (from tensorflow~=2.15.0->tensorflow-decision-forests==1.8.0) (18.1.1)\n",
      "Requirement already satisfied: ml-dtypes~=0.3.1 in ./tfenv/lib/python3.11/site-packages (from tensorflow~=2.15.0->tensorflow-decision-forests==1.8.0) (0.3.2)\n",
      "Requirement already satisfied: opt-einsum>=2.3.2 in ./tfenv/lib/python3.11/site-packages (from tensorflow~=2.15.0->tensorflow-decision-forests==1.8.0) (3.4.0)\n",
      "Requirement already satisfied: packaging in ./tfenv/lib/python3.11/site-packages (from tensorflow~=2.15.0->tensorflow-decision-forests==1.8.0) (25.0)\n",
      "Requirement already satisfied: protobuf!=4.21.0,!=4.21.1,!=4.21.2,!=4.21.3,!=4.21.4,!=4.21.5,<5.0.0dev,>=3.20.3 in ./tfenv/lib/python3.11/site-packages (from tensorflow~=2.15.0->tensorflow-decision-forests==1.8.0) (4.25.8)\n",
      "Requirement already satisfied: setuptools in ./tfenv/lib/python3.11/site-packages (from tensorflow~=2.15.0->tensorflow-decision-forests==1.8.0) (80.9.0)\n",
      "Requirement already satisfied: termcolor>=1.1.0 in ./tfenv/lib/python3.11/site-packages (from tensorflow~=2.15.0->tensorflow-decision-forests==1.8.0) (3.1.0)\n",
      "Requirement already satisfied: typing-extensions>=3.6.6 in ./tfenv/lib/python3.11/site-packages (from tensorflow~=2.15.0->tensorflow-decision-forests==1.8.0) (4.15.0)\n",
      "Requirement already satisfied: wrapt<1.15,>=1.11.0 in ./tfenv/lib/python3.11/site-packages (from tensorflow~=2.15.0->tensorflow-decision-forests==1.8.0) (1.14.2)\n",
      "Requirement already satisfied: tensorflow-io-gcs-filesystem>=0.23.1 in ./tfenv/lib/python3.11/site-packages (from tensorflow~=2.15.0->tensorflow-decision-forests==1.8.0) (0.37.1)\n",
      "Requirement already satisfied: grpcio<2.0,>=1.24.3 in ./tfenv/lib/python3.11/site-packages (from tensorflow~=2.15.0->tensorflow-decision-forests==1.8.0) (1.75.1)\n",
      "Requirement already satisfied: tensorboard<2.16,>=2.15 in ./tfenv/lib/python3.11/site-packages (from tensorflow~=2.15.0->tensorflow-decision-forests==1.8.0) (2.15.2)\n",
      "Requirement already satisfied: tensorflow-estimator<2.16,>=2.15.0 in ./tfenv/lib/python3.11/site-packages (from tensorflow~=2.15.0->tensorflow-decision-forests==1.8.0) (2.15.0)\n",
      "Requirement already satisfied: keras<2.16,>=2.15.0 in ./tfenv/lib/python3.11/site-packages (from tensorflow~=2.15.0->tensorflow-decision-forests==1.8.0) (2.15.0)\n",
      "Requirement already satisfied: google-auth<3,>=1.6.3 in ./tfenv/lib/python3.11/site-packages (from tensorboard<2.16,>=2.15->tensorflow~=2.15.0->tensorflow-decision-forests==1.8.0) (2.41.1)\n",
      "Requirement already satisfied: google-auth-oauthlib<2,>=0.5 in ./tfenv/lib/python3.11/site-packages (from tensorboard<2.16,>=2.15->tensorflow~=2.15.0->tensorflow-decision-forests==1.8.0) (1.2.2)\n",
      "Requirement already satisfied: markdown>=2.6.8 in ./tfenv/lib/python3.11/site-packages (from tensorboard<2.16,>=2.15->tensorflow~=2.15.0->tensorflow-decision-forests==1.8.0) (3.9)\n",
      "Requirement already satisfied: requests<3,>=2.21.0 in ./tfenv/lib/python3.11/site-packages (from tensorboard<2.16,>=2.15->tensorflow~=2.15.0->tensorflow-decision-forests==1.8.0) (2.32.5)\n",
      "Requirement already satisfied: tensorboard-data-server<0.8.0,>=0.7.0 in ./tfenv/lib/python3.11/site-packages (from tensorboard<2.16,>=2.15->tensorflow~=2.15.0->tensorflow-decision-forests==1.8.0) (0.7.2)\n",
      "Requirement already satisfied: werkzeug>=1.0.1 in ./tfenv/lib/python3.11/site-packages (from tensorboard<2.16,>=2.15->tensorflow~=2.15.0->tensorflow-decision-forests==1.8.0) (3.1.3)\n",
      "Requirement already satisfied: cachetools<7.0,>=2.0.0 in ./tfenv/lib/python3.11/site-packages (from google-auth<3,>=1.6.3->tensorboard<2.16,>=2.15->tensorflow~=2.15.0->tensorflow-decision-forests==1.8.0) (6.2.0)\n",
      "Requirement already satisfied: pyasn1-modules>=0.2.1 in ./tfenv/lib/python3.11/site-packages (from google-auth<3,>=1.6.3->tensorboard<2.16,>=2.15->tensorflow~=2.15.0->tensorflow-decision-forests==1.8.0) (0.4.2)\n",
      "Requirement already satisfied: rsa<5,>=3.1.4 in ./tfenv/lib/python3.11/site-packages (from google-auth<3,>=1.6.3->tensorboard<2.16,>=2.15->tensorflow~=2.15.0->tensorflow-decision-forests==1.8.0) (4.9.1)\n",
      "Requirement already satisfied: requests-oauthlib>=0.7.0 in ./tfenv/lib/python3.11/site-packages (from google-auth-oauthlib<2,>=0.5->tensorboard<2.16,>=2.15->tensorflow~=2.15.0->tensorflow-decision-forests==1.8.0) (2.0.0)\n",
      "Requirement already satisfied: charset_normalizer<4,>=2 in ./tfenv/lib/python3.11/site-packages (from requests<3,>=2.21.0->tensorboard<2.16,>=2.15->tensorflow~=2.15.0->tensorflow-decision-forests==1.8.0) (3.4.3)\n",
      "Requirement already satisfied: idna<4,>=2.5 in ./tfenv/lib/python3.11/site-packages (from requests<3,>=2.21.0->tensorboard<2.16,>=2.15->tensorflow~=2.15.0->tensorflow-decision-forests==1.8.0) (3.10)\n",
      "Requirement already satisfied: urllib3<3,>=1.21.1 in ./tfenv/lib/python3.11/site-packages (from requests<3,>=2.21.0->tensorboard<2.16,>=2.15->tensorflow~=2.15.0->tensorflow-decision-forests==1.8.0) (2.5.0)\n",
      "Requirement already satisfied: certifi>=2017.4.17 in ./tfenv/lib/python3.11/site-packages (from requests<3,>=2.21.0->tensorboard<2.16,>=2.15->tensorflow~=2.15.0->tensorflow-decision-forests==1.8.0) (2025.10.5)\n",
      "Requirement already satisfied: pyasn1>=0.1.3 in ./tfenv/lib/python3.11/site-packages (from rsa<5,>=3.1.4->google-auth<3,>=1.6.3->tensorboard<2.16,>=2.15->tensorflow~=2.15.0->tensorflow-decision-forests==1.8.0) (0.6.1)\n",
      "Requirement already satisfied: oauthlib>=3.0.0 in ./tfenv/lib/python3.11/site-packages (from requests-oauthlib>=0.7.0->google-auth-oauthlib<2,>=0.5->tensorboard<2.16,>=2.15->tensorflow~=2.15.0->tensorflow-decision-forests==1.8.0) (3.3.1)\n",
      "Requirement already satisfied: MarkupSafe>=2.1.1 in ./tfenv/lib/python3.11/site-packages (from werkzeug>=1.0.1->tensorboard<2.16,>=2.15->tensorflow~=2.15.0->tensorflow-decision-forests==1.8.0) (3.0.3)\n",
      "Requirement already satisfied: python-dateutil>=2.8.2 in ./tfenv/lib/python3.11/site-packages (from pandas->tensorflow-decision-forests==1.8.0) (2.9.0.post0)\n",
      "Requirement already satisfied: pytz>=2020.1 in ./tfenv/lib/python3.11/site-packages (from pandas->tensorflow-decision-forests==1.8.0) (2025.2)\n",
      "Requirement already satisfied: tzdata>=2022.7 in ./tfenv/lib/python3.11/site-packages (from pandas->tensorflow-decision-forests==1.8.0) (2025.2)\n"
     ]
    }
   ],
   "source": [
    "!pip install tensorflow-decision-forests==1.8.0"
   ]
  },
  {
   "cell_type": "code",
   "execution_count": 7,
   "id": "8fcc3017",
   "metadata": {},
   "outputs": [],
   "source": [
    "#Funcion de normalizacion para los datos (Pasar valor de los pixeles de 0-255 a 0-1)\n",
    "#Hace que la red aprenda mejor y mas rapido\n",
    "def normalizar(imagenes, etiquetas):\n",
    "  imagenes = tf.cast(imagenes, tf.float32)\n",
    "  imagenes /= 255 #Aqui lo pasa de 0-255 a 0-1\n",
    "  return imagenes, etiquetas"
   ]
  },
  {
   "cell_type": "code",
   "execution_count": 8,
   "id": "ba7a025e",
   "metadata": {},
   "outputs": [
    {
     "name": "stdout",
     "output_type": "stream",
     "text": [
      "Requirement already satisfied: tensorflow-datasets in ./tfenv/lib/python3.11/site-packages (4.9.9)\n",
      "Requirement already satisfied: absl-py in ./tfenv/lib/python3.11/site-packages (from tensorflow-datasets) (2.3.1)\n",
      "Requirement already satisfied: dm-tree in ./tfenv/lib/python3.11/site-packages (from tensorflow-datasets) (0.1.9)\n",
      "Requirement already satisfied: etils>=1.9.1 in ./tfenv/lib/python3.11/site-packages (from etils[edc,enp,epath,epy,etree]>=1.9.1; python_version >= \"3.11\"->tensorflow-datasets) (1.13.0)\n",
      "Requirement already satisfied: immutabledict in ./tfenv/lib/python3.11/site-packages (from tensorflow-datasets) (4.2.1)\n",
      "Requirement already satisfied: numpy in ./tfenv/lib/python3.11/site-packages (from tensorflow-datasets) (1.26.4)\n",
      "Requirement already satisfied: promise in ./tfenv/lib/python3.11/site-packages (from tensorflow-datasets) (2.3)\n",
      "Requirement already satisfied: protobuf>=3.20 in ./tfenv/lib/python3.11/site-packages (from tensorflow-datasets) (4.25.8)\n",
      "Requirement already satisfied: psutil in ./tfenv/lib/python3.11/site-packages (from tensorflow-datasets) (7.1.0)\n",
      "Requirement already satisfied: pyarrow in ./tfenv/lib/python3.11/site-packages (from tensorflow-datasets) (21.0.0)\n",
      "Requirement already satisfied: requests>=2.19.0 in ./tfenv/lib/python3.11/site-packages (from tensorflow-datasets) (2.32.5)\n",
      "Requirement already satisfied: simple_parsing in ./tfenv/lib/python3.11/site-packages (from tensorflow-datasets) (0.1.7)\n",
      "Requirement already satisfied: tensorflow-metadata in ./tfenv/lib/python3.11/site-packages (from tensorflow-datasets) (1.17.2)\n",
      "Requirement already satisfied: termcolor in ./tfenv/lib/python3.11/site-packages (from tensorflow-datasets) (3.1.0)\n",
      "Requirement already satisfied: toml in ./tfenv/lib/python3.11/site-packages (from tensorflow-datasets) (0.10.2)\n",
      "Requirement already satisfied: tqdm in ./tfenv/lib/python3.11/site-packages (from tensorflow-datasets) (4.67.1)\n",
      "Requirement already satisfied: wrapt in ./tfenv/lib/python3.11/site-packages (from tensorflow-datasets) (1.14.2)\n",
      "Requirement already satisfied: einops in ./tfenv/lib/python3.11/site-packages (from etils[edc,enp,epath,epy,etree]>=1.9.1; python_version >= \"3.11\"->tensorflow-datasets) (0.8.1)\n",
      "Requirement already satisfied: fsspec in ./tfenv/lib/python3.11/site-packages (from etils[edc,enp,epath,epy,etree]>=1.9.1; python_version >= \"3.11\"->tensorflow-datasets) (2025.9.0)\n",
      "Requirement already satisfied: importlib_resources in ./tfenv/lib/python3.11/site-packages (from etils[edc,enp,epath,epy,etree]>=1.9.1; python_version >= \"3.11\"->tensorflow-datasets) (6.5.2)\n",
      "Requirement already satisfied: typing_extensions in ./tfenv/lib/python3.11/site-packages (from etils[edc,enp,epath,epy,etree]>=1.9.1; python_version >= \"3.11\"->tensorflow-datasets) (4.15.0)\n",
      "Requirement already satisfied: zipp in ./tfenv/lib/python3.11/site-packages (from etils[edc,enp,epath,epy,etree]>=1.9.1; python_version >= \"3.11\"->tensorflow-datasets) (3.23.0)\n",
      "Requirement already satisfied: charset_normalizer<4,>=2 in ./tfenv/lib/python3.11/site-packages (from requests>=2.19.0->tensorflow-datasets) (3.4.3)\n",
      "Requirement already satisfied: idna<4,>=2.5 in ./tfenv/lib/python3.11/site-packages (from requests>=2.19.0->tensorflow-datasets) (3.10)\n",
      "Requirement already satisfied: urllib3<3,>=1.21.1 in ./tfenv/lib/python3.11/site-packages (from requests>=2.19.0->tensorflow-datasets) (2.5.0)\n",
      "Requirement already satisfied: certifi>=2017.4.17 in ./tfenv/lib/python3.11/site-packages (from requests>=2.19.0->tensorflow-datasets) (2025.10.5)\n",
      "Requirement already satisfied: attrs>=18.2.0 in ./tfenv/lib/python3.11/site-packages (from dm-tree->tensorflow-datasets) (25.3.0)\n",
      "Requirement already satisfied: six in ./tfenv/lib/python3.11/site-packages (from promise->tensorflow-datasets) (1.17.0)\n",
      "Requirement already satisfied: docstring-parser<1.0,>=0.15 in ./tfenv/lib/python3.11/site-packages (from simple_parsing->tensorflow-datasets) (0.17.0)\n",
      "Requirement already satisfied: googleapis-common-protos<2,>=1.56.4 in ./tfenv/lib/python3.11/site-packages (from tensorflow-metadata->tensorflow-datasets) (1.70.0)\n"
     ]
    }
   ],
   "source": [
    "!pip install tensorflow-datasets"
   ]
  },
  {
   "cell_type": "code",
   "execution_count": 9,
   "id": "01308326",
   "metadata": {},
   "outputs": [],
   "source": [
    "import tensorflow_datasets as tfds\n",
    "import math\n",
    "\n"
   ]
  },
  {
   "cell_type": "code",
   "execution_count": 10,
   "id": "5f028184",
   "metadata": {},
   "outputs": [
    {
     "name": "stderr",
     "output_type": "stream",
     "text": [
      "2025-10-05 12:17:16.346129: I metal_plugin/src/device/metal_device.cc:1154] Metal device set to: Apple M1\n",
      "2025-10-05 12:17:16.346312: I metal_plugin/src/device/metal_device.cc:296] systemMemory: 16.00 GB\n",
      "2025-10-05 12:17:16.346330: I metal_plugin/src/device/metal_device.cc:313] maxCacheSize: 5.33 GB\n",
      "2025-10-05 12:17:16.346399: I tensorflow/core/common_runtime/pluggable_device/pluggable_device_factory.cc:306] Could not identify NUMA node of platform GPU ID 0, defaulting to 0. Your kernel may not have been built with NUMA support.\n",
      "2025-10-05 12:17:16.346467: I tensorflow/core/common_runtime/pluggable_device/pluggable_device_factory.cc:272] Created TensorFlow device (/job:localhost/replica:0/task:0/device:GPU:0 with 0 MB memory) -> physical PluggableDevice (device: 0, name: METAL, pci bus id: <undefined>)\n"
     ]
    }
   ],
   "source": [
    "#Descargar set de datos de MNIST (Numeros escritos a mano, etiquetados)\n",
    "datos, metadatos = tfds.load('mnist', as_supervised=True, with_info=True)\n",
    "\n",
    "#Obtenemos en variables separadas los datos de entrenamiento (60k) y pruebas (10k)\n",
    "datos_entrenamiento, datos_pruebas = datos['train'], datos['test']"
   ]
  },
  {
   "cell_type": "code",
   "execution_count": 11,
   "id": "ad234581",
   "metadata": {},
   "outputs": [
    {
     "data": {
      "text/plain": [
       "{'train': <_PrefetchDataset element_spec=(TensorSpec(shape=(28, 28, 1), dtype=tf.uint8, name=None), TensorSpec(shape=(), dtype=tf.int64, name=None))>,\n",
       " 'test': <_PrefetchDataset element_spec=(TensorSpec(shape=(28, 28, 1), dtype=tf.uint8, name=None), TensorSpec(shape=(), dtype=tf.int64, name=None))>}"
      ]
     },
     "execution_count": 11,
     "metadata": {},
     "output_type": "execute_result"
    }
   ],
   "source": [
    "datos"
   ]
  },
  {
   "cell_type": "code",
   "execution_count": 12,
   "id": "962d02df",
   "metadata": {},
   "outputs": [],
   "source": [
    "#Etiquetas de las 10 categorias posibles (simplemente son los numeros del 0 al 9)\n",
    "nombres_clases = metadatos.features['label'].names"
   ]
  },
  {
   "cell_type": "code",
   "execution_count": 13,
   "id": "e2303c81",
   "metadata": {},
   "outputs": [
    {
     "data": {
      "text/plain": [
       "['0', '1', '2', '3', '4', '5', '6', '7', '8', '9']"
      ]
     },
     "execution_count": 13,
     "metadata": {},
     "output_type": "execute_result"
    }
   ],
   "source": [
    "nombres_clases"
   ]
  },
  {
   "cell_type": "code",
   "execution_count": 14,
   "id": "da7d155c",
   "metadata": {},
   "outputs": [],
   "source": [
    "#Normalizar los datos de entrenamiento y pruebas con la funcion que hicimos\n",
    "datos_entrenamiento = datos_entrenamiento.map(normalizar)\n",
    "datos_pruebas = datos_pruebas.map(normalizar)"
   ]
  },
  {
   "cell_type": "code",
   "execution_count": 15,
   "id": "53235f87",
   "metadata": {},
   "outputs": [
    {
     "data": {
      "text/plain": [
       "<_MapDataset element_spec=(TensorSpec(shape=(28, 28, 1), dtype=tf.float32, name=None), TensorSpec(shape=(), dtype=tf.int64, name=None))>"
      ]
     },
     "execution_count": 15,
     "metadata": {},
     "output_type": "execute_result"
    }
   ],
   "source": [
    "datos_entrenamiento"
   ]
  },
  {
   "cell_type": "code",
   "execution_count": 16,
   "id": "66724331",
   "metadata": {},
   "outputs": [
    {
     "name": "stdout",
     "output_type": "stream",
     "text": [
      "Requirement already satisfied: keras-tuner in ./tfenv/lib/python3.11/site-packages (1.4.7)\n",
      "Requirement already satisfied: keras in ./tfenv/lib/python3.11/site-packages (from keras-tuner) (2.15.0)\n",
      "Requirement already satisfied: packaging in ./tfenv/lib/python3.11/site-packages (from keras-tuner) (25.0)\n",
      "Requirement already satisfied: requests in ./tfenv/lib/python3.11/site-packages (from keras-tuner) (2.32.5)\n",
      "Requirement already satisfied: kt-legacy in ./tfenv/lib/python3.11/site-packages (from keras-tuner) (1.0.5)\n",
      "Requirement already satisfied: charset_normalizer<4,>=2 in ./tfenv/lib/python3.11/site-packages (from requests->keras-tuner) (3.4.3)\n",
      "Requirement already satisfied: idna<4,>=2.5 in ./tfenv/lib/python3.11/site-packages (from requests->keras-tuner) (3.10)\n",
      "Requirement already satisfied: urllib3<3,>=1.21.1 in ./tfenv/lib/python3.11/site-packages (from requests->keras-tuner) (2.5.0)\n",
      "Requirement already satisfied: certifi>=2017.4.17 in ./tfenv/lib/python3.11/site-packages (from requests->keras-tuner) (2025.10.5)\n"
     ]
    }
   ],
   "source": [
    "!pip install keras-tuner"
   ]
  },
  {
   "cell_type": "code",
   "execution_count": 17,
   "id": "b856ff8e",
   "metadata": {},
   "outputs": [],
   "source": [
    "import tensorflow as tf\n",
    "import tensorflow_datasets as tfds\n",
    "import math\n",
    "from kerastuner import RandomSearch\n",
    "from tensorflow import keras\n"
   ]
  },
  {
   "cell_type": "code",
   "execution_count": 18,
   "id": "b5bcfb04",
   "metadata": {},
   "outputs": [],
   "source": [
    "num_ej_entrenamiento = metadatos.splits['train'].num_examples\n",
    "num_ej_pruebas = metadatos.splits['test'].num_examples\n",
    "TAMANO_LOTE = 32"
   ]
  },
  {
   "cell_type": "code",
   "execution_count": 19,
   "id": "df89d12f",
   "metadata": {},
   "outputs": [],
   "source": [
    "# Shuffle y batching\n",
    "datos_entrenamiento = datos_entrenamiento.repeat().shuffle(num_ej_entrenamiento).batch(TAMANO_LOTE)\n",
    "datos_pruebas = datos_pruebas.batch(TAMANO_LOTE)\n"
   ]
  },
  {
   "cell_type": "code",
   "execution_count": 20,
   "id": "e6aa9d54",
   "metadata": {},
   "outputs": [],
   "source": [
    "early_stop = tf.keras.callbacks.EarlyStopping(\n",
    "    monitor='val_loss',\n",
    "    patience=5,\n",
    "    restore_best_weights=True\n",
    ")"
   ]
  },
  {
   "cell_type": "markdown",
   "id": "e5d6c2bf",
   "metadata": {},
   "source": [
    "### KerasTuner"
   ]
  },
  {
   "cell_type": "code",
   "execution_count": 21,
   "id": "1ca7533c",
   "metadata": {},
   "outputs": [],
   "source": [
    "def build_model(hp):\n",
    "    modelo = keras.Sequential()\n",
    "    modelo.add(keras.layers.Flatten(input_shape=(28,28,1)))\n",
    "    \n",
    "    # Capas densas entre 1 y 3\n",
    "    for i in range(hp.Int('num_layers', 1, 3)):\n",
    "        modelo.add(keras.layers.Dense(\n",
    "            units=hp.Int(f'units_{i}', min_value=128, max_value=512, step=64),\n",
    "            activation='relu',\n",
    "            kernel_regularizer=keras.regularizers.l2(hp.Float(f'l2_{i}', 0.0, 0.01, step=0.001))\n",
    "        ))\n",
    "        modelo.add(keras.layers.Dropout(hp.Float(f'dropout_{i}', 0.2, 0.5, step=0.1)))\n",
    "    \n",
    "    modelo.add(keras.layers.Dense(10, activation='softmax'))\n",
    "    \n",
    "    modelo.compile(\n",
    "        optimizer=keras.optimizers.Adam(\n",
    "            hp.Float('learning_rate', 1e-4, 1e-2, sampling='log')\n",
    "        ),\n",
    "        loss='sparse_categorical_crossentropy',\n",
    "        metrics=['accuracy']\n",
    "    )\n",
    "    \n",
    "    return modelo"
   ]
  },
  {
   "cell_type": "code",
   "execution_count": 22,
   "id": "f246831d",
   "metadata": {},
   "outputs": [
    {
     "name": "stderr",
     "output_type": "stream",
     "text": [
      "WARNING:absl:At this time, the v2.11+ optimizer `tf.keras.optimizers.Adam` runs slowly on M1/M2 Macs, please use the legacy Keras optimizer instead, located at `tf.keras.optimizers.legacy.Adam`.\n"
     ]
    }
   ],
   "source": [
    "tuner = RandomSearch(\n",
    "    build_model,\n",
    "    objective='val_accuracy',\n",
    "    max_trials=5,            # puedes aumentar según tu tiempo\n",
    "    executions_per_trial=1,\n",
    "    directory='mnist_tuner',\n",
    "    project_name='red_regular'\n",
    ")"
   ]
  },
  {
   "cell_type": "code",
   "execution_count": 23,
   "id": "c8dd9e1e",
   "metadata": {},
   "outputs": [
    {
     "name": "stdout",
     "output_type": "stream",
     "text": [
      "Trial 2 Complete [00h 04m 39s]\n",
      "val_accuracy: 0.9061999917030334\n",
      "\n",
      "Best val_accuracy So Far: 0.9061999917030334\n",
      "Total elapsed time: 00h 09m 30s\n",
      "\n",
      "Search: Running Trial #3\n",
      "\n",
      "Value             |Best Value So Far |Hyperparameter\n",
      "2                 |1                 |num_layers\n",
      "192               |320               |units_0\n",
      "0.007             |0.001             |l2_0\n",
      "0.4               |0.4               |dropout_0\n",
      "0.0029185         |0.0013673         |learning_rate\n",
      "\n"
     ]
    },
    {
     "name": "stderr",
     "output_type": "stream",
     "text": [
      "WARNING:absl:At this time, the v2.11+ optimizer `tf.keras.optimizers.Adam` runs slowly on M1/M2 Macs, please use the legacy Keras optimizer instead, located at `tf.keras.optimizers.legacy.Adam`.\n"
     ]
    },
    {
     "name": "stdout",
     "output_type": "stream",
     "text": [
      "Epoch 1/10\n"
     ]
    },
    {
     "ename": "",
     "evalue": "",
     "output_type": "error",
     "traceback": [
      "\u001b[1;31mThe Kernel crashed while executing code in the current cell or a previous cell. \n",
      "\u001b[1;31mPlease review the code in the cell(s) to identify a possible cause of the failure. \n",
      "\u001b[1;31mClick <a href='https://aka.ms/vscodeJupyterKernelCrash'>here</a> for more info. \n",
      "\u001b[1;31mView Jupyter <a href='command:jupyter.viewOutput'>log</a> for further details."
     ]
    }
   ],
   "source": [
    "tuner.search(\n",
    "    datos_entrenamiento,\n",
    "    epochs=10,\n",
    "    validation_data=datos_pruebas,\n",
    "    steps_per_epoch=math.ceil(num_ej_entrenamiento/TAMANO_LOTE),\n",
    "    callbacks=[early_stop]\n",
    ")"
   ]
  },
  {
   "cell_type": "code",
   "execution_count": null,
   "id": "c7b0ff6e",
   "metadata": {},
   "outputs": [],
   "source": [
    "best_model = tuner.get_best_models(num_models=1)[0]\n",
    "best_hp = tuner.get_best_hyperparameters(num_trials=1)[0]\n"
   ]
  },
  {
   "cell_type": "code",
   "execution_count": null,
   "id": "6b715663",
   "metadata": {},
   "outputs": [],
   "source": [
    "print(\"Mejores hiperparámetros encontrados:\")\n",
    "print(best_hp.values)"
   ]
  },
  {
   "cell_type": "code",
   "execution_count": null,
   "id": "7c178b7e",
   "metadata": {},
   "outputs": [],
   "source": [
    "historial = best_model.fit(\n",
    "    datos_entrenamiento,\n",
    "    epochs=20,\n",
    "    validation_data=datos_pruebas,\n",
    "    steps_per_epoch=math.ceil(num_ej_entrenamiento/TAMANO_LOTE),\n",
    "    callbacks=[early_stop]\n",
    ")\n"
   ]
  }
 ],
 "metadata": {
  "kernelspec": {
   "display_name": "tfenv (3.11.13)",
   "language": "python",
   "name": "python3"
  },
  "language_info": {
   "codemirror_mode": {
    "name": "ipython",
    "version": 3
   },
   "file_extension": ".py",
   "mimetype": "text/x-python",
   "name": "python",
   "nbconvert_exporter": "python",
   "pygments_lexer": "ipython3",
   "version": "3.11.13"
  }
 },
 "nbformat": 4,
 "nbformat_minor": 5
}
