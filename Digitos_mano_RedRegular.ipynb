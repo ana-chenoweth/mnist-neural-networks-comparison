{
  "cells": [
    {
      "cell_type": "markdown",
      "metadata": {
        "id": "W4l6keY4IiMa"
      },
      "source": [
        "https://www.youtube.com/watch?v=JpE4bYyRADI\n",
        "(a partir del minuto 5:52 )"
      ]
    },
    {
      "cell_type": "code",
      "execution_count": 1,
      "metadata": {
        "colab": {
          "base_uri": "https://localhost:8080/"
        },
        "id": "vwRSvaO6dgNr",
        "outputId": "3a636942-00f1-4bde-e491-7e6990a1624e"
      },
      "outputs": [
        {
          "name": "stdout",
          "output_type": "stream",
          "text": [
            "Requirement already satisfied: tensorflow==2.15.0 in ./nums/lib/python3.11/site-packages (2.15.0)\n",
            "Requirement already satisfied: tensorflow-macos==2.15.0 in ./nums/lib/python3.11/site-packages (from tensorflow==2.15.0) (2.15.0)\n",
            "Requirement already satisfied: absl-py>=1.0.0 in ./nums/lib/python3.11/site-packages (from tensorflow-macos==2.15.0->tensorflow==2.15.0) (2.3.1)\n",
            "Requirement already satisfied: astunparse>=1.6.0 in ./nums/lib/python3.11/site-packages (from tensorflow-macos==2.15.0->tensorflow==2.15.0) (1.6.3)\n",
            "Requirement already satisfied: flatbuffers>=23.5.26 in ./nums/lib/python3.11/site-packages (from tensorflow-macos==2.15.0->tensorflow==2.15.0) (25.9.23)\n",
            "Requirement already satisfied: gast!=0.5.0,!=0.5.1,!=0.5.2,>=0.2.1 in ./nums/lib/python3.11/site-packages (from tensorflow-macos==2.15.0->tensorflow==2.15.0) (0.6.0)\n",
            "Requirement already satisfied: google-pasta>=0.1.1 in ./nums/lib/python3.11/site-packages (from tensorflow-macos==2.15.0->tensorflow==2.15.0) (0.2.0)\n",
            "Requirement already satisfied: h5py>=2.9.0 in ./nums/lib/python3.11/site-packages (from tensorflow-macos==2.15.0->tensorflow==2.15.0) (3.14.0)\n",
            "Requirement already satisfied: libclang>=13.0.0 in ./nums/lib/python3.11/site-packages (from tensorflow-macos==2.15.0->tensorflow==2.15.0) (18.1.1)\n",
            "Requirement already satisfied: ml-dtypes~=0.2.0 in ./nums/lib/python3.11/site-packages (from tensorflow-macos==2.15.0->tensorflow==2.15.0) (0.2.0)\n",
            "Requirement already satisfied: numpy<2.0.0,>=1.23.5 in ./nums/lib/python3.11/site-packages (from tensorflow-macos==2.15.0->tensorflow==2.15.0) (1.26.4)\n",
            "Requirement already satisfied: opt-einsum>=2.3.2 in ./nums/lib/python3.11/site-packages (from tensorflow-macos==2.15.0->tensorflow==2.15.0) (3.4.0)\n",
            "Requirement already satisfied: packaging in ./nums/lib/python3.11/site-packages (from tensorflow-macos==2.15.0->tensorflow==2.15.0) (25.0)\n",
            "Requirement already satisfied: protobuf!=4.21.0,!=4.21.1,!=4.21.2,!=4.21.3,!=4.21.4,!=4.21.5,<5.0.0dev,>=3.20.3 in ./nums/lib/python3.11/site-packages (from tensorflow-macos==2.15.0->tensorflow==2.15.0) (4.25.8)\n",
            "Requirement already satisfied: setuptools in ./nums/lib/python3.11/site-packages (from tensorflow-macos==2.15.0->tensorflow==2.15.0) (80.9.0)\n",
            "Requirement already satisfied: six>=1.12.0 in ./nums/lib/python3.11/site-packages (from tensorflow-macos==2.15.0->tensorflow==2.15.0) (1.17.0)\n",
            "Requirement already satisfied: termcolor>=1.1.0 in ./nums/lib/python3.11/site-packages (from tensorflow-macos==2.15.0->tensorflow==2.15.0) (3.1.0)\n",
            "Requirement already satisfied: typing-extensions>=3.6.6 in ./nums/lib/python3.11/site-packages (from tensorflow-macos==2.15.0->tensorflow==2.15.0) (4.15.0)\n",
            "Requirement already satisfied: wrapt<1.15,>=1.11.0 in ./nums/lib/python3.11/site-packages (from tensorflow-macos==2.15.0->tensorflow==2.15.0) (1.14.2)\n",
            "Requirement already satisfied: tensorflow-io-gcs-filesystem>=0.23.1 in ./nums/lib/python3.11/site-packages (from tensorflow-macos==2.15.0->tensorflow==2.15.0) (0.37.1)\n",
            "Requirement already satisfied: grpcio<2.0,>=1.24.3 in ./nums/lib/python3.11/site-packages (from tensorflow-macos==2.15.0->tensorflow==2.15.0) (1.75.1)\n",
            "Requirement already satisfied: tensorboard<2.16,>=2.15 in ./nums/lib/python3.11/site-packages (from tensorflow-macos==2.15.0->tensorflow==2.15.0) (2.15.2)\n",
            "Requirement already satisfied: tensorflow-estimator<2.16,>=2.15.0 in ./nums/lib/python3.11/site-packages (from tensorflow-macos==2.15.0->tensorflow==2.15.0) (2.15.0)\n",
            "Requirement already satisfied: keras<2.16,>=2.15.0 in ./nums/lib/python3.11/site-packages (from tensorflow-macos==2.15.0->tensorflow==2.15.0) (2.15.0)\n",
            "Requirement already satisfied: google-auth<3,>=1.6.3 in ./nums/lib/python3.11/site-packages (from tensorboard<2.16,>=2.15->tensorflow-macos==2.15.0->tensorflow==2.15.0) (2.41.1)\n",
            "Requirement already satisfied: google-auth-oauthlib<2,>=0.5 in ./nums/lib/python3.11/site-packages (from tensorboard<2.16,>=2.15->tensorflow-macos==2.15.0->tensorflow==2.15.0) (1.2.2)\n",
            "Requirement already satisfied: markdown>=2.6.8 in ./nums/lib/python3.11/site-packages (from tensorboard<2.16,>=2.15->tensorflow-macos==2.15.0->tensorflow==2.15.0) (3.9)\n",
            "Requirement already satisfied: requests<3,>=2.21.0 in ./nums/lib/python3.11/site-packages (from tensorboard<2.16,>=2.15->tensorflow-macos==2.15.0->tensorflow==2.15.0) (2.32.5)\n",
            "Requirement already satisfied: tensorboard-data-server<0.8.0,>=0.7.0 in ./nums/lib/python3.11/site-packages (from tensorboard<2.16,>=2.15->tensorflow-macos==2.15.0->tensorflow==2.15.0) (0.7.2)\n",
            "Requirement already satisfied: werkzeug>=1.0.1 in ./nums/lib/python3.11/site-packages (from tensorboard<2.16,>=2.15->tensorflow-macos==2.15.0->tensorflow==2.15.0) (3.1.3)\n",
            "Requirement already satisfied: cachetools<7.0,>=2.0.0 in ./nums/lib/python3.11/site-packages (from google-auth<3,>=1.6.3->tensorboard<2.16,>=2.15->tensorflow-macos==2.15.0->tensorflow==2.15.0) (6.2.0)\n",
            "Requirement already satisfied: pyasn1-modules>=0.2.1 in ./nums/lib/python3.11/site-packages (from google-auth<3,>=1.6.3->tensorboard<2.16,>=2.15->tensorflow-macos==2.15.0->tensorflow==2.15.0) (0.4.2)\n",
            "Requirement already satisfied: rsa<5,>=3.1.4 in ./nums/lib/python3.11/site-packages (from google-auth<3,>=1.6.3->tensorboard<2.16,>=2.15->tensorflow-macos==2.15.0->tensorflow==2.15.0) (4.9.1)\n",
            "Requirement already satisfied: requests-oauthlib>=0.7.0 in ./nums/lib/python3.11/site-packages (from google-auth-oauthlib<2,>=0.5->tensorboard<2.16,>=2.15->tensorflow-macos==2.15.0->tensorflow==2.15.0) (2.0.0)\n",
            "Requirement already satisfied: charset_normalizer<4,>=2 in ./nums/lib/python3.11/site-packages (from requests<3,>=2.21.0->tensorboard<2.16,>=2.15->tensorflow-macos==2.15.0->tensorflow==2.15.0) (3.4.3)\n",
            "Requirement already satisfied: idna<4,>=2.5 in ./nums/lib/python3.11/site-packages (from requests<3,>=2.21.0->tensorboard<2.16,>=2.15->tensorflow-macos==2.15.0->tensorflow==2.15.0) (3.10)\n",
            "Requirement already satisfied: urllib3<3,>=1.21.1 in ./nums/lib/python3.11/site-packages (from requests<3,>=2.21.0->tensorboard<2.16,>=2.15->tensorflow-macos==2.15.0->tensorflow==2.15.0) (2.5.0)\n",
            "Requirement already satisfied: certifi>=2017.4.17 in ./nums/lib/python3.11/site-packages (from requests<3,>=2.21.0->tensorboard<2.16,>=2.15->tensorflow-macos==2.15.0->tensorflow==2.15.0) (2025.10.5)\n",
            "Requirement already satisfied: pyasn1>=0.1.3 in ./nums/lib/python3.11/site-packages (from rsa<5,>=3.1.4->google-auth<3,>=1.6.3->tensorboard<2.16,>=2.15->tensorflow-macos==2.15.0->tensorflow==2.15.0) (0.6.1)\n",
            "Requirement already satisfied: wheel<1.0,>=0.23.0 in ./nums/lib/python3.11/site-packages (from astunparse>=1.6.0->tensorflow-macos==2.15.0->tensorflow==2.15.0) (0.45.1)\n",
            "Requirement already satisfied: oauthlib>=3.0.0 in ./nums/lib/python3.11/site-packages (from requests-oauthlib>=0.7.0->google-auth-oauthlib<2,>=0.5->tensorboard<2.16,>=2.15->tensorflow-macos==2.15.0->tensorflow==2.15.0) (3.3.1)\n",
            "Requirement already satisfied: MarkupSafe>=2.1.1 in ./nums/lib/python3.11/site-packages (from werkzeug>=1.0.1->tensorboard<2.16,>=2.15->tensorflow-macos==2.15.0->tensorflow==2.15.0) (3.0.3)\n"
          ]
        }
      ],
      "source": [
        "#necesito la version 2.15.0 (por default, usa la 2.14.0)\n",
        "#!pip3 install tensorflow --upgrade\n",
        "!pip install tensorflow==2.15.0"
      ]
    },
    {
      "cell_type": "code",
      "execution_count": 2,
      "metadata": {
        "id": "AE87-2h0dlFK"
      },
      "outputs": [],
      "source": [
        "import tensorflow as tf"
      ]
    },
    {
      "cell_type": "code",
      "execution_count": 3,
      "metadata": {
        "colab": {
          "base_uri": "https://localhost:8080/",
          "height": 35
        },
        "id": "z4uYxtpkd5w_",
        "outputId": "8dff2f70-a76f-4795-d4fc-d53623024f2a"
      },
      "outputs": [
        {
          "data": {
            "text/plain": [
              "'2.15.0'"
            ]
          },
          "execution_count": 3,
          "metadata": {},
          "output_type": "execute_result"
        }
      ],
      "source": [
        "tf.__version__"
      ]
    },
    {
      "cell_type": "code",
      "execution_count": 4,
      "metadata": {
        "colab": {
          "base_uri": "https://localhost:8080/"
        },
        "id": "ztqmfOpZ0tv1",
        "outputId": "f8ffb0c1-41f7-4b95-d107-5b866b9a90f2"
      },
      "outputs": [
        {
          "name": "stdout",
          "output_type": "stream",
          "text": [
            "Collecting tensorflow-decision-forests==1.8.0\n",
            "  Using cached tensorflow_decision_forests-1.8.0-cp311-cp311-macosx_12_0_arm64.whl.metadata (6.0 kB)\n",
            "Requirement already satisfied: numpy in ./nums/lib/python3.11/site-packages (from tensorflow-decision-forests==1.8.0) (1.26.4)\n",
            "Collecting pandas (from tensorflow-decision-forests==1.8.0)\n",
            "  Using cached pandas-2.3.3-cp311-cp311-macosx_11_0_arm64.whl.metadata (91 kB)\n",
            "Requirement already satisfied: tensorflow~=2.15.0 in ./nums/lib/python3.11/site-packages (from tensorflow-decision-forests==1.8.0) (2.15.0)\n",
            "Requirement already satisfied: six in ./nums/lib/python3.11/site-packages (from tensorflow-decision-forests==1.8.0) (1.17.0)\n",
            "Requirement already satisfied: absl-py in ./nums/lib/python3.11/site-packages (from tensorflow-decision-forests==1.8.0) (2.3.1)\n",
            "Requirement already satisfied: wheel in ./nums/lib/python3.11/site-packages (from tensorflow-decision-forests==1.8.0) (0.45.1)\n",
            "Collecting wurlitzer (from tensorflow-decision-forests==1.8.0)\n",
            "  Using cached wurlitzer-3.1.1-py3-none-any.whl.metadata (2.5 kB)\n",
            "Requirement already satisfied: tensorflow-macos==2.15.0 in ./nums/lib/python3.11/site-packages (from tensorflow~=2.15.0->tensorflow-decision-forests==1.8.0) (2.15.0)\n",
            "Requirement already satisfied: astunparse>=1.6.0 in ./nums/lib/python3.11/site-packages (from tensorflow-macos==2.15.0->tensorflow~=2.15.0->tensorflow-decision-forests==1.8.0) (1.6.3)\n",
            "Requirement already satisfied: flatbuffers>=23.5.26 in ./nums/lib/python3.11/site-packages (from tensorflow-macos==2.15.0->tensorflow~=2.15.0->tensorflow-decision-forests==1.8.0) (25.9.23)\n",
            "Requirement already satisfied: gast!=0.5.0,!=0.5.1,!=0.5.2,>=0.2.1 in ./nums/lib/python3.11/site-packages (from tensorflow-macos==2.15.0->tensorflow~=2.15.0->tensorflow-decision-forests==1.8.0) (0.6.0)\n",
            "Requirement already satisfied: google-pasta>=0.1.1 in ./nums/lib/python3.11/site-packages (from tensorflow-macos==2.15.0->tensorflow~=2.15.0->tensorflow-decision-forests==1.8.0) (0.2.0)\n",
            "Requirement already satisfied: h5py>=2.9.0 in ./nums/lib/python3.11/site-packages (from tensorflow-macos==2.15.0->tensorflow~=2.15.0->tensorflow-decision-forests==1.8.0) (3.14.0)\n",
            "Requirement already satisfied: libclang>=13.0.0 in ./nums/lib/python3.11/site-packages (from tensorflow-macos==2.15.0->tensorflow~=2.15.0->tensorflow-decision-forests==1.8.0) (18.1.1)\n",
            "Requirement already satisfied: ml-dtypes~=0.2.0 in ./nums/lib/python3.11/site-packages (from tensorflow-macos==2.15.0->tensorflow~=2.15.0->tensorflow-decision-forests==1.8.0) (0.2.0)\n",
            "Requirement already satisfied: opt-einsum>=2.3.2 in ./nums/lib/python3.11/site-packages (from tensorflow-macos==2.15.0->tensorflow~=2.15.0->tensorflow-decision-forests==1.8.0) (3.4.0)\n",
            "Requirement already satisfied: packaging in ./nums/lib/python3.11/site-packages (from tensorflow-macos==2.15.0->tensorflow~=2.15.0->tensorflow-decision-forests==1.8.0) (25.0)\n",
            "Requirement already satisfied: protobuf!=4.21.0,!=4.21.1,!=4.21.2,!=4.21.3,!=4.21.4,!=4.21.5,<5.0.0dev,>=3.20.3 in ./nums/lib/python3.11/site-packages (from tensorflow-macos==2.15.0->tensorflow~=2.15.0->tensorflow-decision-forests==1.8.0) (4.25.8)\n",
            "Requirement already satisfied: setuptools in ./nums/lib/python3.11/site-packages (from tensorflow-macos==2.15.0->tensorflow~=2.15.0->tensorflow-decision-forests==1.8.0) (80.9.0)\n",
            "Requirement already satisfied: termcolor>=1.1.0 in ./nums/lib/python3.11/site-packages (from tensorflow-macos==2.15.0->tensorflow~=2.15.0->tensorflow-decision-forests==1.8.0) (3.1.0)\n",
            "Requirement already satisfied: typing-extensions>=3.6.6 in ./nums/lib/python3.11/site-packages (from tensorflow-macos==2.15.0->tensorflow~=2.15.0->tensorflow-decision-forests==1.8.0) (4.15.0)\n",
            "Requirement already satisfied: wrapt<1.15,>=1.11.0 in ./nums/lib/python3.11/site-packages (from tensorflow-macos==2.15.0->tensorflow~=2.15.0->tensorflow-decision-forests==1.8.0) (1.14.2)\n",
            "Requirement already satisfied: tensorflow-io-gcs-filesystem>=0.23.1 in ./nums/lib/python3.11/site-packages (from tensorflow-macos==2.15.0->tensorflow~=2.15.0->tensorflow-decision-forests==1.8.0) (0.37.1)\n",
            "Requirement already satisfied: grpcio<2.0,>=1.24.3 in ./nums/lib/python3.11/site-packages (from tensorflow-macos==2.15.0->tensorflow~=2.15.0->tensorflow-decision-forests==1.8.0) (1.75.1)\n",
            "Requirement already satisfied: tensorboard<2.16,>=2.15 in ./nums/lib/python3.11/site-packages (from tensorflow-macos==2.15.0->tensorflow~=2.15.0->tensorflow-decision-forests==1.8.0) (2.15.2)\n",
            "Requirement already satisfied: tensorflow-estimator<2.16,>=2.15.0 in ./nums/lib/python3.11/site-packages (from tensorflow-macos==2.15.0->tensorflow~=2.15.0->tensorflow-decision-forests==1.8.0) (2.15.0)\n",
            "Requirement already satisfied: keras<2.16,>=2.15.0 in ./nums/lib/python3.11/site-packages (from tensorflow-macos==2.15.0->tensorflow~=2.15.0->tensorflow-decision-forests==1.8.0) (2.15.0)\n",
            "Requirement already satisfied: google-auth<3,>=1.6.3 in ./nums/lib/python3.11/site-packages (from tensorboard<2.16,>=2.15->tensorflow-macos==2.15.0->tensorflow~=2.15.0->tensorflow-decision-forests==1.8.0) (2.41.1)\n",
            "Requirement already satisfied: google-auth-oauthlib<2,>=0.5 in ./nums/lib/python3.11/site-packages (from tensorboard<2.16,>=2.15->tensorflow-macos==2.15.0->tensorflow~=2.15.0->tensorflow-decision-forests==1.8.0) (1.2.2)\n",
            "Requirement already satisfied: markdown>=2.6.8 in ./nums/lib/python3.11/site-packages (from tensorboard<2.16,>=2.15->tensorflow-macos==2.15.0->tensorflow~=2.15.0->tensorflow-decision-forests==1.8.0) (3.9)\n",
            "Requirement already satisfied: requests<3,>=2.21.0 in ./nums/lib/python3.11/site-packages (from tensorboard<2.16,>=2.15->tensorflow-macos==2.15.0->tensorflow~=2.15.0->tensorflow-decision-forests==1.8.0) (2.32.5)\n",
            "Requirement already satisfied: tensorboard-data-server<0.8.0,>=0.7.0 in ./nums/lib/python3.11/site-packages (from tensorboard<2.16,>=2.15->tensorflow-macos==2.15.0->tensorflow~=2.15.0->tensorflow-decision-forests==1.8.0) (0.7.2)\n",
            "Requirement already satisfied: werkzeug>=1.0.1 in ./nums/lib/python3.11/site-packages (from tensorboard<2.16,>=2.15->tensorflow-macos==2.15.0->tensorflow~=2.15.0->tensorflow-decision-forests==1.8.0) (3.1.3)\n",
            "Requirement already satisfied: cachetools<7.0,>=2.0.0 in ./nums/lib/python3.11/site-packages (from google-auth<3,>=1.6.3->tensorboard<2.16,>=2.15->tensorflow-macos==2.15.0->tensorflow~=2.15.0->tensorflow-decision-forests==1.8.0) (6.2.0)\n",
            "Requirement already satisfied: pyasn1-modules>=0.2.1 in ./nums/lib/python3.11/site-packages (from google-auth<3,>=1.6.3->tensorboard<2.16,>=2.15->tensorflow-macos==2.15.0->tensorflow~=2.15.0->tensorflow-decision-forests==1.8.0) (0.4.2)\n",
            "Requirement already satisfied: rsa<5,>=3.1.4 in ./nums/lib/python3.11/site-packages (from google-auth<3,>=1.6.3->tensorboard<2.16,>=2.15->tensorflow-macos==2.15.0->tensorflow~=2.15.0->tensorflow-decision-forests==1.8.0) (4.9.1)\n",
            "Requirement already satisfied: requests-oauthlib>=0.7.0 in ./nums/lib/python3.11/site-packages (from google-auth-oauthlib<2,>=0.5->tensorboard<2.16,>=2.15->tensorflow-macos==2.15.0->tensorflow~=2.15.0->tensorflow-decision-forests==1.8.0) (2.0.0)\n",
            "Requirement already satisfied: charset_normalizer<4,>=2 in ./nums/lib/python3.11/site-packages (from requests<3,>=2.21.0->tensorboard<2.16,>=2.15->tensorflow-macos==2.15.0->tensorflow~=2.15.0->tensorflow-decision-forests==1.8.0) (3.4.3)\n",
            "Requirement already satisfied: idna<4,>=2.5 in ./nums/lib/python3.11/site-packages (from requests<3,>=2.21.0->tensorboard<2.16,>=2.15->tensorflow-macos==2.15.0->tensorflow~=2.15.0->tensorflow-decision-forests==1.8.0) (3.10)\n",
            "Requirement already satisfied: urllib3<3,>=1.21.1 in ./nums/lib/python3.11/site-packages (from requests<3,>=2.21.0->tensorboard<2.16,>=2.15->tensorflow-macos==2.15.0->tensorflow~=2.15.0->tensorflow-decision-forests==1.8.0) (2.5.0)\n",
            "Requirement already satisfied: certifi>=2017.4.17 in ./nums/lib/python3.11/site-packages (from requests<3,>=2.21.0->tensorboard<2.16,>=2.15->tensorflow-macos==2.15.0->tensorflow~=2.15.0->tensorflow-decision-forests==1.8.0) (2025.10.5)\n",
            "Requirement already satisfied: pyasn1>=0.1.3 in ./nums/lib/python3.11/site-packages (from rsa<5,>=3.1.4->google-auth<3,>=1.6.3->tensorboard<2.16,>=2.15->tensorflow-macos==2.15.0->tensorflow~=2.15.0->tensorflow-decision-forests==1.8.0) (0.6.1)\n",
            "Requirement already satisfied: oauthlib>=3.0.0 in ./nums/lib/python3.11/site-packages (from requests-oauthlib>=0.7.0->google-auth-oauthlib<2,>=0.5->tensorboard<2.16,>=2.15->tensorflow-macos==2.15.0->tensorflow~=2.15.0->tensorflow-decision-forests==1.8.0) (3.3.1)\n",
            "Requirement already satisfied: MarkupSafe>=2.1.1 in ./nums/lib/python3.11/site-packages (from werkzeug>=1.0.1->tensorboard<2.16,>=2.15->tensorflow-macos==2.15.0->tensorflow~=2.15.0->tensorflow-decision-forests==1.8.0) (3.0.3)\n",
            "Requirement already satisfied: python-dateutil>=2.8.2 in ./nums/lib/python3.11/site-packages (from pandas->tensorflow-decision-forests==1.8.0) (2.9.0.post0)\n",
            "Collecting pytz>=2020.1 (from pandas->tensorflow-decision-forests==1.8.0)\n",
            "  Using cached pytz-2025.2-py2.py3-none-any.whl.metadata (22 kB)\n",
            "Collecting tzdata>=2022.7 (from pandas->tensorflow-decision-forests==1.8.0)\n",
            "  Using cached tzdata-2025.2-py2.py3-none-any.whl.metadata (1.4 kB)\n",
            "Using cached tensorflow_decision_forests-1.8.0-cp311-cp311-macosx_12_0_arm64.whl (11.5 MB)\n",
            "Using cached pandas-2.3.3-cp311-cp311-macosx_11_0_arm64.whl (10.8 MB)\n",
            "Using cached pytz-2025.2-py2.py3-none-any.whl (509 kB)\n",
            "Using cached tzdata-2025.2-py2.py3-none-any.whl (347 kB)\n",
            "Using cached wurlitzer-3.1.1-py3-none-any.whl (8.6 kB)\n",
            "Installing collected packages: pytz, wurlitzer, tzdata, pandas, tensorflow-decision-forests\n",
            "\u001b[2K   \u001b[90m━━━━━━━━━━━━━━━━━━━━━━━━━━━━━━━━━━━━━━━━\u001b[0m \u001b[32m5/5\u001b[0m [tensorflow-decision-forests]-decision-forests]\n",
            "\u001b[1A\u001b[2KSuccessfully installed pandas-2.3.3 pytz-2025.2 tensorflow-decision-forests-1.8.0 tzdata-2025.2 wurlitzer-3.1.1\n"
          ]
        }
      ],
      "source": [
        "!pip install tensorflow-decision-forests==1.8.0"
      ]
    },
    {
      "cell_type": "code",
      "execution_count": 5,
      "metadata": {
        "id": "M_e0tg3UhL4k"
      },
      "outputs": [],
      "source": [
        "#nvcc --version"
      ]
    },
    {
      "cell_type": "code",
      "execution_count": 6,
      "metadata": {
        "id": "GC3yXFxWkhZ9"
      },
      "outputs": [],
      "source": [
        "# Montar Google Drive\n",
        "#from google.colab import drive\n",
        "#drive.mount('/gdrive')"
      ]
    },
    {
      "cell_type": "code",
      "execution_count": 8,
      "metadata": {},
      "outputs": [
        {
          "name": "stdout",
          "output_type": "stream",
          "text": [
            "Collecting tensorflow_datasets\n",
            "  Using cached tensorflow_datasets-4.9.9-py3-none-any.whl.metadata (11 kB)\n",
            "Requirement already satisfied: absl-py in ./nums/lib/python3.11/site-packages (from tensorflow_datasets) (2.3.1)\n",
            "Collecting dm-tree (from tensorflow_datasets)\n",
            "  Using cached dm_tree-0.1.9-cp311-cp311-macosx_10_9_universal2.whl.metadata (2.4 kB)\n",
            "Collecting etils>=1.9.1 (from etils[edc,enp,epath,epy,etree]>=1.9.1; python_version >= \"3.11\"->tensorflow_datasets)\n",
            "  Using cached etils-1.13.0-py3-none-any.whl.metadata (6.5 kB)\n",
            "Collecting immutabledict (from tensorflow_datasets)\n",
            "  Using cached immutabledict-4.2.1-py3-none-any.whl.metadata (3.5 kB)\n",
            "Requirement already satisfied: numpy in ./nums/lib/python3.11/site-packages (from tensorflow_datasets) (1.26.4)\n",
            "Collecting promise (from tensorflow_datasets)\n",
            "  Using cached promise-2.3-py3-none-any.whl\n",
            "Requirement already satisfied: protobuf>=3.20 in ./nums/lib/python3.11/site-packages (from tensorflow_datasets) (4.25.8)\n",
            "Requirement already satisfied: psutil in ./nums/lib/python3.11/site-packages (from tensorflow_datasets) (7.1.0)\n",
            "Collecting pyarrow (from tensorflow_datasets)\n",
            "  Using cached pyarrow-21.0.0-cp311-cp311-macosx_12_0_arm64.whl.metadata (3.3 kB)\n",
            "Requirement already satisfied: requests>=2.19.0 in ./nums/lib/python3.11/site-packages (from tensorflow_datasets) (2.32.5)\n",
            "Collecting simple_parsing (from tensorflow_datasets)\n",
            "  Using cached simple_parsing-0.1.7-py3-none-any.whl.metadata (7.3 kB)\n",
            "Collecting tensorflow-metadata (from tensorflow_datasets)\n",
            "  Using cached tensorflow_metadata-1.17.2-py3-none-any.whl.metadata (2.5 kB)\n",
            "Requirement already satisfied: termcolor in ./nums/lib/python3.11/site-packages (from tensorflow_datasets) (3.1.0)\n",
            "Collecting toml (from tensorflow_datasets)\n",
            "  Using cached toml-0.10.2-py2.py3-none-any.whl.metadata (7.1 kB)\n",
            "Collecting tqdm (from tensorflow_datasets)\n",
            "  Using cached tqdm-4.67.1-py3-none-any.whl.metadata (57 kB)\n",
            "Requirement already satisfied: wrapt in ./nums/lib/python3.11/site-packages (from tensorflow_datasets) (1.14.2)\n",
            "Collecting einops (from etils[edc,enp,epath,epy,etree]>=1.9.1; python_version >= \"3.11\"->tensorflow_datasets)\n",
            "  Using cached einops-0.8.1-py3-none-any.whl.metadata (13 kB)\n",
            "Collecting fsspec (from etils[edc,enp,epath,epy,etree]>=1.9.1; python_version >= \"3.11\"->tensorflow_datasets)\n",
            "  Using cached fsspec-2025.9.0-py3-none-any.whl.metadata (10 kB)\n",
            "Collecting importlib_resources (from etils[edc,enp,epath,epy,etree]>=1.9.1; python_version >= \"3.11\"->tensorflow_datasets)\n",
            "  Using cached importlib_resources-6.5.2-py3-none-any.whl.metadata (3.9 kB)\n",
            "Requirement already satisfied: typing_extensions in ./nums/lib/python3.11/site-packages (from etils[edc,enp,epath,epy,etree]>=1.9.1; python_version >= \"3.11\"->tensorflow_datasets) (4.15.0)\n",
            "Collecting zipp (from etils[edc,enp,epath,epy,etree]>=1.9.1; python_version >= \"3.11\"->tensorflow_datasets)\n",
            "  Using cached zipp-3.23.0-py3-none-any.whl.metadata (3.6 kB)\n",
            "Requirement already satisfied: charset_normalizer<4,>=2 in ./nums/lib/python3.11/site-packages (from requests>=2.19.0->tensorflow_datasets) (3.4.3)\n",
            "Requirement already satisfied: idna<4,>=2.5 in ./nums/lib/python3.11/site-packages (from requests>=2.19.0->tensorflow_datasets) (3.10)\n",
            "Requirement already satisfied: urllib3<3,>=1.21.1 in ./nums/lib/python3.11/site-packages (from requests>=2.19.0->tensorflow_datasets) (2.5.0)\n",
            "Requirement already satisfied: certifi>=2017.4.17 in ./nums/lib/python3.11/site-packages (from requests>=2.19.0->tensorflow_datasets) (2025.10.5)\n",
            "Collecting attrs>=18.2.0 (from dm-tree->tensorflow_datasets)\n",
            "  Using cached attrs-25.3.0-py3-none-any.whl.metadata (10 kB)\n",
            "Requirement already satisfied: six in ./nums/lib/python3.11/site-packages (from promise->tensorflow_datasets) (1.17.0)\n",
            "Collecting docstring-parser<1.0,>=0.15 (from simple_parsing->tensorflow_datasets)\n",
            "  Using cached docstring_parser-0.17.0-py3-none-any.whl.metadata (3.5 kB)\n",
            "Collecting googleapis-common-protos<2,>=1.56.4 (from tensorflow-metadata->tensorflow_datasets)\n",
            "  Using cached googleapis_common_protos-1.70.0-py3-none-any.whl.metadata (9.3 kB)\n",
            "Using cached tensorflow_datasets-4.9.9-py3-none-any.whl (5.3 MB)\n",
            "Using cached etils-1.13.0-py3-none-any.whl (170 kB)\n",
            "Using cached dm_tree-0.1.9-cp311-cp311-macosx_10_9_universal2.whl (173 kB)\n",
            "Using cached attrs-25.3.0-py3-none-any.whl (63 kB)\n",
            "Using cached einops-0.8.1-py3-none-any.whl (64 kB)\n",
            "Using cached fsspec-2025.9.0-py3-none-any.whl (199 kB)\n",
            "Using cached immutabledict-4.2.1-py3-none-any.whl (4.7 kB)\n",
            "Using cached importlib_resources-6.5.2-py3-none-any.whl (37 kB)\n",
            "Using cached pyarrow-21.0.0-cp311-cp311-macosx_12_0_arm64.whl (31.2 MB)\n",
            "Using cached simple_parsing-0.1.7-py3-none-any.whl (112 kB)\n",
            "Using cached docstring_parser-0.17.0-py3-none-any.whl (36 kB)\n",
            "Using cached tensorflow_metadata-1.17.2-py3-none-any.whl (31 kB)\n",
            "Using cached googleapis_common_protos-1.70.0-py3-none-any.whl (294 kB)\n",
            "Using cached toml-0.10.2-py2.py3-none-any.whl (16 kB)\n",
            "Using cached tqdm-4.67.1-py3-none-any.whl (78 kB)\n",
            "Using cached zipp-3.23.0-py3-none-any.whl (10 kB)\n",
            "Installing collected packages: zipp, tqdm, toml, pyarrow, promise, importlib_resources, immutabledict, googleapis-common-protos, fsspec, etils, einops, docstring-parser, attrs, tensorflow-metadata, simple_parsing, dm-tree, tensorflow_datasets\n",
            "\u001b[2K   \u001b[90m━━━━━━━━━━━━━━━━━━━━━━━━━━━━━━━━━━━━━━━━\u001b[0m \u001b[32m17/17\u001b[0m [tensorflow_datasets]nsorflow_datasets]otos]\n",
            "\u001b[1A\u001b[2KSuccessfully installed attrs-25.3.0 dm-tree-0.1.9 docstring-parser-0.17.0 einops-0.8.1 etils-1.13.0 fsspec-2025.9.0 googleapis-common-protos-1.70.0 immutabledict-4.2.1 importlib_resources-6.5.2 promise-2.3 pyarrow-21.0.0 simple_parsing-0.1.7 tensorflow-metadata-1.17.2 tensorflow_datasets-4.9.9 toml-0.10.2 tqdm-4.67.1 zipp-3.23.0\n"
          ]
        }
      ],
      "source": [
        "!pip install tensorflow_datasets"
      ]
    },
    {
      "cell_type": "code",
      "execution_count": 9,
      "metadata": {
        "id": "Lsf5KZsAK9uD"
      },
      "outputs": [],
      "source": [
        "import math\n",
        "import tensorflow_datasets as tfds"
      ]
    },
    {
      "cell_type": "code",
      "execution_count": 10,
      "metadata": {
        "id": "fJRIvjzTLUOL"
      },
      "outputs": [],
      "source": [
        "#Funcion de normalizacion para los datos (Pasar valor de los pixeles de 0-255 a 0-1)\n",
        "#Hace que la red aprenda mejor y mas rapido\n",
        "def normalizar(imagenes, etiquetas):\n",
        "  imagenes = tf.cast(imagenes, tf.float32)\n",
        "  imagenes /= 255 #Aqui lo pasa de 0-255 a 0-1\n",
        "  return imagenes, etiquetas"
      ]
    },
    {
      "cell_type": "code",
      "execution_count": 11,
      "metadata": {
        "colab": {
          "base_uri": "https://localhost:8080/",
          "height": 84,
          "referenced_widgets": [
            "6b225505fc534b6ba46458b1596f14c5",
            "2c11c31ea25744a4b95e246ef7f635e3",
            "fe33c03ca6174bed8c964a93feb53df1",
            "49b4cf216dd1404db52cac7bb02b1d98",
            "f1dcb4c155554c40b874906c2c7bd1d8",
            "e5d44f6b7dec4e929b424a21ae3b0380",
            "81bd1e9a14634e0db61b474e8c32835a",
            "a4639019426e4d4f8ceb396dbb1c44a9",
            "acf7d35c14114fde9bd12345fe3c8710",
            "356bb926beb042819daa837452b2ac77",
            "cf72f27d0534478e94564e103850b793"
          ]
        },
        "id": "2ky3epk1LZf6",
        "outputId": "2692255b-855f-4197-bd41-77d25cbfcc64"
      },
      "outputs": [
        {
          "name": "stderr",
          "output_type": "stream",
          "text": [
            "2025-10-05 19:15:36.766235: I metal_plugin/src/device/metal_device.cc:1154] Metal device set to: Apple M1\n",
            "2025-10-05 19:15:36.766289: I metal_plugin/src/device/metal_device.cc:296] systemMemory: 16.00 GB\n",
            "2025-10-05 19:15:36.766307: I metal_plugin/src/device/metal_device.cc:313] maxCacheSize: 5.33 GB\n",
            "2025-10-05 19:15:36.766378: I tensorflow/core/common_runtime/pluggable_device/pluggable_device_factory.cc:306] Could not identify NUMA node of platform GPU ID 0, defaulting to 0. Your kernel may not have been built with NUMA support.\n",
            "2025-10-05 19:15:36.766432: I tensorflow/core/common_runtime/pluggable_device/pluggable_device_factory.cc:272] Created TensorFlow device (/job:localhost/replica:0/task:0/device:GPU:0 with 0 MB memory) -> physical PluggableDevice (device: 0, name: METAL, pci bus id: <undefined>)\n"
          ]
        }
      ],
      "source": [
        "#Descargar set de datos de MNIST (Numeros escritos a mano, etiquetados)\n",
        "datos, metadatos = tfds.load('mnist', as_supervised=True, with_info=True)\n",
        "\n",
        "#Obtenemos en variables separadas los datos de entrenamiento (60k) y pruebas (10k)\n",
        "datos_entrenamiento, datos_pruebas = datos['train'], datos['test']"
      ]
    },
    {
      "cell_type": "code",
      "execution_count": 12,
      "metadata": {
        "colab": {
          "base_uri": "https://localhost:8080/"
        },
        "id": "3JKlVW97AAb_",
        "outputId": "dc308fab-1025-47e7-f396-b423e31992f8"
      },
      "outputs": [
        {
          "data": {
            "text/plain": [
              "{'train': <_PrefetchDataset element_spec=(TensorSpec(shape=(28, 28, 1), dtype=tf.uint8, name=None), TensorSpec(shape=(), dtype=tf.int64, name=None))>,\n",
              " 'test': <_PrefetchDataset element_spec=(TensorSpec(shape=(28, 28, 1), dtype=tf.uint8, name=None), TensorSpec(shape=(), dtype=tf.int64, name=None))>}"
            ]
          },
          "execution_count": 12,
          "metadata": {},
          "output_type": "execute_result"
        }
      ],
      "source": [
        "datos"
      ]
    },
    {
      "cell_type": "code",
      "execution_count": 13,
      "metadata": {
        "id": "IoKSqc1tLZca"
      },
      "outputs": [],
      "source": [
        "#Etiquetas de las 10 categorias posibles (simplemente son los numeros del 0 al 9)\n",
        "nombres_clases = metadatos.features['label'].names"
      ]
    },
    {
      "cell_type": "code",
      "execution_count": 14,
      "metadata": {
        "colab": {
          "base_uri": "https://localhost:8080/"
        },
        "id": "GEJRxrG56sFQ",
        "outputId": "4a6e5b73-0aec-47f8-b69b-35d89458a4af"
      },
      "outputs": [
        {
          "data": {
            "text/plain": [
              "['0', '1', '2', '3', '4', '5', '6', '7', '8', '9']"
            ]
          },
          "execution_count": 14,
          "metadata": {},
          "output_type": "execute_result"
        }
      ],
      "source": [
        "nombres_clases"
      ]
    },
    {
      "cell_type": "code",
      "execution_count": 15,
      "metadata": {
        "id": "JX4qP7G4LZYy"
      },
      "outputs": [],
      "source": [
        "#Normalizar los datos de entrenamiento y pruebas con la funcion que hicimos\n",
        "datos_entrenamiento = datos_entrenamiento.map(normalizar)\n",
        "datos_pruebas = datos_pruebas.map(normalizar)"
      ]
    },
    {
      "cell_type": "code",
      "execution_count": 16,
      "metadata": {
        "id": "syNA_MlFLeEN"
      },
      "outputs": [],
      "source": [
        "#Agregar a cache (usar memoria en lugar de disco, entrenamiento mas rapido)\n",
        "datos_entrenamiento = datos_entrenamiento.cache()\n",
        "datos_pruebas = datos_pruebas.cache()"
      ]
    },
    {
      "cell_type": "code",
      "execution_count": 17,
      "metadata": {
        "colab": {
          "base_uri": "https://localhost:8080/"
        },
        "id": "_5P1Pttp-P-r",
        "outputId": "a29faccd-091e-44aa-b328-5ef5d44a210c"
      },
      "outputs": [
        {
          "data": {
            "text/plain": [
              "<CacheDataset element_spec=(TensorSpec(shape=(28, 28, 1), dtype=tf.float32, name=None), TensorSpec(shape=(), dtype=tf.int64, name=None))>"
            ]
          },
          "execution_count": 17,
          "metadata": {},
          "output_type": "execute_result"
        }
      ],
      "source": [
        "datos_entrenamiento"
      ]
    },
    {
      "cell_type": "code",
      "execution_count": 18,
      "metadata": {
        "id": "zvCY69gtLg8q"
      },
      "outputs": [],
      "source": [
        "#Crear el modelo\n",
        "modelo = tf.keras.Sequential([\n",
        "    tf.keras.layers.Flatten( input_shape=(28, 28, 1)),\n",
        "    tf.keras.layers.Dense(512, activation='relu'),\n",
        "    tf.keras.layers.Dropout(0.5),\n",
        "    tf.keras.layers.Dense(512, activation='relu'),\n",
        "    tf.keras.layers.Dropout(0.5),\n",
        "    tf.keras.layers.Dense(128, activation='relu'),\n",
        "    tf.keras.layers.Dropout(0.5),\n",
        "    tf.keras.layers.Dense(10, activation=tf.nn.softmax) #Para redes de clasificacion\n",
        "])"
      ]
    },
    {
      "cell_type": "code",
      "execution_count": 19,
      "metadata": {
        "id": "pEIBlVKPnpBq"
      },
      "outputs": [],
      "source": [
        "#Compilar el modelo\n",
        "modelo.compile(\n",
        "    optimizer='adam',\n",
        "    loss=tf.keras.losses.SparseCategoricalCrossentropy(),\n",
        "    metrics=['accuracy']\n",
        ")"
      ]
    },
    {
      "cell_type": "code",
      "execution_count": 20,
      "metadata": {
        "id": "r8Afbqvc-Kjz"
      },
      "outputs": [],
      "source": [
        "#Los numeros de datos en entrenamiento y pruebas (60k y 10k)\n",
        "num_ej_entrenamiento = metadatos.splits[\"train\"].num_examples\n",
        "num_ej_pruebas = metadatos.splits[\"test\"].num_examples\n",
        "\n",
        "#El trabajo por lotes permite que entrenamientos con gran cantidad de datos se haga de manera mas eficiente\n",
        "TAMANO_LOTE = 32"
      ]
    },
    {
      "cell_type": "code",
      "execution_count": 21,
      "metadata": {
        "id": "yG0yziCNLpqi"
      },
      "outputs": [],
      "source": [
        "#Shuffle y repeat hacen que los datos esten mezclados de manera aleatoria para que la red\n",
        "#no se vaya a aprender el orden de las cosas\n",
        "datos_entrenamiento = datos_entrenamiento.repeat().shuffle(num_ej_entrenamiento).batch(TAMANO_LOTE)\n",
        "datos_pruebas = datos_pruebas.batch(TAMANO_LOTE)"
      ]
    },
    {
      "cell_type": "code",
      "execution_count": 22,
      "metadata": {
        "colab": {
          "base_uri": "https://localhost:8080/"
        },
        "id": "mQ1ar9wNLmJb",
        "outputId": "c7d973bb-7203-48e8-fcae-e658f6e4ad43"
      },
      "outputs": [
        {
          "name": "stdout",
          "output_type": "stream",
          "text": [
            "Epoch 1/20\n"
          ]
        },
        {
          "name": "stderr",
          "output_type": "stream",
          "text": [
            "2025-10-05 19:15:53.897763: I tensorflow/core/grappler/optimizers/custom_graph_optimizer_registry.cc:117] Plugin optimizer for device_type GPU is enabled.\n"
          ]
        },
        {
          "name": "stdout",
          "output_type": "stream",
          "text": [
            "1875/1875 [==============================] - 22s 9ms/step - loss: 3.7378 - accuracy: 0.7062 - val_loss: 4.0082 - val_accuracy: 0.8591\n",
            "Epoch 2/20\n",
            "1875/1875 [==============================] - 16s 9ms/step - loss: 115.0106 - accuracy: 0.7059 - val_loss: 191.6370 - val_accuracy: 0.7677\n",
            "Epoch 3/20\n",
            "1875/1875 [==============================] - 16s 8ms/step - loss: 678.9518 - accuracy: 0.7243 - val_loss: 553.0920 - val_accuracy: 0.8375\n",
            "Epoch 4/20\n",
            "1875/1875 [==============================] - 17s 9ms/step - loss: 2005.6472 - accuracy: 0.7256 - val_loss: 1354.1395 - val_accuracy: 0.8532\n",
            "Epoch 5/20\n",
            "1875/1875 [==============================] - 16s 9ms/step - loss: 4242.4399 - accuracy: 0.7297 - val_loss: 3526.2383 - val_accuracy: 0.8236\n",
            "Epoch 6/20\n",
            "1875/1875 [==============================] - 16s 8ms/step - loss: 7974.4658 - accuracy: 0.7283 - val_loss: 3566.9099 - val_accuracy: 0.8644\n",
            "Epoch 7/20\n",
            "1875/1875 [==============================] - 15s 8ms/step - loss: 12203.1143 - accuracy: 0.7307 - val_loss: 8456.8340 - val_accuracy: 0.8369\n",
            "Epoch 8/20\n",
            "1875/1875 [==============================] - 15s 8ms/step - loss: 18845.4824 - accuracy: 0.7291 - val_loss: 8481.1279 - val_accuracy: 0.8635\n",
            "Epoch 9/20\n",
            "1875/1875 [==============================] - 16s 8ms/step - loss: 27840.6855 - accuracy: 0.7232 - val_loss: 13907.6494 - val_accuracy: 0.8492\n",
            "Epoch 10/20\n",
            "1875/1875 [==============================] - 17s 9ms/step - loss: 38158.1133 - accuracy: 0.7237 - val_loss: 20081.2871 - val_accuracy: 0.8480\n",
            "Epoch 11/20\n",
            "1875/1875 [==============================] - 17s 9ms/step - loss: 49277.2188 - accuracy: 0.7305 - val_loss: 24714.3320 - val_accuracy: 0.8569\n",
            "Epoch 12/20\n",
            "1875/1875 [==============================] - 16s 9ms/step - loss: 65723.5781 - accuracy: 0.7262 - val_loss: 24784.1348 - val_accuracy: 0.8755\n",
            "Epoch 13/20\n",
            "1875/1875 [==============================] - 16s 9ms/step - loss: 85446.0234 - accuracy: 0.7280 - val_loss: 38015.8594 - val_accuracy: 0.8448\n",
            "Epoch 14/20\n",
            "1875/1875 [==============================] - 17s 9ms/step - loss: 106859.5312 - accuracy: 0.7276 - val_loss: 65225.0039 - val_accuracy: 0.7998\n",
            "Epoch 15/20\n",
            "1875/1875 [==============================] - 16s 9ms/step - loss: 130593.0078 - accuracy: 0.7257 - val_loss: 55306.9688 - val_accuracy: 0.8719\n",
            "Epoch 16/20\n",
            "1875/1875 [==============================] - 17s 9ms/step - loss: 161348.6406 - accuracy: 0.7248 - val_loss: 105134.5000 - val_accuracy: 0.7931\n",
            "Epoch 17/20\n",
            "1875/1875 [==============================] - 17s 9ms/step - loss: 186362.4531 - accuracy: 0.7303 - val_loss: 122917.9297 - val_accuracy: 0.8253\n",
            "Epoch 18/20\n",
            "1875/1875 [==============================] - 16s 9ms/step - loss: 227052.1875 - accuracy: 0.7246 - val_loss: 122936.3047 - val_accuracy: 0.8461\n",
            "Epoch 19/20\n",
            "1875/1875 [==============================] - 16s 9ms/step - loss: 269305.5000 - accuracy: 0.7258 - val_loss: 240238.0781 - val_accuracy: 0.8148\n",
            "Epoch 20/20\n",
            "1875/1875 [==============================] - 16s 9ms/step - loss: 312428.1875 - accuracy: 0.7237 - val_loss: 159886.9062 - val_accuracy: 0.8462\n",
            "CPU times: user 5min 13s, sys: 2min 18s, total: 7min 32s\n",
            "Wall time: 5min 31s\n"
          ]
        }
      ],
      "source": [
        "# tiempo estimado 6 mins\n",
        "%time historial = modelo.fit(datos_entrenamiento, epochs=20, validation_data=datos_pruebas, steps_per_epoch= math.ceil(num_ej_entrenamiento/TAMANO_LOTE), verbose=1 )"
      ]
    },
    {
      "cell_type": "code",
      "execution_count": 23,
      "metadata": {
        "colab": {
          "base_uri": "https://localhost:8080/"
        },
        "id": "p2ipMyLRJcpW",
        "outputId": "1ba11047-72e7-4088-8af4-27ff3db105e8"
      },
      "outputs": [
        {
          "name": "stdout",
          "output_type": "stream",
          "text": [
            "Model: \"sequential\"\n",
            "_________________________________________________________________\n",
            " Layer (type)                Output Shape              Param #   \n",
            "=================================================================\n",
            " flatten (Flatten)           (None, 784)               0         \n",
            "                                                                 \n",
            " dense (Dense)               (None, 512)               401920    \n",
            "                                                                 \n",
            " dropout (Dropout)           (None, 512)               0         \n",
            "                                                                 \n",
            " dense_1 (Dense)             (None, 512)               262656    \n",
            "                                                                 \n",
            " dropout_1 (Dropout)         (None, 512)               0         \n",
            "                                                                 \n",
            " dense_2 (Dense)             (None, 128)               65664     \n",
            "                                                                 \n",
            " dropout_2 (Dropout)         (None, 128)               0         \n",
            "                                                                 \n",
            " dense_3 (Dense)             (None, 10)                1290      \n",
            "                                                                 \n",
            "=================================================================\n",
            "Total params: 731530 (2.79 MB)\n",
            "Trainable params: 731530 (2.79 MB)\n",
            "Non-trainable params: 0 (0.00 Byte)\n",
            "_________________________________________________________________\n"
          ]
        }
      ],
      "source": [
        "modelo.summary()"
      ]
    },
    {
      "cell_type": "code",
      "execution_count": 25,
      "metadata": {},
      "outputs": [
        {
          "name": "stdout",
          "output_type": "stream",
          "text": [
            "Collecting matplotlib\n",
            "  Using cached matplotlib-3.10.6-cp311-cp311-macosx_11_0_arm64.whl.metadata (11 kB)\n",
            "Collecting contourpy>=1.0.1 (from matplotlib)\n",
            "  Using cached contourpy-1.3.3-cp311-cp311-macosx_11_0_arm64.whl.metadata (5.5 kB)\n",
            "Collecting cycler>=0.10 (from matplotlib)\n",
            "  Using cached cycler-0.12.1-py3-none-any.whl.metadata (3.8 kB)\n",
            "Collecting fonttools>=4.22.0 (from matplotlib)\n",
            "  Using cached fonttools-4.60.1-cp311-cp311-macosx_10_9_universal2.whl.metadata (112 kB)\n",
            "Collecting kiwisolver>=1.3.1 (from matplotlib)\n",
            "  Using cached kiwisolver-1.4.9-cp311-cp311-macosx_11_0_arm64.whl.metadata (6.3 kB)\n",
            "Requirement already satisfied: numpy>=1.23 in ./nums/lib/python3.11/site-packages (from matplotlib) (1.26.4)\n",
            "Requirement already satisfied: packaging>=20.0 in ./nums/lib/python3.11/site-packages (from matplotlib) (25.0)\n",
            "Collecting pillow>=8 (from matplotlib)\n",
            "  Using cached pillow-11.3.0-cp311-cp311-macosx_11_0_arm64.whl.metadata (9.0 kB)\n",
            "Collecting pyparsing>=2.3.1 (from matplotlib)\n",
            "  Using cached pyparsing-3.2.5-py3-none-any.whl.metadata (5.0 kB)\n",
            "Requirement already satisfied: python-dateutil>=2.7 in ./nums/lib/python3.11/site-packages (from matplotlib) (2.9.0.post0)\n",
            "Requirement already satisfied: six>=1.5 in ./nums/lib/python3.11/site-packages (from python-dateutil>=2.7->matplotlib) (1.17.0)\n",
            "Using cached matplotlib-3.10.6-cp311-cp311-macosx_11_0_arm64.whl (8.1 MB)\n",
            "Using cached contourpy-1.3.3-cp311-cp311-macosx_11_0_arm64.whl (270 kB)\n",
            "Using cached cycler-0.12.1-py3-none-any.whl (8.3 kB)\n",
            "Using cached fonttools-4.60.1-cp311-cp311-macosx_10_9_universal2.whl (2.8 MB)\n",
            "Using cached kiwisolver-1.4.9-cp311-cp311-macosx_11_0_arm64.whl (65 kB)\n",
            "Using cached pillow-11.3.0-cp311-cp311-macosx_11_0_arm64.whl (4.7 MB)\n",
            "Using cached pyparsing-3.2.5-py3-none-any.whl (113 kB)\n",
            "Installing collected packages: pyparsing, pillow, kiwisolver, fonttools, cycler, contourpy, matplotlib\n",
            "\u001b[2K   \u001b[90m━━━━━━━━━━━━━━━━━━━━━━━━━━━━━━━━━━━━━━━━\u001b[0m \u001b[32m7/7\u001b[0m [matplotlib]7\u001b[0m [matplotlib]\n",
            "\u001b[1A\u001b[2KSuccessfully installed contourpy-1.3.3 cycler-0.12.1 fonttools-4.60.1 kiwisolver-1.4.9 matplotlib-3.10.6 pillow-11.3.0 pyparsing-3.2.5\n"
          ]
        }
      ],
      "source": [
        "!pip install matplotlib"
      ]
    },
    {
      "cell_type": "code",
      "execution_count": 26,
      "metadata": {
        "colab": {
          "base_uri": "https://localhost:8080/"
        },
        "id": "mkBfyB-VkL8O",
        "outputId": "e5221433-946c-433a-9c14-be28ce0b0c62"
      },
      "outputs": [
        {
          "data": {
            "image/png": "[encoded data removed]",
            "text/plain": [
              "<Figure size 640x480 with 1 Axes>"
            ]
          },
          "metadata": {},
          "output_type": "display_data"
        },
        {
          "data": {
            "image/png": "[encoded data removed]",
            "text/plain": [
              "<Figure size 640x480 with 1 Axes>"
            ]
          },
          "metadata": {},
          "output_type": "display_data"
        }
      ],
      "source": [
        "import matplotlib.pyplot as plt\n",
        "\n",
        "plt.subplot(1,2,1)\n",
        "plt.plot(historial.epoch,historial.history['loss'], 'b',label='error')\n",
        "plt.title(u'categorical_crossentropy')\n",
        "plt.xlabel(u'época')\n",
        "plt.ylabel(r'$loss(\\omega, b)$')\n",
        "plt.grid(True)\n",
        "#plt.legend(loc='upper right')\n",
        "plt.show()\n",
        "\n",
        "plt.subplot(1,2,2)\n",
        "plt.plot(historial.epoch,historial.history['accuracy'], 'r',label='precisión')\n",
        "#plt.title(u'categorical_crossentropy')\n",
        "plt.xlabel(u'época')\n",
        "plt.ylabel(r'$accuracy(\\omega, b)$')\n",
        "plt.ylim([0,1.1])\n",
        "plt.grid(True)\n",
        "#plt.legend(loc='lower right')\n",
        "plt.show()"
      ]
    },
    {
      "cell_type": "markdown",
      "metadata": {
        "id": "CMgBI20rn3Kd"
      },
      "source": [
        "#Exportar el modelo a TensorFlow.js"
      ]
    },
    {
      "cell_type": "code",
      "execution_count": 27,
      "metadata": {
        "colab": {
          "base_uri": "https://localhost:8080/"
        },
        "id": "5CyUUqBbnFtt",
        "outputId": "07284925-216f-4208-ee73-1f3fb1881d3f"
      },
      "outputs": [
        {
          "name": "stdout",
          "output_type": "stream",
          "text": [
            "Collecting tensorflowjs\n",
            "  Using cached tensorflowjs-4.22.0-py3-none-any.whl.metadata (3.2 kB)\n",
            "Collecting flax>=0.7.2 (from tensorflowjs)\n",
            "  Using cached flax-0.12.0-py3-none-any.whl.metadata (11 kB)\n",
            "Requirement already satisfied: importlib_resources>=5.9.0 in ./nums/lib/python3.11/site-packages (from tensorflowjs) (6.5.2)\n",
            "Collecting jax>=0.4.13 (from tensorflowjs)\n",
            "  Using cached jax-0.7.2-py3-none-any.whl.metadata (13 kB)\n",
            "Collecting jaxlib>=0.4.13 (from tensorflowjs)\n",
            "  Using cached jaxlib-0.7.2-cp311-cp311-macosx_11_0_arm64.whl.metadata (1.3 kB)\n",
            "Requirement already satisfied: tensorflow<3,>=2.13.0 in ./nums/lib/python3.11/site-packages (from tensorflowjs) (2.15.0)\n",
            "Collecting tf-keras>=2.13.0 (from tensorflowjs)\n",
            "  Using cached tf_keras-2.20.1-py3-none-any.whl.metadata (1.8 kB)\n",
            "Requirement already satisfied: tensorflow-decision-forests>=1.5.0 in ./nums/lib/python3.11/site-packages (from tensorflowjs) (1.8.0)\n",
            "Requirement already satisfied: six<2,>=1.16.0 in ./nums/lib/python3.11/site-packages (from tensorflowjs) (1.17.0)\n",
            "Collecting tensorflow-hub>=0.16.1 (from tensorflowjs)\n",
            "  Using cached tensorflow_hub-0.16.1-py2.py3-none-any.whl.metadata (1.3 kB)\n",
            "Collecting packaging~=23.1 (from tensorflowjs)\n",
            "  Using cached packaging-23.2-py3-none-any.whl.metadata (3.2 kB)\n",
            "Requirement already satisfied: tensorflow-macos==2.15.0 in ./nums/lib/python3.11/site-packages (from tensorflow<3,>=2.13.0->tensorflowjs) (2.15.0)\n",
            "Requirement already satisfied: absl-py>=1.0.0 in ./nums/lib/python3.11/site-packages (from tensorflow-macos==2.15.0->tensorflow<3,>=2.13.0->tensorflowjs) (2.3.1)\n",
            "Requirement already satisfied: astunparse>=1.6.0 in ./nums/lib/python3.11/site-packages (from tensorflow-macos==2.15.0->tensorflow<3,>=2.13.0->tensorflowjs) (1.6.3)\n",
            "Requirement already satisfied: flatbuffers>=23.5.26 in ./nums/lib/python3.11/site-packages (from tensorflow-macos==2.15.0->tensorflow<3,>=2.13.0->tensorflowjs) (25.9.23)\n",
            "Requirement already satisfied: gast!=0.5.0,!=0.5.1,!=0.5.2,>=0.2.1 in ./nums/lib/python3.11/site-packages (from tensorflow-macos==2.15.0->tensorflow<3,>=2.13.0->tensorflowjs) (0.6.0)\n",
            "Requirement already satisfied: google-pasta>=0.1.1 in ./nums/lib/python3.11/site-packages (from tensorflow-macos==2.15.0->tensorflow<3,>=2.13.0->tensorflowjs) (0.2.0)\n",
            "Requirement already satisfied: h5py>=2.9.0 in ./nums/lib/python3.11/site-packages (from tensorflow-macos==2.15.0->tensorflow<3,>=2.13.0->tensorflowjs) (3.14.0)\n",
            "Requirement already satisfied: libclang>=13.0.0 in ./nums/lib/python3.11/site-packages (from tensorflow-macos==2.15.0->tensorflow<3,>=2.13.0->tensorflowjs) (18.1.1)\n",
            "Requirement already satisfied: ml-dtypes~=0.2.0 in ./nums/lib/python3.11/site-packages (from tensorflow-macos==2.15.0->tensorflow<3,>=2.13.0->tensorflowjs) (0.2.0)\n",
            "Requirement already satisfied: numpy<2.0.0,>=1.23.5 in ./nums/lib/python3.11/site-packages (from tensorflow-macos==2.15.0->tensorflow<3,>=2.13.0->tensorflowjs) (1.26.4)\n",
            "Requirement already satisfied: opt-einsum>=2.3.2 in ./nums/lib/python3.11/site-packages (from tensorflow-macos==2.15.0->tensorflow<3,>=2.13.0->tensorflowjs) (3.4.0)\n",
            "Requirement already satisfied: protobuf!=4.21.0,!=4.21.1,!=4.21.2,!=4.21.3,!=4.21.4,!=4.21.5,<5.0.0dev,>=3.20.3 in ./nums/lib/python3.11/site-packages (from tensorflow-macos==2.15.0->tensorflow<3,>=2.13.0->tensorflowjs) (4.25.8)\n",
            "Requirement already satisfied: setuptools in ./nums/lib/python3.11/site-packages (from tensorflow-macos==2.15.0->tensorflow<3,>=2.13.0->tensorflowjs) (80.9.0)\n",
            "Requirement already satisfied: termcolor>=1.1.0 in ./nums/lib/python3.11/site-packages (from tensorflow-macos==2.15.0->tensorflow<3,>=2.13.0->tensorflowjs) (3.1.0)\n",
            "Requirement already satisfied: typing-extensions>=3.6.6 in ./nums/lib/python3.11/site-packages (from tensorflow-macos==2.15.0->tensorflow<3,>=2.13.0->tensorflowjs) (4.15.0)\n",
            "Requirement already satisfied: wrapt<1.15,>=1.11.0 in ./nums/lib/python3.11/site-packages (from tensorflow-macos==2.15.0->tensorflow<3,>=2.13.0->tensorflowjs) (1.14.2)\n",
            "Requirement already satisfied: tensorflow-io-gcs-filesystem>=0.23.1 in ./nums/lib/python3.11/site-packages (from tensorflow-macos==2.15.0->tensorflow<3,>=2.13.0->tensorflowjs) (0.37.1)\n",
            "Requirement already satisfied: grpcio<2.0,>=1.24.3 in ./nums/lib/python3.11/site-packages (from tensorflow-macos==2.15.0->tensorflow<3,>=2.13.0->tensorflowjs) (1.75.1)\n",
            "Requirement already satisfied: tensorboard<2.16,>=2.15 in ./nums/lib/python3.11/site-packages (from tensorflow-macos==2.15.0->tensorflow<3,>=2.13.0->tensorflowjs) (2.15.2)\n",
            "Requirement already satisfied: tensorflow-estimator<2.16,>=2.15.0 in ./nums/lib/python3.11/site-packages (from tensorflow-macos==2.15.0->tensorflow<3,>=2.13.0->tensorflowjs) (2.15.0)\n",
            "Requirement already satisfied: keras<2.16,>=2.15.0 in ./nums/lib/python3.11/site-packages (from tensorflow-macos==2.15.0->tensorflow<3,>=2.13.0->tensorflowjs) (2.15.0)\n",
            "Requirement already satisfied: google-auth<3,>=1.6.3 in ./nums/lib/python3.11/site-packages (from tensorboard<2.16,>=2.15->tensorflow-macos==2.15.0->tensorflow<3,>=2.13.0->tensorflowjs) (2.41.1)\n",
            "Requirement already satisfied: google-auth-oauthlib<2,>=0.5 in ./nums/lib/python3.11/site-packages (from tensorboard<2.16,>=2.15->tensorflow-macos==2.15.0->tensorflow<3,>=2.13.0->tensorflowjs) (1.2.2)\n",
            "Requirement already satisfied: markdown>=2.6.8 in ./nums/lib/python3.11/site-packages (from tensorboard<2.16,>=2.15->tensorflow-macos==2.15.0->tensorflow<3,>=2.13.0->tensorflowjs) (3.9)\n",
            "Requirement already satisfied: requests<3,>=2.21.0 in ./nums/lib/python3.11/site-packages (from tensorboard<2.16,>=2.15->tensorflow-macos==2.15.0->tensorflow<3,>=2.13.0->tensorflowjs) (2.32.5)\n",
            "Requirement already satisfied: tensorboard-data-server<0.8.0,>=0.7.0 in ./nums/lib/python3.11/site-packages (from tensorboard<2.16,>=2.15->tensorflow-macos==2.15.0->tensorflow<3,>=2.13.0->tensorflowjs) (0.7.2)\n",
            "Requirement already satisfied: werkzeug>=1.0.1 in ./nums/lib/python3.11/site-packages (from tensorboard<2.16,>=2.15->tensorflow-macos==2.15.0->tensorflow<3,>=2.13.0->tensorflowjs) (3.1.3)\n",
            "Requirement already satisfied: cachetools<7.0,>=2.0.0 in ./nums/lib/python3.11/site-packages (from google-auth<3,>=1.6.3->tensorboard<2.16,>=2.15->tensorflow-macos==2.15.0->tensorflow<3,>=2.13.0->tensorflowjs) (6.2.0)\n",
            "Requirement already satisfied: pyasn1-modules>=0.2.1 in ./nums/lib/python3.11/site-packages (from google-auth<3,>=1.6.3->tensorboard<2.16,>=2.15->tensorflow-macos==2.15.0->tensorflow<3,>=2.13.0->tensorflowjs) (0.4.2)\n",
            "Requirement already satisfied: rsa<5,>=3.1.4 in ./nums/lib/python3.11/site-packages (from google-auth<3,>=1.6.3->tensorboard<2.16,>=2.15->tensorflow-macos==2.15.0->tensorflow<3,>=2.13.0->tensorflowjs) (4.9.1)\n",
            "Requirement already satisfied: requests-oauthlib>=0.7.0 in ./nums/lib/python3.11/site-packages (from google-auth-oauthlib<2,>=0.5->tensorboard<2.16,>=2.15->tensorflow-macos==2.15.0->tensorflow<3,>=2.13.0->tensorflowjs) (2.0.0)\n",
            "Requirement already satisfied: charset_normalizer<4,>=2 in ./nums/lib/python3.11/site-packages (from requests<3,>=2.21.0->tensorboard<2.16,>=2.15->tensorflow-macos==2.15.0->tensorflow<3,>=2.13.0->tensorflowjs) (3.4.3)\n",
            "Requirement already satisfied: idna<4,>=2.5 in ./nums/lib/python3.11/site-packages (from requests<3,>=2.21.0->tensorboard<2.16,>=2.15->tensorflow-macos==2.15.0->tensorflow<3,>=2.13.0->tensorflowjs) (3.10)\n",
            "Requirement already satisfied: urllib3<3,>=1.21.1 in ./nums/lib/python3.11/site-packages (from requests<3,>=2.21.0->tensorboard<2.16,>=2.15->tensorflow-macos==2.15.0->tensorflow<3,>=2.13.0->tensorflowjs) (2.5.0)\n",
            "Requirement already satisfied: certifi>=2017.4.17 in ./nums/lib/python3.11/site-packages (from requests<3,>=2.21.0->tensorboard<2.16,>=2.15->tensorflow-macos==2.15.0->tensorflow<3,>=2.13.0->tensorflowjs) (2025.10.5)\n",
            "Requirement already satisfied: pyasn1>=0.1.3 in ./nums/lib/python3.11/site-packages (from rsa<5,>=3.1.4->google-auth<3,>=1.6.3->tensorboard<2.16,>=2.15->tensorflow-macos==2.15.0->tensorflow<3,>=2.13.0->tensorflowjs) (0.6.1)\n",
            "Requirement already satisfied: wheel<1.0,>=0.23.0 in ./nums/lib/python3.11/site-packages (from astunparse>=1.6.0->tensorflow-macos==2.15.0->tensorflow<3,>=2.13.0->tensorflowjs) (0.45.1)\n",
            "Collecting msgpack (from flax>=0.7.2->tensorflowjs)\n",
            "  Using cached msgpack-1.1.1-cp311-cp311-macosx_11_0_arm64.whl.metadata (8.4 kB)\n",
            "Collecting optax (from flax>=0.7.2->tensorflowjs)\n",
            "  Using cached optax-0.2.6-py3-none-any.whl.metadata (7.6 kB)\n",
            "Collecting orbax-checkpoint (from flax>=0.7.2->tensorflowjs)\n",
            "  Using cached orbax_checkpoint-0.11.25-py3-none-any.whl.metadata (2.3 kB)\n",
            "Collecting tensorstore (from flax>=0.7.2->tensorflowjs)\n",
            "  Using cached tensorstore-0.1.77-cp311-cp311-macosx_11_0_arm64.whl.metadata (21 kB)\n",
            "Collecting rich>=11.1 (from flax>=0.7.2->tensorflowjs)\n",
            "  Using cached rich-14.1.0-py3-none-any.whl.metadata (18 kB)\n",
            "Collecting PyYAML>=5.4.1 (from flax>=0.7.2->tensorflowjs)\n",
            "  Using cached pyyaml-6.0.3-cp311-cp311-macosx_11_0_arm64.whl.metadata (2.4 kB)\n",
            "Collecting treescope>=0.1.7 (from flax>=0.7.2->tensorflowjs)\n",
            "  Using cached treescope-0.1.10-py3-none-any.whl.metadata (6.6 kB)\n",
            "INFO: pip is looking at multiple versions of jax to determine which version is compatible with other requirements. This could take a while.\n",
            "Collecting jax>=0.4.13 (from tensorflowjs)\n",
            "  Using cached jax-0.7.1-py3-none-any.whl.metadata (13 kB)\n",
            "Collecting jaxlib>=0.4.13 (from tensorflowjs)\n",
            "  Using cached jaxlib-0.7.1-cp311-cp311-macosx_11_0_arm64.whl.metadata (1.3 kB)\n",
            "Collecting flax>=0.7.2 (from tensorflowjs)\n",
            "  Using cached flax-0.11.2-py3-none-any.whl.metadata (11 kB)\n",
            "Collecting jax>=0.4.13 (from tensorflowjs)\n",
            "  Using cached jax-0.7.0-py3-none-any.whl.metadata (13 kB)\n",
            "Collecting jaxlib>=0.4.13 (from tensorflowjs)\n",
            "  Using cached jaxlib-0.7.0-cp311-cp311-macosx_11_0_arm64.whl.metadata (1.3 kB)\n",
            "Collecting jax>=0.4.13 (from tensorflowjs)\n",
            "  Using cached jax-0.6.2-py3-none-any.whl.metadata (13 kB)\n",
            "Collecting jaxlib>=0.4.13 (from tensorflowjs)\n",
            "  Using cached jaxlib-0.6.2-cp311-cp311-macosx_11_0_arm64.whl.metadata (1.3 kB)\n",
            "Collecting jax>=0.4.13 (from tensorflowjs)\n",
            "  Using cached jax-0.6.1-py3-none-any.whl.metadata (13 kB)\n",
            "Collecting jaxlib>=0.4.13 (from tensorflowjs)\n",
            "  Using cached jaxlib-0.6.1-cp311-cp311-macosx_11_0_arm64.whl.metadata (1.2 kB)\n",
            "Collecting jax>=0.4.13 (from tensorflowjs)\n",
            "  Using cached jax-0.6.0-py3-none-any.whl.metadata (22 kB)\n",
            "Collecting jaxlib>=0.4.13 (from tensorflowjs)\n",
            "  Using cached jaxlib-0.6.0-cp311-cp311-macosx_11_0_arm64.whl.metadata (1.2 kB)\n",
            "INFO: pip is still looking at multiple versions of jax to determine which version is compatible with other requirements. This could take a while.\n",
            "Collecting jax>=0.4.13 (from tensorflowjs)\n",
            "  Using cached jax-0.5.3-py3-none-any.whl.metadata (22 kB)\n",
            "Collecting jaxlib>=0.4.13 (from tensorflowjs)\n",
            "  Using cached jaxlib-0.5.3-cp311-cp311-macosx_11_0_arm64.whl.metadata (1.2 kB)\n",
            "Collecting jax>=0.4.13 (from tensorflowjs)\n",
            "  Using cached jax-0.5.2-py3-none-any.whl.metadata (22 kB)\n",
            "Collecting jaxlib>=0.4.13 (from tensorflowjs)\n",
            "  Using cached jaxlib-0.5.1-cp311-cp311-macosx_11_0_arm64.whl.metadata (978 bytes)\n",
            "Collecting jax>=0.4.13 (from tensorflowjs)\n",
            "  Using cached jax-0.5.1-py3-none-any.whl.metadata (22 kB)\n",
            "  Using cached jax-0.5.0-py3-none-any.whl.metadata (22 kB)\n",
            "Collecting jaxlib>=0.4.13 (from tensorflowjs)\n",
            "  Using cached jaxlib-0.5.0-cp311-cp311-macosx_11_0_arm64.whl.metadata (978 bytes)\n",
            "Collecting jax>=0.4.13 (from tensorflowjs)\n",
            "  Using cached jax-0.4.38-py3-none-any.whl.metadata (22 kB)\n",
            "Collecting jaxlib>=0.4.13 (from tensorflowjs)\n",
            "  Using cached jaxlib-0.4.38-cp311-cp311-macosx_11_0_arm64.whl.metadata (1.0 kB)\n",
            "INFO: This is taking longer than usual. You might need to provide the dependency resolver with stricter constraints to reduce runtime. See https://pip.pypa.io/warnings/backtracking for guidance. If you want to abort this run, press Ctrl + C.\n",
            "Collecting jax>=0.4.13 (from tensorflowjs)\n",
            "  Using cached jax-0.4.37-py3-none-any.whl.metadata (22 kB)\n",
            "Collecting jaxlib>=0.4.13 (from tensorflowjs)\n",
            "  Using cached jaxlib-0.4.36-cp311-cp311-macosx_11_0_arm64.whl.metadata (1.0 kB)\n",
            "Collecting jax>=0.4.13 (from tensorflowjs)\n",
            "  Using cached jax-0.4.36-py3-none-any.whl.metadata (22 kB)\n",
            "  Using cached jax-0.4.35-py3-none-any.whl.metadata (22 kB)\n",
            "Collecting jaxlib>=0.4.13 (from tensorflowjs)\n",
            "  Using cached jaxlib-0.4.35-cp311-cp311-macosx_11_0_arm64.whl.metadata (983 bytes)\n",
            "Collecting jax>=0.4.13 (from tensorflowjs)\n",
            "  Using cached jax-0.4.34-py3-none-any.whl.metadata (22 kB)\n",
            "Collecting jaxlib>=0.4.13 (from tensorflowjs)\n",
            "  Using cached jaxlib-0.4.34-cp311-cp311-macosx_11_0_arm64.whl.metadata (983 bytes)\n",
            "Collecting scipy>=1.10 (from jax>=0.4.13->tensorflowjs)\n",
            "  Using cached scipy-1.16.2-cp311-cp311-macosx_14_0_arm64.whl.metadata (62 kB)\n",
            "Collecting flax>=0.7.2 (from tensorflowjs)\n",
            "  Using cached flax-0.11.1-py3-none-any.whl.metadata (11 kB)\n",
            "  Using cached flax-0.11.0-py3-none-any.whl.metadata (11 kB)\n",
            "  Using cached flax-0.10.7-py3-none-any.whl.metadata (11 kB)\n",
            "  Using cached flax-0.10.6-py3-none-any.whl.metadata (11 kB)\n",
            "  Using cached flax-0.10.5-py3-none-any.whl.metadata (11 kB)\n",
            "  Using cached flax-0.10.4-py3-none-any.whl.metadata (11 kB)\n",
            "Requirement already satisfied: oauthlib>=3.0.0 in ./nums/lib/python3.11/site-packages (from requests-oauthlib>=0.7.0->google-auth-oauthlib<2,>=0.5->tensorboard<2.16,>=2.15->tensorflow-macos==2.15.0->tensorflow<3,>=2.13.0->tensorflowjs) (3.3.1)\n",
            "Collecting markdown-it-py>=2.2.0 (from rich>=11.1->flax>=0.7.2->tensorflowjs)\n",
            "  Using cached markdown_it_py-4.0.0-py3-none-any.whl.metadata (7.3 kB)\n",
            "Requirement already satisfied: pygments<3.0.0,>=2.13.0 in ./nums/lib/python3.11/site-packages (from rich>=11.1->flax>=0.7.2->tensorflowjs) (2.19.2)\n",
            "Collecting mdurl~=0.1 (from markdown-it-py>=2.2.0->rich>=11.1->flax>=0.7.2->tensorflowjs)\n",
            "  Using cached mdurl-0.1.2-py3-none-any.whl.metadata (1.6 kB)\n",
            "Requirement already satisfied: pandas in ./nums/lib/python3.11/site-packages (from tensorflow-decision-forests>=1.5.0->tensorflowjs) (2.3.3)\n",
            "Requirement already satisfied: wurlitzer in ./nums/lib/python3.11/site-packages (from tensorflow-decision-forests>=1.5.0->tensorflowjs) (3.1.1)\n",
            "INFO: pip is looking at multiple versions of tf-keras to determine which version is compatible with other requirements. This could take a while.\n",
            "Collecting tf-keras>=2.13.0 (from tensorflowjs)\n",
            "  Using cached tf_keras-2.19.0-py3-none-any.whl.metadata (1.8 kB)\n",
            "  Using cached tf_keras-2.18.0-py3-none-any.whl.metadata (1.6 kB)\n",
            "  Using cached tf_keras-2.17.0-py3-none-any.whl.metadata (1.6 kB)\n",
            "  Using cached tf_keras-2.16.0-py3-none-any.whl.metadata (1.6 kB)\n",
            "  Using cached tf_keras-2.15.1-py3-none-any.whl.metadata (1.7 kB)\n",
            "Requirement already satisfied: MarkupSafe>=2.1.1 in ./nums/lib/python3.11/site-packages (from werkzeug>=1.0.1->tensorboard<2.16,>=2.15->tensorflow-macos==2.15.0->tensorflow<3,>=2.13.0->tensorflowjs) (3.0.3)\n",
            "Collecting chex>=0.1.87 (from optax->flax>=0.7.2->tensorflowjs)\n",
            "  Using cached chex-0.1.91-py3-none-any.whl.metadata (18 kB)\n",
            "INFO: pip is looking at multiple versions of optax to determine which version is compatible with other requirements. This could take a while.\n",
            "Collecting optax (from flax>=0.7.2->tensorflowjs)\n",
            "  Using cached optax-0.2.5-py3-none-any.whl.metadata (7.5 kB)\n",
            "INFO: pip is looking at multiple versions of chex to determine which version is compatible with other requirements. This could take a while.\n",
            "Collecting chex>=0.1.87 (from optax->flax>=0.7.2->tensorflowjs)\n",
            "  Using cached chex-0.1.90-py3-none-any.whl.metadata (18 kB)\n",
            "Collecting toolz>=0.9.0 (from chex>=0.1.87->optax->flax>=0.7.2->tensorflowjs)\n",
            "  Using cached toolz-1.0.0-py3-none-any.whl.metadata (5.1 kB)\n",
            "Requirement already satisfied: etils[epath,epy] in ./nums/lib/python3.11/site-packages (from orbax-checkpoint->flax>=0.7.2->tensorflowjs) (1.13.0)\n",
            "Requirement already satisfied: nest_asyncio in ./nums/lib/python3.11/site-packages (from orbax-checkpoint->flax>=0.7.2->tensorflowjs) (1.6.0)\n",
            "Collecting aiofiles (from orbax-checkpoint->flax>=0.7.2->tensorflowjs)\n",
            "  Using cached aiofiles-24.1.0-py3-none-any.whl.metadata (10 kB)\n",
            "Collecting humanize (from orbax-checkpoint->flax>=0.7.2->tensorflowjs)\n",
            "  Using cached humanize-4.13.0-py3-none-any.whl.metadata (7.8 kB)\n",
            "Collecting simplejson>=3.16.0 (from orbax-checkpoint->flax>=0.7.2->tensorflowjs)\n",
            "  Using cached simplejson-3.20.2-cp311-cp311-macosx_11_0_arm64.whl.metadata (3.4 kB)\n",
            "Collecting orbax-checkpoint (from flax>=0.7.2->tensorflowjs)\n",
            "  Using cached orbax_checkpoint-0.11.24-py3-none-any.whl.metadata (2.3 kB)\n",
            "  Using cached orbax_checkpoint-0.11.23-py3-none-any.whl.metadata (2.3 kB)\n",
            "  Using cached orbax_checkpoint-0.11.22-py3-none-any.whl.metadata (2.3 kB)\n",
            "  Using cached orbax_checkpoint-0.11.21-py3-none-any.whl.metadata (2.3 kB)\n",
            "  Using cached orbax_checkpoint-0.11.20-py3-none-any.whl.metadata (2.3 kB)\n",
            "  Using cached orbax_checkpoint-0.11.19-py3-none-any.whl.metadata (2.2 kB)\n",
            "  Using cached orbax_checkpoint-0.11.18-py3-none-any.whl.metadata (2.2 kB)\n",
            "  Using cached orbax_checkpoint-0.11.17-py3-none-any.whl.metadata (2.2 kB)\n",
            "  Using cached orbax_checkpoint-0.11.16-py3-none-any.whl.metadata (2.0 kB)\n",
            "  Using cached orbax_checkpoint-0.11.15-py3-none-any.whl.metadata (2.0 kB)\n",
            "  Using cached orbax_checkpoint-0.11.14-py3-none-any.whl.metadata (2.0 kB)\n",
            "  Using cached orbax_checkpoint-0.11.13-py3-none-any.whl.metadata (2.0 kB)\n",
            "  Using cached orbax_checkpoint-0.11.12-py3-none-any.whl.metadata (2.0 kB)\n",
            "  Using cached orbax_checkpoint-0.11.11-py3-none-any.whl.metadata (2.0 kB)\n",
            "  Using cached orbax_checkpoint-0.11.10-py3-none-any.whl.metadata (2.0 kB)\n",
            "  Using cached orbax_checkpoint-0.11.9-py3-none-any.whl.metadata (2.0 kB)\n",
            "  Using cached orbax_checkpoint-0.11.8-py3-none-any.whl.metadata (2.0 kB)\n",
            "  Using cached orbax_checkpoint-0.11.7-py3-none-any.whl.metadata (2.0 kB)\n",
            "  Using cached orbax_checkpoint-0.11.6-py3-none-any.whl.metadata (1.9 kB)\n",
            "  Using cached orbax_checkpoint-0.11.5-py3-none-any.whl.metadata (1.9 kB)\n",
            "INFO: pip is looking at multiple versions of tensorstore to determine which version is compatible with other requirements. This could take a while.\n",
            "Collecting tensorstore (from flax>=0.7.2->tensorflowjs)\n",
            "  Using cached tensorstore-0.1.76-cp311-cp311-macosx_11_0_arm64.whl.metadata (21 kB)\n",
            "  Using cached tensorstore-0.1.75-cp311-cp311-macosx_11_0_arm64.whl.metadata (21 kB)\n",
            "  Using cached tensorstore-0.1.74-cp311-cp311-macosx_11_0_arm64.whl.metadata (21 kB)\n",
            "  Downloading tensorstore-0.1.73-cp311-cp311-macosx_11_0_arm64.whl.metadata (21 kB)\n",
            "  Downloading tensorstore-0.1.72-cp311-cp311-macosx_11_0_arm64.whl.metadata (21 kB)\n",
            "  Downloading tensorstore-0.1.71-cp311-cp311-macosx_11_0_arm64.whl.metadata (21 kB)\n",
            "  Downloading tensorstore-0.1.69-cp311-cp311-macosx_11_0_arm64.whl.metadata (3.0 kB)\n",
            "INFO: pip is still looking at multiple versions of tensorstore to determine which version is compatible with other requirements. This could take a while.\n",
            "  Downloading tensorstore-0.1.68-cp311-cp311-macosx_11_0_arm64.whl.metadata (3.0 kB)\n",
            "Collecting orbax-checkpoint (from flax>=0.7.2->tensorflowjs)\n",
            "  Downloading orbax_checkpoint-0.11.4-py3-none-any.whl.metadata (1.9 kB)\n",
            "INFO: This is taking longer than usual. You might need to provide the dependency resolver with stricter constraints to reduce runtime. See https://pip.pypa.io/warnings/backtracking for guidance. If you want to abort this run, press Ctrl + C.\n",
            "Collecting tensorstore (from flax>=0.7.2->tensorflowjs)\n",
            "  Downloading tensorstore-0.1.67-cp311-cp311-macosx_11_0_arm64.whl.metadata (3.0 kB)\n",
            "  Downloading tensorstore-0.1.66-cp311-cp311-macosx_11_0_arm64.whl.metadata (3.0 kB)\n",
            "  Downloading tensorstore-0.1.65-cp311-cp311-macosx_11_0_arm64.whl.metadata (3.0 kB)\n",
            "  Downloading tensorstore-0.1.64-cp311-cp311-macosx_11_0_arm64.whl.metadata (3.0 kB)\n",
            "  Downloading tensorstore-0.1.63-cp311-cp311-macosx_11_0_arm64.whl.metadata (3.0 kB)\n",
            "  Downloading tensorstore-0.1.62-cp311-cp311-macosx_11_0_arm64.whl.metadata (3.0 kB)\n",
            "  Downloading tensorstore-0.1.61-cp311-cp311-macosx_11_0_arm64.whl.metadata (3.0 kB)\n",
            "  Downloading tensorstore-0.1.60-cp311-cp311-macosx_11_0_arm64.whl.metadata (3.0 kB)\n",
            "  Downloading tensorstore-0.1.59-cp311-cp311-macosx_11_0_arm64.whl.metadata (3.0 kB)\n",
            "  Downloading tensorstore-0.1.58-cp311-cp311-macosx_11_0_arm64.whl.metadata (3.0 kB)\n",
            "  Downloading tensorstore-0.1.57-cp311-cp311-macosx_11_0_arm64.whl.metadata (3.0 kB)\n",
            "  Downloading tensorstore-0.1.56-cp311-cp311-macosx_11_0_arm64.whl.metadata (3.0 kB)\n",
            "  Downloading tensorstore-0.1.55-cp311-cp311-macosx_11_0_arm64.whl.metadata (3.0 kB)\n",
            "  Downloading tensorstore-0.1.54-cp311-cp311-macosx_11_0_arm64.whl.metadata (3.0 kB)\n",
            "  Downloading tensorstore-0.1.53-cp311-cp311-macosx_11_0_arm64.whl.metadata (3.0 kB)\n",
            "  Downloading tensorstore-0.1.52-cp311-cp311-macosx_11_0_arm64.whl.metadata (3.0 kB)\n",
            "  Downloading tensorstore-0.1.51-cp311-cp311-macosx_11_0_arm64.whl.metadata (3.0 kB)\n",
            "  Downloading tensorstore-0.1.50-cp311-cp311-macosx_11_0_arm64.whl.metadata (3.0 kB)\n",
            "  Downloading tensorstore-0.1.49-cp311-cp311-macosx_11_0_arm64.whl.metadata (3.0 kB)\n",
            "  Downloading tensorstore-0.1.48-cp311-cp311-macosx_11_0_arm64.whl.metadata (2.9 kB)\n",
            "  Downloading tensorstore-0.1.47-cp311-cp311-macosx_11_0_arm64.whl.metadata (2.9 kB)\n",
            "  Downloading tensorstore-0.1.46-cp311-cp311-macosx_11_0_arm64.whl.metadata (2.9 kB)\n",
            "  Downloading tensorstore-0.1.45-cp311-cp311-macosx_11_0_arm64.whl.metadata (2.9 kB)\n",
            "Collecting orbax-checkpoint (from flax>=0.7.2->tensorflowjs)\n",
            "  Downloading orbax_checkpoint-0.11.3-py3-none-any.whl.metadata (1.9 kB)\n",
            "  Downloading orbax_checkpoint-0.11.2-py3-none-any.whl.metadata (1.9 kB)\n",
            "  Downloading orbax_checkpoint-0.11.1-py3-none-any.whl.metadata (1.9 kB)\n",
            "  Downloading orbax_checkpoint-0.11.0-py3-none-any.whl.metadata (1.9 kB)\n",
            "  Downloading orbax_checkpoint-0.10.3-py3-none-any.whl.metadata (1.9 kB)\n",
            "  Downloading orbax_checkpoint-0.10.2-py3-none-any.whl.metadata (1.9 kB)\n",
            "  Downloading orbax_checkpoint-0.10.1-py3-none-any.whl.metadata (1.9 kB)\n",
            "  Downloading orbax_checkpoint-0.10.0-py3-none-any.whl.metadata (1.9 kB)\n",
            "  Downloading orbax_checkpoint-0.9.1-py3-none-any.whl.metadata (1.8 kB)\n",
            "  Downloading orbax_checkpoint-0.9.0-py3-none-any.whl.metadata (1.8 kB)\n",
            "  Downloading orbax_checkpoint-0.8.0-py3-none-any.whl.metadata (1.8 kB)\n",
            "  Downloading orbax_checkpoint-0.7.0-py3-none-any.whl.metadata (1.8 kB)\n",
            "  Downloading orbax_checkpoint-0.6.4-py3-none-any.whl.metadata (1.8 kB)\n",
            "  Downloading orbax_checkpoint-0.6.3-py3-none-any.whl.metadata (1.8 kB)\n",
            "  Downloading orbax_checkpoint-0.6.2-py3-none-any.whl.metadata (1.8 kB)\n",
            "  Downloading orbax_checkpoint-0.6.1-py3-none-any.whl.metadata (1.8 kB)\n",
            "  Downloading orbax_checkpoint-0.6.0-py3-none-any.whl.metadata (1.8 kB)\n",
            "  Downloading orbax_checkpoint-0.5.23-py3-none-any.whl.metadata (1.8 kB)\n",
            "  Downloading orbax_checkpoint-0.5.22-py3-none-any.whl.metadata (1.8 kB)\n",
            "  Downloading orbax_checkpoint-0.5.21-py3-none-any.whl.metadata (1.8 kB)\n",
            "  Downloading orbax_checkpoint-0.5.20-py3-none-any.whl.metadata (1.8 kB)\n",
            "  Downloading orbax_checkpoint-0.5.19-py3-none-any.whl.metadata (1.8 kB)\n",
            "  Downloading orbax_checkpoint-0.5.18-py3-none-any.whl.metadata (1.8 kB)\n",
            "  Downloading orbax_checkpoint-0.5.17-py3-none-any.whl.metadata (1.8 kB)\n",
            "  Downloading orbax_checkpoint-0.5.16-py3-none-any.whl.metadata (1.8 kB)\n",
            "  Downloading orbax_checkpoint-0.5.15-py3-none-any.whl.metadata (1.8 kB)\n",
            "  Downloading orbax_checkpoint-0.5.14-py3-none-any.whl.metadata (1.8 kB)\n",
            "  Downloading orbax_checkpoint-0.5.13-py3-none-any.whl.metadata (1.8 kB)\n",
            "  Downloading orbax_checkpoint-0.5.12-py3-none-any.whl.metadata (1.8 kB)\n",
            "  Downloading orbax_checkpoint-0.5.11-py3-none-any.whl.metadata (1.8 kB)\n",
            "  Downloading orbax_checkpoint-0.5.10-py3-none-any.whl.metadata (1.8 kB)\n",
            "  Downloading orbax_checkpoint-0.5.9-py3-none-any.whl.metadata (1.7 kB)\n",
            "  Downloading orbax_checkpoint-0.5.8-py3-none-any.whl.metadata (1.7 kB)\n",
            "  Downloading orbax_checkpoint-0.5.7-py3-none-any.whl.metadata (1.7 kB)\n",
            "  Downloading orbax_checkpoint-0.5.6-py3-none-any.whl.metadata (1.7 kB)\n",
            "  Downloading orbax_checkpoint-0.5.5-py3-none-any.whl.metadata (1.7 kB)\n",
            "  Downloading orbax_checkpoint-0.5.4-py3-none-any.whl.metadata (1.7 kB)\n",
            "  Downloading orbax_checkpoint-0.5.3-py3-none-any.whl.metadata (1.7 kB)\n",
            "  Downloading orbax_checkpoint-0.5.2-py3-none-any.whl.metadata (1.7 kB)\n",
            "  Downloading orbax_checkpoint-0.5.1-py3-none-any.whl.metadata (1.7 kB)\n",
            "  Downloading orbax_checkpoint-0.5.0-py3-none-any.whl.metadata (1.7 kB)\n",
            "  Downloading orbax_checkpoint-0.4.8-py3-none-any.whl.metadata (1.7 kB)\n",
            "  Downloading orbax_checkpoint-0.4.7-py3-none-any.whl.metadata (1.7 kB)\n",
            "  Downloading orbax_checkpoint-0.4.6-py3-none-any.whl.metadata (1.7 kB)\n",
            "  Downloading orbax_checkpoint-0.4.5-py3-none-any.whl.metadata (1.7 kB)\n",
            "  Downloading orbax_checkpoint-0.4.4-py3-none-any.whl.metadata (1.7 kB)\n",
            "Requirement already satisfied: fsspec in ./nums/lib/python3.11/site-packages (from etils[epath,epy]->orbax-checkpoint->flax>=0.7.2->tensorflowjs) (2025.9.0)\n",
            "Requirement already satisfied: zipp in ./nums/lib/python3.11/site-packages (from etils[epath,epy]->orbax-checkpoint->flax>=0.7.2->tensorflowjs) (3.23.0)\n",
            "Requirement already satisfied: python-dateutil>=2.8.2 in ./nums/lib/python3.11/site-packages (from pandas->tensorflow-decision-forests>=1.5.0->tensorflowjs) (2.9.0.post0)\n",
            "Requirement already satisfied: pytz>=2020.1 in ./nums/lib/python3.11/site-packages (from pandas->tensorflow-decision-forests>=1.5.0->tensorflowjs) (2025.2)\n",
            "Requirement already satisfied: tzdata>=2022.7 in ./nums/lib/python3.11/site-packages (from pandas->tensorflow-decision-forests>=1.5.0->tensorflowjs) (2025.2)\n",
            "Using cached tensorflowjs-4.22.0-py3-none-any.whl (89 kB)\n",
            "Using cached packaging-23.2-py3-none-any.whl (53 kB)\n",
            "Using cached jax-0.4.34-py3-none-any.whl (2.1 MB)\n",
            "Using cached jaxlib-0.4.34-cp311-cp311-macosx_11_0_arm64.whl (67.6 MB)\n",
            "Using cached flax-0.10.4-py3-none-any.whl (451 kB)\n",
            "Using cached pyyaml-6.0.3-cp311-cp311-macosx_11_0_arm64.whl (175 kB)\n",
            "Using cached rich-14.1.0-py3-none-any.whl (243 kB)\n",
            "Using cached markdown_it_py-4.0.0-py3-none-any.whl (87 kB)\n",
            "Using cached mdurl-0.1.2-py3-none-any.whl (10.0 kB)\n",
            "Using cached scipy-1.16.2-cp311-cp311-macosx_14_0_arm64.whl (20.9 MB)\n",
            "Using cached tensorflow_hub-0.16.1-py2.py3-none-any.whl (30 kB)\n",
            "Using cached tf_keras-2.15.1-py3-none-any.whl (1.7 MB)\n",
            "Using cached treescope-0.1.10-py3-none-any.whl (182 kB)\n",
            "Using cached msgpack-1.1.1-cp311-cp311-macosx_11_0_arm64.whl (79 kB)\n",
            "Using cached optax-0.2.5-py3-none-any.whl (354 kB)\n",
            "Using cached chex-0.1.90-py3-none-any.whl (101 kB)\n",
            "Using cached toolz-1.0.0-py3-none-any.whl (56 kB)\n",
            "Downloading tensorstore-0.1.45-cp311-cp311-macosx_11_0_arm64.whl (12.4 MB)\n",
            "\u001b[2K   \u001b[90m━━━━━━━━━━━━━━━━━━━━━━━━━━━━━━━━━━━━━━━━\u001b[0m \u001b[32m12.4/12.4 MB\u001b[0m \u001b[31m7.1 MB/s\u001b[0m  \u001b[33m0:00:01\u001b[0m eta \u001b[36m0:00:01\u001b[0m\n",
            "\u001b[?25hDownloading orbax_checkpoint-0.4.4-py3-none-any.whl (123 kB)\n",
            "Installing collected packages: treescope, toolz, tensorstore, scipy, PyYAML, packaging, msgpack, mdurl, markdown-it-py, jaxlib, rich, jax, orbax-checkpoint, chex, optax, flax, tf-keras, tensorflow-hub, tensorflowjs\n",
            "\u001b[2K  Attempting uninstall: packaging━━━━━━━━━━━━━━━━━━━━━━━━━━━━━━━━━\u001b[0m \u001b[32m 3/19\u001b[0m [scipy]store]\n",
            "\u001b[2K    Found existing installation: packaging 25.0━━━━━━━━━━━━━━━\u001b[0m \u001b[32m 3/19\u001b[0m [scipy]\n",
            "\u001b[2K    Uninstalling packaging-25.0:━━━━━━━━━━━━━━━━━━━━━━━━━━━━━━\u001b[0m \u001b[32m 3/19\u001b[0m [scipy]\n",
            "\u001b[2K      Successfully uninstalled packaging-25.0━━━━━━━━━━━━━━━━━\u001b[0m \u001b[32m 3/19\u001b[0m [scipy]\n",
            "\u001b[2K   \u001b[90m━━━━━━━━━━━━━━━━━━━━━━━━━━━━━━━━━━━━━━━━\u001b[0m \u001b[32m19/19\u001b[0m [tensorflowjs][0m [tensorflow-hub]t]\n",
            "\u001b[1A\u001b[2KSuccessfully installed PyYAML-6.0.3 chex-0.1.90 flax-0.10.4 jax-0.4.34 jaxlib-0.4.34 markdown-it-py-4.0.0 mdurl-0.1.2 msgpack-1.1.1 optax-0.2.5 orbax-checkpoint-0.4.4 packaging-23.2 rich-14.1.0 scipy-1.16.2 tensorflow-hub-0.16.1 tensorflowjs-4.22.0 tensorstore-0.1.45 tf-keras-2.15.1 toolz-1.0.0 treescope-0.1.10\n",
            "Note: you may need to restart the kernel to use updated packages.\n"
          ]
        }
      ],
      "source": [
        "%pip install tensorflowjs"
      ]
    },
    {
      "cell_type": "code",
      "execution_count": 28,
      "metadata": {
        "colab": {
          "base_uri": "https://localhost:8080/"
        },
        "id": "TQ2VIqRJvuu1",
        "outputId": "4031d9ee-6e3c-44a7-ea30-ce04b940b47f"
      },
      "outputs": [
        {
          "name": "stdout",
          "output_type": "stream",
          "text": [
            "Python version: 3.11.13 (main, Jun  3 2025, 18:38:25) [Clang 17.0.0 (clang-1700.0.13.3)]\n",
            "Keras version: 2.15.0\n",
            "TensorFlow version: 2.15.0\n"
          ]
        }
      ],
      "source": [
        "import sys\n",
        "print(\"Python version:\", sys.version)\n",
        "import keras\n",
        "print(\"Keras version:\", keras.__version__)\n",
        "import tensorflow as tf\n",
        "print(\"TensorFlow version:\", tf.__version__)"
      ]
    },
    {
      "cell_type": "code",
      "execution_count": 29,
      "metadata": {
        "colab": {
          "base_uri": "https://localhost:8080/"
        },
        "id": "9GlPhh49Kgrb",
        "outputId": "a56914b7-291c-49fa-968b-77173fc676e9"
      },
      "outputs": [
        {
          "name": "stderr",
          "output_type": "stream",
          "text": [
            "/Users/ivana/IA-projects/mnist_intento2/nums/lib/python3.11/site-packages/keras/src/engine/training.py:3103: UserWarning: You are saving your model as an HDF5 file via `model.save()`. This file format is considered legacy. We recommend using instead the native Keras format, e.g. `model.save('my_model.keras')`.\n",
            "  saving_api.save_model(\n"
          ]
        }
      ],
      "source": [
        "#Exportar el modelo en formato h5\n",
        "modelo.save('numeros_RegularNet.h5')"
      ]
    },
    {
      "cell_type": "code",
      "execution_count": 30,
      "metadata": {
        "id": "H5PLTZqFKgoZ"
      },
      "outputs": [],
      "source": [
        "#Para convertirlo a tensorflow.js, primero debemos instalar la libreria\n",
        "#!pip install tensorflowjs --use-deprecated=legacy-resolver"
      ]
    },
    {
      "cell_type": "code",
      "execution_count": 31,
      "metadata": {
        "id": "ky2UOLnqKgli"
      },
      "outputs": [],
      "source": [
        "#Crear carpeta donde se colocaran los archivos resultantes\n",
        "!mkdir carpeta_salida"
      ]
    },
    {
      "cell_type": "code",
      "execution_count": 35,
      "metadata": {
        "colab": {
          "base_uri": "https://localhost:8080/"
        },
        "id": "P59I8q1IKgih",
        "outputId": "b3f34deb-04df-48a6-ca74-0ac27efb9bd7"
      },
      "outputs": [
        {
          "name": "stdout",
          "output_type": "stream",
          "text": [
            "/Users/ivana/IA-projects/mnist_intento2/nums/lib/python3.11/site-packages/tensorflow_hub/__init__.py:61: UserWarning: pkg_resources is deprecated as an API. See https://setuptools.pypa.io/en/latest/pkg_resources.html. The pkg_resources package is slated for removal as early as 2025-11-30. Refrain from using this package or pin to Setuptools<81.\n",
            "  from pkg_resources import parse_version\n"
          ]
        }
      ],
      "source": [
        "#Realizar la exportacion a la carpeta de salida\n",
        "!tensorflowjs_converter --input_format keras numeros_RegularNet.h5 carpeta_salida/regular"
      ]
    },
    {
      "cell_type": "code",
      "execution_count": 33,
      "metadata": {
        "colab": {
          "base_uri": "https://localhost:8080/"
        },
        "id": "Jw_TilXKKgfM",
        "outputId": "543eb4d5-2521-47a7-a192-f4ef910641e0"
      },
      "outputs": [
        {
          "name": "stdout",
          "output_type": "stream",
          "text": [
            "total 5736\n",
            "drwxr-xr-x@ 4 ivana  staff      128 Oct  5 20:01 \u001b[34m.\u001b[m\u001b[m\n",
            "drwxr-xr-x  6 ivana  staff      192 Oct  5 20:01 \u001b[34m..\u001b[m\u001b[m\n",
            "-rw-r--r--@ 1 ivana  staff  2926120 Oct  5 20:01 group1-shard1of1.bin\n",
            "-rw-r--r--@ 1 ivana  staff     4435 Oct  5 20:01 model.json\n"
          ]
        }
      ],
      "source": [
        "#Confirmar que en la carpeta de salida se hayan generado los archivos. Deben aparecer archivos \"bin\" y \"json\"\n",
        "!ls -la carpeta_salida"
      ]
    },
    {
      "cell_type": "code",
      "execution_count": 34,
      "metadata": {
        "id": "0dwPYWaR9-Tf"
      },
      "outputs": [],
      "source": [
        "#!rm /content/carpeta_salida/group1-shard1of1.bin"
      ]
    },
    {
      "cell_type": "code",
      "execution_count": null,
      "metadata": {
        "id": "EdVm9ZhE-dtG"
      },
      "outputs": [],
      "source": [
        "#!rm /content/carpeta_salida/model.json"
      ]
    },
    {
      "cell_type": "markdown",
      "metadata": {
        "id": "EdrOdtZw5XRW"
      },
      "source": [
        "\n",
        "\n",
        "---\n",
        "\n",
        "\n",
        "\n",
        "---\n",
        "\n"
      ]
    },
    {
      "cell_type": "markdown",
      "metadata": {
        "id": "RnUgNN58qDho"
      },
      "source": [
        "En la línea de comandos, en el directorio donde está el archivo **index.html** del proyecto\n",
        "\n",
        "\n",
        "\n",
        "```\n",
        "python -m http.server 8000\n",
        "```\n",
        "\n",
        "\n",
        "\n",
        "En el navegador\n",
        "\n",
        "\n",
        "\n",
        "```\n",
        "localhost:8000/index.html\n",
        "```\n",
        "\n",
        "\n"
      ]
    },
    {
      "cell_type": "markdown",
      "metadata": {
        "id": "CLQOaI7jC1Nx"
      },
      "source": [
        "\n",
        "\n",
        "---\n",
        "\n",
        "\n",
        "\n",
        "---\n",
        "\n"
      ]
    },
    {
      "cell_type": "markdown",
      "metadata": {
        "id": "6A1fdV-rC2SZ"
      },
      "source": [
        "Ejecuta el comando\n",
        "\n",
        "\n",
        "\n",
        "```\n",
        "ngrok http http://localhost:8000\n",
        "```\n",
        "\n",
        "\n",
        "\n"
      ]
    }
  ],
  "metadata": {
    "accelerator": "GPU",
    "colab": {
      "gpuType": "T4",
      "provenance": []
    },
    "gpuClass": "standard",
    "kernelspec": {
      "display_name": "nums (3.11.13)",
      "language": "python",
      "name": "python3"
    },
    "language_info": {
      "codemirror_mode": {
        "name": "ipython",
        "version": 3
      },
      "file_extension": ".py",
      "mimetype": "text/x-python",
      "name": "python",
      "nbconvert_exporter": "python",
      "pygments_lexer": "ipython3",
      "version": "3.11.13"
    },
    "widgets": {
      "application/vnd.jupyter.widget-state+json": {
        "2c11c31ea25744a4b95e246ef7f635e3": {
          "model_module": "@jupyter-widgets/controls",
          "model_module_version": "1.5.0",
          "model_name": "HTMLModel",
          "state": {
            "_dom_classes": [],
            "_model_module": "@jupyter-widgets/controls",
            "_model_module_version": "1.5.0",
            "_model_name": "HTMLModel",
            "_view_count": null,
            "_view_module": "@jupyter-widgets/controls",
            "_view_module_version": "1.5.0",
            "_view_name": "HTMLView",
            "description": "",
            "description_tooltip": null,
            "layout": "IPY_MODEL_e5d44f6b7dec4e929b424a21ae3b0380",
            "placeholder": "​",
            "style": "IPY_MODEL_81bd1e9a14634e0db61b474e8c32835a",
            "value": "Dl Completed...: 100%"
          }
        },
        "356bb926beb042819daa837452b2ac77": {
          "model_module": "@jupyter-widgets/base",
          "model_module_version": "1.2.0",
          "model_name": "LayoutModel",
          "state": {
            "_model_module": "@jupyter-widgets/base",
            "_model_module_version": "1.2.0",
            "_model_name": "LayoutModel",
            "_view_count": null,
            "_view_module": "@jupyter-widgets/base",
            "_view_module_version": "1.2.0",
            "_view_name": "LayoutView",
            "align_content": null,
            "align_items": null,
            "align_self": null,
            "border": null,
            "bottom": null,
            "display": null,
            "flex": null,
            "flex_flow": null,
            "grid_area": null,
            "grid_auto_columns": null,
            "grid_auto_flow": null,
            "grid_auto_rows": null,
            "grid_column": null,
            "grid_gap": null,
            "grid_row": null,
            "grid_template_areas": null,
            "grid_template_columns": null,
            "grid_template_rows": null,
            "height": null,
            "justify_content": null,
            "justify_items": null,
            "left": null,
            "margin": null,
            "max_height": null,
            "max_width": null,
            "min_height": null,
            "min_width": null,
            "object_fit": null,
            "object_position": null,
            "order": null,
            "overflow": null,
            "overflow_x": null,
            "overflow_y": null,
            "padding": null,
            "right": null,
            "top": null,
            "visibility": null,
            "width": null
          }
        },
        "49b4cf216dd1404db52cac7bb02b1d98": {
          "model_module": "@jupyter-widgets/controls",
          "model_module_version": "1.5.0",
          "model_name": "HTMLModel",
          "state": {
            "_dom_classes": [],
            "_model_module": "@jupyter-widgets/controls",
            "_model_module_version": "1.5.0",
            "_model_name": "HTMLModel",
            "_view_count": null,
            "_view_module": "@jupyter-widgets/controls",
            "_view_module_version": "1.5.0",
            "_view_name": "HTMLView",
            "description": "",
            "description_tooltip": null,
            "layout": "IPY_MODEL_356bb926beb042819daa837452b2ac77",
            "placeholder": "​",
            "style": "IPY_MODEL_cf72f27d0534478e94564e103850b793",
            "value": " 5/5 [00:03&lt;00:00,  1.16 file/s]"
          }
        },
        "6b225505fc534b6ba46458b1596f14c5": {
          "model_module": "@jupyter-widgets/controls",
          "model_module_version": "1.5.0",
          "model_name": "HBoxModel",
          "state": {
            "_dom_classes": [],
            "_model_module": "@jupyter-widgets/controls",
            "_model_module_version": "1.5.0",
            "_model_name": "HBoxModel",
            "_view_count": null,
            "_view_module": "@jupyter-widgets/controls",
            "_view_module_version": "1.5.0",
            "_view_name": "HBoxView",
            "box_style": "",
            "children": [
              "IPY_MODEL_2c11c31ea25744a4b95e246ef7f635e3",
              "IPY_MODEL_fe33c03ca6174bed8c964a93feb53df1",
              "IPY_MODEL_49b4cf216dd1404db52cac7bb02b1d98"
            ],
            "layout": "IPY_MODEL_f1dcb4c155554c40b874906c2c7bd1d8"
          }
        },
        "81bd1e9a14634e0db61b474e8c32835a": {
          "model_module": "@jupyter-widgets/controls",
          "model_module_version": "1.5.0",
          "model_name": "DescriptionStyleModel",
          "state": {
            "_model_module": "@jupyter-widgets/controls",
            "_model_module_version": "1.5.0",
            "_model_name": "DescriptionStyleModel",
            "_view_count": null,
            "_view_module": "@jupyter-widgets/base",
            "_view_module_version": "1.2.0",
            "_view_name": "StyleView",
            "description_width": ""
          }
        },
        "a4639019426e4d4f8ceb396dbb1c44a9": {
          "model_module": "@jupyter-widgets/base",
          "model_module_version": "1.2.0",
          "model_name": "LayoutModel",
          "state": {
            "_model_module": "@jupyter-widgets/base",
            "_model_module_version": "1.2.0",
            "_model_name": "LayoutModel",
            "_view_count": null,
            "_view_module": "@jupyter-widgets/base",
            "_view_module_version": "1.2.0",
            "_view_name": "LayoutView",
            "align_content": null,
            "align_items": null,
            "align_self": null,
            "border": null,
            "bottom": null,
            "display": null,
            "flex": null,
            "flex_flow": null,
            "grid_area": null,
            "grid_auto_columns": null,
            "grid_auto_flow": null,
            "grid_auto_rows": null,
            "grid_column": null,
            "grid_gap": null,
            "grid_row": null,
            "grid_template_areas": null,
            "grid_template_columns": null,
            "grid_template_rows": null,
            "height": null,
            "justify_content": null,
            "justify_items": null,
            "left": null,
            "margin": null,
            "max_height": null,
            "max_width": null,
            "min_height": null,
            "min_width": null,
            "object_fit": null,
            "object_position": null,
            "order": null,
            "overflow": null,
            "overflow_x": null,
            "overflow_y": null,
            "padding": null,
            "right": null,
            "top": null,
            "visibility": null,
            "width": null
          }
        },
        "acf7d35c14114fde9bd12345fe3c8710": {
          "model_module": "@jupyter-widgets/controls",
          "model_module_version": "1.5.0",
          "model_name": "ProgressStyleModel",
          "state": {
            "_model_module": "@jupyter-widgets/controls",
            "_model_module_version": "1.5.0",
            "_model_name": "ProgressStyleModel",
            "_view_count": null,
            "_view_module": "@jupyter-widgets/base",
            "_view_module_version": "1.2.0",
            "_view_name": "StyleView",
            "bar_color": null,
            "description_width": ""
          }
        },
        "cf72f27d0534478e94564e103850b793": {
          "model_module": "@jupyter-widgets/controls",
          "model_module_version": "1.5.0",
          "model_name": "DescriptionStyleModel",
          "state": {
            "_model_module": "@jupyter-widgets/controls",
            "_model_module_version": "1.5.0",
            "_model_name": "DescriptionStyleModel",
            "_view_count": null,
            "_view_module": "@jupyter-widgets/base",
            "_view_module_version": "1.2.0",
            "_view_name": "StyleView",
            "description_width": ""
          }
        },
        "e5d44f6b7dec4e929b424a21ae3b0380": {
          "model_module": "@jupyter-widgets/base",
          "model_module_version": "1.2.0",
          "model_name": "LayoutModel",
          "state": {
            "_model_module": "@jupyter-widgets/base",
            "_model_module_version": "1.2.0",
            "_model_name": "LayoutModel",
            "_view_count": null,
            "_view_module": "@jupyter-widgets/base",
            "_view_module_version": "1.2.0",
            "_view_name": "LayoutView",
            "align_content": null,
            "align_items": null,
            "align_self": null,
            "border": null,
            "bottom": null,
            "display": null,
            "flex": null,
            "flex_flow": null,
            "grid_area": null,
            "grid_auto_columns": null,
            "grid_auto_flow": null,
            "grid_auto_rows": null,
            "grid_column": null,
            "grid_gap": null,
            "grid_row": null,
            "grid_template_areas": null,
            "grid_template_columns": null,
            "grid_template_rows": null,
            "height": null,
            "justify_content": null,
            "justify_items": null,
            "left": null,
            "margin": null,
            "max_height": null,
            "max_width": null,
            "min_height": null,
            "min_width": null,
            "object_fit": null,
            "object_position": null,
            "order": null,
            "overflow": null,
            "overflow_x": null,
            "overflow_y": null,
            "padding": null,
            "right": null,
            "top": null,
            "visibility": null,
            "width": null
          }
        },
        "f1dcb4c155554c40b874906c2c7bd1d8": {
          "model_module": "@jupyter-widgets/base",
          "model_module_version": "1.2.0",
          "model_name": "LayoutModel",
          "state": {
            "_model_module": "@jupyter-widgets/base",
            "_model_module_version": "1.2.0",
            "_model_name": "LayoutModel",
            "_view_count": null,
            "_view_module": "@jupyter-widgets/base",
            "_view_module_version": "1.2.0",
            "_view_name": "LayoutView",
            "align_content": null,
            "align_items": null,
            "align_self": null,
            "border": null,
            "bottom": null,
            "display": null,
            "flex": null,
            "flex_flow": null,
            "grid_area": null,
            "grid_auto_columns": null,
            "grid_auto_flow": null,
            "grid_auto_rows": null,
            "grid_column": null,
            "grid_gap": null,
            "grid_row": null,
            "grid_template_areas": null,
            "grid_template_columns": null,
            "grid_template_rows": null,
            "height": null,
            "justify_content": null,
            "justify_items": null,
            "left": null,
            "margin": null,
            "max_height": null,
            "max_width": null,
            "min_height": null,
            "min_width": null,
            "object_fit": null,
            "object_position": null,
            "order": null,
            "overflow": null,
            "overflow_x": null,
            "overflow_y": null,
            "padding": null,
            "right": null,
            "top": null,
            "visibility": null,
            "width": null
          }
        },
        "fe33c03ca6174bed8c964a93feb53df1": {
          "model_module": "@jupyter-widgets/controls",
          "model_module_version": "1.5.0",
          "model_name": "FloatProgressModel",
          "state": {
            "_dom_classes": [],
            "_model_module": "@jupyter-widgets/controls",
            "_model_module_version": "1.5.0",
            "_model_name": "FloatProgressModel",
            "_view_count": null,
            "_view_module": "@jupyter-widgets/controls",
            "_view_module_version": "1.5.0",
            "_view_name": "ProgressView",
            "bar_style": "success",
            "description": "",
            "description_tooltip": null,
            "layout": "IPY_MODEL_a4639019426e4d4f8ceb396dbb1c44a9",
            "max": 5,
            "min": 0,
            "orientation": "horizontal",
            "style": "IPY_MODEL_acf7d35c14114fde9bd12345fe3c8710",
            "value": 5
          }
        }
      }
    }
  },
  "nbformat": 4,
  "nbformat_minor": 0
}
